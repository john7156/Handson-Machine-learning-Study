{
  "nbformat": 4,
  "nbformat_minor": 0,
  "metadata": {
    "accelerator": "GPU",
    "colab": {
      "name": "핸즈온 머신러닝 12장",
      "provenance": [],
      "collapsed_sections": [
        "8_Df63lFnFSi",
        "wHvCg6OCnFSl",
        "Bo5Aksa0nFSo",
        "0ivfG84mnFSp",
        "rGDLWUXhnFSq",
        "XI8B76oxnFSu",
        "CnRi0O4YnFSw",
        "69nqOhgSnFSx",
        "3D-erxOBnFSx",
        "9Nh2laLOnFSy",
        "iGEDLTpVnFSz",
        "jKv6EsoMnFS0",
        "1gFgVxYPnFS2"
      ]
    },
    "kernelspec": {
      "display_name": "Python 3",
      "language": "python",
      "name": "python3"
    },
    "language_info": {
      "codemirror_mode": {
        "name": "ipython",
        "version": 3
      },
      "file_extension": ".py",
      "mimetype": "text/x-python",
      "name": "python",
      "nbconvert_exporter": "python",
      "pygments_lexer": "ipython3",
      "version": "3.7.3"
    },
    "widgets": {
      "application/vnd.jupyter.widget-state+json": {
        "bcf308ed877d40cabcca590040b19db9": {
          "model_module": "@jupyter-widgets/controls",
          "model_name": "HBoxModel",
          "model_module_version": "1.5.0",
          "state": {
            "_dom_classes": [],
            "_model_module": "@jupyter-widgets/controls",
            "_model_module_version": "1.5.0",
            "_model_name": "HBoxModel",
            "_view_count": null,
            "_view_module": "@jupyter-widgets/controls",
            "_view_module_version": "1.5.0",
            "_view_name": "HBoxView",
            "box_style": "",
            "children": [
              "IPY_MODEL_6dfcfab30ebf42bfa4e8f99cb6654f37",
              "IPY_MODEL_2a52efd06cbd4bfb8e5dbbe17c6236ab",
              "IPY_MODEL_503dcfb1aa1a47cca810d3ae18347faf"
            ],
            "layout": "IPY_MODEL_0550b859d58c4b21b730ef45b52a97f2"
          }
        },
        "0550b859d58c4b21b730ef45b52a97f2": {
          "model_module": "@jupyter-widgets/base",
          "model_name": "LayoutModel",
          "model_module_version": "1.2.0",
          "state": {
            "_model_module": "@jupyter-widgets/base",
            "_model_module_version": "1.2.0",
            "_model_name": "LayoutModel",
            "_view_count": null,
            "_view_module": "@jupyter-widgets/base",
            "_view_module_version": "1.2.0",
            "_view_name": "LayoutView",
            "align_content": null,
            "align_items": null,
            "align_self": null,
            "border": null,
            "bottom": null,
            "display": null,
            "flex": null,
            "flex_flow": null,
            "grid_area": null,
            "grid_auto_columns": null,
            "grid_auto_flow": null,
            "grid_auto_rows": null,
            "grid_column": null,
            "grid_gap": null,
            "grid_row": null,
            "grid_template_areas": null,
            "grid_template_columns": null,
            "grid_template_rows": null,
            "height": null,
            "justify_content": null,
            "justify_items": null,
            "left": null,
            "margin": null,
            "max_height": null,
            "max_width": null,
            "min_height": null,
            "min_width": null,
            "object_fit": null,
            "object_position": null,
            "order": null,
            "overflow": null,
            "overflow_x": null,
            "overflow_y": null,
            "padding": null,
            "right": null,
            "top": null,
            "visibility": null,
            "width": null
          }
        },
        "6dfcfab30ebf42bfa4e8f99cb6654f37": {
          "model_module": "@jupyter-widgets/controls",
          "model_name": "HTMLModel",
          "model_module_version": "1.5.0",
          "state": {
            "_dom_classes": [],
            "_model_module": "@jupyter-widgets/controls",
            "_model_module_version": "1.5.0",
            "_model_name": "HTMLModel",
            "_view_count": null,
            "_view_module": "@jupyter-widgets/controls",
            "_view_module_version": "1.5.0",
            "_view_name": "HTMLView",
            "description": "",
            "description_tooltip": null,
            "layout": "IPY_MODEL_d00ac2178fda4662bac2b5894225e695",
            "placeholder": "​",
            "style": "IPY_MODEL_b442291bc2fd4afeb00345c601401a48",
            "value": "All epochs: 100%"
          }
        },
        "2a52efd06cbd4bfb8e5dbbe17c6236ab": {
          "model_module": "@jupyter-widgets/controls",
          "model_name": "FloatProgressModel",
          "model_module_version": "1.5.0",
          "state": {
            "_dom_classes": [],
            "_model_module": "@jupyter-widgets/controls",
            "_model_module_version": "1.5.0",
            "_model_name": "FloatProgressModel",
            "_view_count": null,
            "_view_module": "@jupyter-widgets/controls",
            "_view_module_version": "1.5.0",
            "_view_name": "ProgressView",
            "bar_style": "success",
            "description": "",
            "description_tooltip": null,
            "layout": "IPY_MODEL_15750aba26bc47b1b03a133a4cadad3a",
            "max": 5,
            "min": 0,
            "orientation": "horizontal",
            "style": "IPY_MODEL_d40d0e4d6dbc4fe7837af600a714baf5",
            "value": 5
          }
        },
        "503dcfb1aa1a47cca810d3ae18347faf": {
          "model_module": "@jupyter-widgets/controls",
          "model_name": "HTMLModel",
          "model_module_version": "1.5.0",
          "state": {
            "_dom_classes": [],
            "_model_module": "@jupyter-widgets/controls",
            "_model_module_version": "1.5.0",
            "_model_name": "HTMLModel",
            "_view_count": null,
            "_view_module": "@jupyter-widgets/controls",
            "_view_module_version": "1.5.0",
            "_view_name": "HTMLView",
            "description": "",
            "description_tooltip": null,
            "layout": "IPY_MODEL_d0295bc6f1bb4ee38d7ac9244ee54d8e",
            "placeholder": "​",
            "style": "IPY_MODEL_844cea147d9d46c081ade1ef0e117c72",
            "value": " 5/5 [00:49&lt;00:00,  9.84s/it]"
          }
        },
        "b442291bc2fd4afeb00345c601401a48": {
          "model_module": "@jupyter-widgets/controls",
          "model_name": "DescriptionStyleModel",
          "model_module_version": "1.5.0",
          "state": {
            "_model_module": "@jupyter-widgets/controls",
            "_model_module_version": "1.5.0",
            "_model_name": "DescriptionStyleModel",
            "_view_count": null,
            "_view_module": "@jupyter-widgets/base",
            "_view_module_version": "1.2.0",
            "_view_name": "StyleView",
            "description_width": ""
          }
        },
        "d00ac2178fda4662bac2b5894225e695": {
          "model_module": "@jupyter-widgets/base",
          "model_name": "LayoutModel",
          "model_module_version": "1.2.0",
          "state": {
            "_model_module": "@jupyter-widgets/base",
            "_model_module_version": "1.2.0",
            "_model_name": "LayoutModel",
            "_view_count": null,
            "_view_module": "@jupyter-widgets/base",
            "_view_module_version": "1.2.0",
            "_view_name": "LayoutView",
            "align_content": null,
            "align_items": null,
            "align_self": null,
            "border": null,
            "bottom": null,
            "display": null,
            "flex": null,
            "flex_flow": null,
            "grid_area": null,
            "grid_auto_columns": null,
            "grid_auto_flow": null,
            "grid_auto_rows": null,
            "grid_column": null,
            "grid_gap": null,
            "grid_row": null,
            "grid_template_areas": null,
            "grid_template_columns": null,
            "grid_template_rows": null,
            "height": null,
            "justify_content": null,
            "justify_items": null,
            "left": null,
            "margin": null,
            "max_height": null,
            "max_width": null,
            "min_height": null,
            "min_width": null,
            "object_fit": null,
            "object_position": null,
            "order": null,
            "overflow": null,
            "overflow_x": null,
            "overflow_y": null,
            "padding": null,
            "right": null,
            "top": null,
            "visibility": null,
            "width": null
          }
        },
        "d40d0e4d6dbc4fe7837af600a714baf5": {
          "model_module": "@jupyter-widgets/controls",
          "model_name": "ProgressStyleModel",
          "model_module_version": "1.5.0",
          "state": {
            "_model_module": "@jupyter-widgets/controls",
            "_model_module_version": "1.5.0",
            "_model_name": "ProgressStyleModel",
            "_view_count": null,
            "_view_module": "@jupyter-widgets/base",
            "_view_module_version": "1.2.0",
            "_view_name": "StyleView",
            "bar_color": null,
            "description_width": ""
          }
        },
        "15750aba26bc47b1b03a133a4cadad3a": {
          "model_module": "@jupyter-widgets/base",
          "model_name": "LayoutModel",
          "model_module_version": "1.2.0",
          "state": {
            "_model_module": "@jupyter-widgets/base",
            "_model_module_version": "1.2.0",
            "_model_name": "LayoutModel",
            "_view_count": null,
            "_view_module": "@jupyter-widgets/base",
            "_view_module_version": "1.2.0",
            "_view_name": "LayoutView",
            "align_content": null,
            "align_items": null,
            "align_self": null,
            "border": null,
            "bottom": null,
            "display": null,
            "flex": null,
            "flex_flow": null,
            "grid_area": null,
            "grid_auto_columns": null,
            "grid_auto_flow": null,
            "grid_auto_rows": null,
            "grid_column": null,
            "grid_gap": null,
            "grid_row": null,
            "grid_template_areas": null,
            "grid_template_columns": null,
            "grid_template_rows": null,
            "height": null,
            "justify_content": null,
            "justify_items": null,
            "left": null,
            "margin": null,
            "max_height": null,
            "max_width": null,
            "min_height": null,
            "min_width": null,
            "object_fit": null,
            "object_position": null,
            "order": null,
            "overflow": null,
            "overflow_x": null,
            "overflow_y": null,
            "padding": null,
            "right": null,
            "top": null,
            "visibility": null,
            "width": null
          }
        },
        "844cea147d9d46c081ade1ef0e117c72": {
          "model_module": "@jupyter-widgets/controls",
          "model_name": "DescriptionStyleModel",
          "model_module_version": "1.5.0",
          "state": {
            "_model_module": "@jupyter-widgets/controls",
            "_model_module_version": "1.5.0",
            "_model_name": "DescriptionStyleModel",
            "_view_count": null,
            "_view_module": "@jupyter-widgets/base",
            "_view_module_version": "1.2.0",
            "_view_name": "StyleView",
            "description_width": ""
          }
        },
        "d0295bc6f1bb4ee38d7ac9244ee54d8e": {
          "model_module": "@jupyter-widgets/base",
          "model_name": "LayoutModel",
          "model_module_version": "1.2.0",
          "state": {
            "_model_module": "@jupyter-widgets/base",
            "_model_module_version": "1.2.0",
            "_model_name": "LayoutModel",
            "_view_count": null,
            "_view_module": "@jupyter-widgets/base",
            "_view_module_version": "1.2.0",
            "_view_name": "LayoutView",
            "align_content": null,
            "align_items": null,
            "align_self": null,
            "border": null,
            "bottom": null,
            "display": null,
            "flex": null,
            "flex_flow": null,
            "grid_area": null,
            "grid_auto_columns": null,
            "grid_auto_flow": null,
            "grid_auto_rows": null,
            "grid_column": null,
            "grid_gap": null,
            "grid_row": null,
            "grid_template_areas": null,
            "grid_template_columns": null,
            "grid_template_rows": null,
            "height": null,
            "justify_content": null,
            "justify_items": null,
            "left": null,
            "margin": null,
            "max_height": null,
            "max_width": null,
            "min_height": null,
            "min_width": null,
            "object_fit": null,
            "object_position": null,
            "order": null,
            "overflow": null,
            "overflow_x": null,
            "overflow_y": null,
            "padding": null,
            "right": null,
            "top": null,
            "visibility": null,
            "width": null
          }
        },
        "b531e026313f4933943884f6e1e795f5": {
          "model_module": "@jupyter-widgets/controls",
          "model_name": "HBoxModel",
          "model_module_version": "1.5.0",
          "state": {
            "_dom_classes": [],
            "_model_module": "@jupyter-widgets/controls",
            "_model_module_version": "1.5.0",
            "_model_name": "HBoxModel",
            "_view_count": null,
            "_view_module": "@jupyter-widgets/controls",
            "_view_module_version": "1.5.0",
            "_view_name": "HBoxView",
            "box_style": "",
            "children": [
              "IPY_MODEL_e09a357ca8bf49d1b9da060f8eb29224",
              "IPY_MODEL_5f29d13ac54e4d968770d64d1fad99aa",
              "IPY_MODEL_306c5a5eb7dd4afdaab6886e31e99a02"
            ],
            "layout": "IPY_MODEL_fb52f438720d42e7bcf99a27ad7d2eb7"
          }
        },
        "fb52f438720d42e7bcf99a27ad7d2eb7": {
          "model_module": "@jupyter-widgets/base",
          "model_name": "LayoutModel",
          "model_module_version": "1.2.0",
          "state": {
            "_model_module": "@jupyter-widgets/base",
            "_model_module_version": "1.2.0",
            "_model_name": "LayoutModel",
            "_view_count": null,
            "_view_module": "@jupyter-widgets/base",
            "_view_module_version": "1.2.0",
            "_view_name": "LayoutView",
            "align_content": null,
            "align_items": null,
            "align_self": null,
            "border": null,
            "bottom": null,
            "display": null,
            "flex": null,
            "flex_flow": null,
            "grid_area": null,
            "grid_auto_columns": null,
            "grid_auto_flow": null,
            "grid_auto_rows": null,
            "grid_column": null,
            "grid_gap": null,
            "grid_row": null,
            "grid_template_areas": null,
            "grid_template_columns": null,
            "grid_template_rows": null,
            "height": null,
            "justify_content": null,
            "justify_items": null,
            "left": null,
            "margin": null,
            "max_height": null,
            "max_width": null,
            "min_height": null,
            "min_width": null,
            "object_fit": null,
            "object_position": null,
            "order": null,
            "overflow": null,
            "overflow_x": null,
            "overflow_y": null,
            "padding": null,
            "right": null,
            "top": null,
            "visibility": null,
            "width": null
          }
        },
        "e09a357ca8bf49d1b9da060f8eb29224": {
          "model_module": "@jupyter-widgets/controls",
          "model_name": "HTMLModel",
          "model_module_version": "1.5.0",
          "state": {
            "_dom_classes": [],
            "_model_module": "@jupyter-widgets/controls",
            "_model_module_version": "1.5.0",
            "_model_name": "HTMLModel",
            "_view_count": null,
            "_view_module": "@jupyter-widgets/controls",
            "_view_module_version": "1.5.0",
            "_view_name": "HTMLView",
            "description": "",
            "description_tooltip": null,
            "layout": "IPY_MODEL_75d93ec1d61648679862d7ddee5547b9",
            "placeholder": "​",
            "style": "IPY_MODEL_b6a618847516464680c2a16aef583371",
            "value": "Epoch 1/5: 100%"
          }
        },
        "5f29d13ac54e4d968770d64d1fad99aa": {
          "model_module": "@jupyter-widgets/controls",
          "model_name": "FloatProgressModel",
          "model_module_version": "1.5.0",
          "state": {
            "_dom_classes": [],
            "_model_module": "@jupyter-widgets/controls",
            "_model_module_version": "1.5.0",
            "_model_name": "FloatProgressModel",
            "_view_count": null,
            "_view_module": "@jupyter-widgets/controls",
            "_view_module_version": "1.5.0",
            "_view_name": "ProgressView",
            "bar_style": "success",
            "description": "",
            "description_tooltip": null,
            "layout": "IPY_MODEL_4bf89d5e43274887bd1724a2d305e0a4",
            "max": 362,
            "min": 0,
            "orientation": "horizontal",
            "style": "IPY_MODEL_4abc8ad70e6d4112a18aa58394942015",
            "value": 362
          }
        },
        "306c5a5eb7dd4afdaab6886e31e99a02": {
          "model_module": "@jupyter-widgets/controls",
          "model_name": "HTMLModel",
          "model_module_version": "1.5.0",
          "state": {
            "_dom_classes": [],
            "_model_module": "@jupyter-widgets/controls",
            "_model_module_version": "1.5.0",
            "_model_name": "HTMLModel",
            "_view_count": null,
            "_view_module": "@jupyter-widgets/controls",
            "_view_module_version": "1.5.0",
            "_view_name": "HTMLView",
            "description": "",
            "description_tooltip": null,
            "layout": "IPY_MODEL_8c863503d34b45ebbcb9190940434880",
            "placeholder": "​",
            "style": "IPY_MODEL_6cdc302c227b4da9a76120662368e6b8",
            "value": " 362/362 [00:10&lt;00:00, 37.10it/s, loss=0.65, mean_absolute_error=0.522]"
          }
        },
        "b6a618847516464680c2a16aef583371": {
          "model_module": "@jupyter-widgets/controls",
          "model_name": "DescriptionStyleModel",
          "model_module_version": "1.5.0",
          "state": {
            "_model_module": "@jupyter-widgets/controls",
            "_model_module_version": "1.5.0",
            "_model_name": "DescriptionStyleModel",
            "_view_count": null,
            "_view_module": "@jupyter-widgets/base",
            "_view_module_version": "1.2.0",
            "_view_name": "StyleView",
            "description_width": ""
          }
        },
        "75d93ec1d61648679862d7ddee5547b9": {
          "model_module": "@jupyter-widgets/base",
          "model_name": "LayoutModel",
          "model_module_version": "1.2.0",
          "state": {
            "_model_module": "@jupyter-widgets/base",
            "_model_module_version": "1.2.0",
            "_model_name": "LayoutModel",
            "_view_count": null,
            "_view_module": "@jupyter-widgets/base",
            "_view_module_version": "1.2.0",
            "_view_name": "LayoutView",
            "align_content": null,
            "align_items": null,
            "align_self": null,
            "border": null,
            "bottom": null,
            "display": null,
            "flex": null,
            "flex_flow": null,
            "grid_area": null,
            "grid_auto_columns": null,
            "grid_auto_flow": null,
            "grid_auto_rows": null,
            "grid_column": null,
            "grid_gap": null,
            "grid_row": null,
            "grid_template_areas": null,
            "grid_template_columns": null,
            "grid_template_rows": null,
            "height": null,
            "justify_content": null,
            "justify_items": null,
            "left": null,
            "margin": null,
            "max_height": null,
            "max_width": null,
            "min_height": null,
            "min_width": null,
            "object_fit": null,
            "object_position": null,
            "order": null,
            "overflow": null,
            "overflow_x": null,
            "overflow_y": null,
            "padding": null,
            "right": null,
            "top": null,
            "visibility": null,
            "width": null
          }
        },
        "4abc8ad70e6d4112a18aa58394942015": {
          "model_module": "@jupyter-widgets/controls",
          "model_name": "ProgressStyleModel",
          "model_module_version": "1.5.0",
          "state": {
            "_model_module": "@jupyter-widgets/controls",
            "_model_module_version": "1.5.0",
            "_model_name": "ProgressStyleModel",
            "_view_count": null,
            "_view_module": "@jupyter-widgets/base",
            "_view_module_version": "1.2.0",
            "_view_name": "StyleView",
            "bar_color": null,
            "description_width": ""
          }
        },
        "4bf89d5e43274887bd1724a2d305e0a4": {
          "model_module": "@jupyter-widgets/base",
          "model_name": "LayoutModel",
          "model_module_version": "1.2.0",
          "state": {
            "_model_module": "@jupyter-widgets/base",
            "_model_module_version": "1.2.0",
            "_model_name": "LayoutModel",
            "_view_count": null,
            "_view_module": "@jupyter-widgets/base",
            "_view_module_version": "1.2.0",
            "_view_name": "LayoutView",
            "align_content": null,
            "align_items": null,
            "align_self": null,
            "border": null,
            "bottom": null,
            "display": null,
            "flex": null,
            "flex_flow": null,
            "grid_area": null,
            "grid_auto_columns": null,
            "grid_auto_flow": null,
            "grid_auto_rows": null,
            "grid_column": null,
            "grid_gap": null,
            "grid_row": null,
            "grid_template_areas": null,
            "grid_template_columns": null,
            "grid_template_rows": null,
            "height": null,
            "justify_content": null,
            "justify_items": null,
            "left": null,
            "margin": null,
            "max_height": null,
            "max_width": null,
            "min_height": null,
            "min_width": null,
            "object_fit": null,
            "object_position": null,
            "order": null,
            "overflow": null,
            "overflow_x": null,
            "overflow_y": null,
            "padding": null,
            "right": null,
            "top": null,
            "visibility": null,
            "width": null
          }
        },
        "6cdc302c227b4da9a76120662368e6b8": {
          "model_module": "@jupyter-widgets/controls",
          "model_name": "DescriptionStyleModel",
          "model_module_version": "1.5.0",
          "state": {
            "_model_module": "@jupyter-widgets/controls",
            "_model_module_version": "1.5.0",
            "_model_name": "DescriptionStyleModel",
            "_view_count": null,
            "_view_module": "@jupyter-widgets/base",
            "_view_module_version": "1.2.0",
            "_view_name": "StyleView",
            "description_width": ""
          }
        },
        "8c863503d34b45ebbcb9190940434880": {
          "model_module": "@jupyter-widgets/base",
          "model_name": "LayoutModel",
          "model_module_version": "1.2.0",
          "state": {
            "_model_module": "@jupyter-widgets/base",
            "_model_module_version": "1.2.0",
            "_model_name": "LayoutModel",
            "_view_count": null,
            "_view_module": "@jupyter-widgets/base",
            "_view_module_version": "1.2.0",
            "_view_name": "LayoutView",
            "align_content": null,
            "align_items": null,
            "align_self": null,
            "border": null,
            "bottom": null,
            "display": null,
            "flex": null,
            "flex_flow": null,
            "grid_area": null,
            "grid_auto_columns": null,
            "grid_auto_flow": null,
            "grid_auto_rows": null,
            "grid_column": null,
            "grid_gap": null,
            "grid_row": null,
            "grid_template_areas": null,
            "grid_template_columns": null,
            "grid_template_rows": null,
            "height": null,
            "justify_content": null,
            "justify_items": null,
            "left": null,
            "margin": null,
            "max_height": null,
            "max_width": null,
            "min_height": null,
            "min_width": null,
            "object_fit": null,
            "object_position": null,
            "order": null,
            "overflow": null,
            "overflow_x": null,
            "overflow_y": null,
            "padding": null,
            "right": null,
            "top": null,
            "visibility": null,
            "width": null
          }
        },
        "c715ff27d24e45f9b4aacede06814708": {
          "model_module": "@jupyter-widgets/controls",
          "model_name": "HBoxModel",
          "model_module_version": "1.5.0",
          "state": {
            "_dom_classes": [],
            "_model_module": "@jupyter-widgets/controls",
            "_model_module_version": "1.5.0",
            "_model_name": "HBoxModel",
            "_view_count": null,
            "_view_module": "@jupyter-widgets/controls",
            "_view_module_version": "1.5.0",
            "_view_name": "HBoxView",
            "box_style": "",
            "children": [
              "IPY_MODEL_d0e360ece5814c02ac20a2fe42e5c66f",
              "IPY_MODEL_51a6f9642c7e45408f3d984b6a25344a",
              "IPY_MODEL_be5e3d53ea4144539386c29ffef07a3d"
            ],
            "layout": "IPY_MODEL_cdd33bdc83ef4ba08e7aaf223624f89a"
          }
        },
        "cdd33bdc83ef4ba08e7aaf223624f89a": {
          "model_module": "@jupyter-widgets/base",
          "model_name": "LayoutModel",
          "model_module_version": "1.2.0",
          "state": {
            "_model_module": "@jupyter-widgets/base",
            "_model_module_version": "1.2.0",
            "_model_name": "LayoutModel",
            "_view_count": null,
            "_view_module": "@jupyter-widgets/base",
            "_view_module_version": "1.2.0",
            "_view_name": "LayoutView",
            "align_content": null,
            "align_items": null,
            "align_self": null,
            "border": null,
            "bottom": null,
            "display": null,
            "flex": null,
            "flex_flow": null,
            "grid_area": null,
            "grid_auto_columns": null,
            "grid_auto_flow": null,
            "grid_auto_rows": null,
            "grid_column": null,
            "grid_gap": null,
            "grid_row": null,
            "grid_template_areas": null,
            "grid_template_columns": null,
            "grid_template_rows": null,
            "height": null,
            "justify_content": null,
            "justify_items": null,
            "left": null,
            "margin": null,
            "max_height": null,
            "max_width": null,
            "min_height": null,
            "min_width": null,
            "object_fit": null,
            "object_position": null,
            "order": null,
            "overflow": null,
            "overflow_x": null,
            "overflow_y": null,
            "padding": null,
            "right": null,
            "top": null,
            "visibility": null,
            "width": null
          }
        },
        "d0e360ece5814c02ac20a2fe42e5c66f": {
          "model_module": "@jupyter-widgets/controls",
          "model_name": "HTMLModel",
          "model_module_version": "1.5.0",
          "state": {
            "_dom_classes": [],
            "_model_module": "@jupyter-widgets/controls",
            "_model_module_version": "1.5.0",
            "_model_name": "HTMLModel",
            "_view_count": null,
            "_view_module": "@jupyter-widgets/controls",
            "_view_module_version": "1.5.0",
            "_view_name": "HTMLView",
            "description": "",
            "description_tooltip": null,
            "layout": "IPY_MODEL_1066152b45a7421393c6f2110a338fcb",
            "placeholder": "​",
            "style": "IPY_MODEL_f1e80d88677d40f1bdf9ffcf4fe649d8",
            "value": "Epoch 2/5: 100%"
          }
        },
        "51a6f9642c7e45408f3d984b6a25344a": {
          "model_module": "@jupyter-widgets/controls",
          "model_name": "FloatProgressModel",
          "model_module_version": "1.5.0",
          "state": {
            "_dom_classes": [],
            "_model_module": "@jupyter-widgets/controls",
            "_model_module_version": "1.5.0",
            "_model_name": "FloatProgressModel",
            "_view_count": null,
            "_view_module": "@jupyter-widgets/controls",
            "_view_module_version": "1.5.0",
            "_view_name": "ProgressView",
            "bar_style": "success",
            "description": "",
            "description_tooltip": null,
            "layout": "IPY_MODEL_0bd851e4cb03463985643ae9f4c37aa7",
            "max": 362,
            "min": 0,
            "orientation": "horizontal",
            "style": "IPY_MODEL_48a18bc2cb684c1b923a8c1da67238fc",
            "value": 362
          }
        },
        "be5e3d53ea4144539386c29ffef07a3d": {
          "model_module": "@jupyter-widgets/controls",
          "model_name": "HTMLModel",
          "model_module_version": "1.5.0",
          "state": {
            "_dom_classes": [],
            "_model_module": "@jupyter-widgets/controls",
            "_model_module_version": "1.5.0",
            "_model_name": "HTMLModel",
            "_view_count": null,
            "_view_module": "@jupyter-widgets/controls",
            "_view_module_version": "1.5.0",
            "_view_name": "HTMLView",
            "description": "",
            "description_tooltip": null,
            "layout": "IPY_MODEL_c80da36d70744be0b6343dc7b5f24f53",
            "placeholder": "​",
            "style": "IPY_MODEL_b5dadf6cb1e8404bb156b17058f73f4a",
            "value": " 362/362 [00:09&lt;00:00, 39.33it/s, loss=0.63, mean_absolute_error=0.512]"
          }
        },
        "f1e80d88677d40f1bdf9ffcf4fe649d8": {
          "model_module": "@jupyter-widgets/controls",
          "model_name": "DescriptionStyleModel",
          "model_module_version": "1.5.0",
          "state": {
            "_model_module": "@jupyter-widgets/controls",
            "_model_module_version": "1.5.0",
            "_model_name": "DescriptionStyleModel",
            "_view_count": null,
            "_view_module": "@jupyter-widgets/base",
            "_view_module_version": "1.2.0",
            "_view_name": "StyleView",
            "description_width": ""
          }
        },
        "1066152b45a7421393c6f2110a338fcb": {
          "model_module": "@jupyter-widgets/base",
          "model_name": "LayoutModel",
          "model_module_version": "1.2.0",
          "state": {
            "_model_module": "@jupyter-widgets/base",
            "_model_module_version": "1.2.0",
            "_model_name": "LayoutModel",
            "_view_count": null,
            "_view_module": "@jupyter-widgets/base",
            "_view_module_version": "1.2.0",
            "_view_name": "LayoutView",
            "align_content": null,
            "align_items": null,
            "align_self": null,
            "border": null,
            "bottom": null,
            "display": null,
            "flex": null,
            "flex_flow": null,
            "grid_area": null,
            "grid_auto_columns": null,
            "grid_auto_flow": null,
            "grid_auto_rows": null,
            "grid_column": null,
            "grid_gap": null,
            "grid_row": null,
            "grid_template_areas": null,
            "grid_template_columns": null,
            "grid_template_rows": null,
            "height": null,
            "justify_content": null,
            "justify_items": null,
            "left": null,
            "margin": null,
            "max_height": null,
            "max_width": null,
            "min_height": null,
            "min_width": null,
            "object_fit": null,
            "object_position": null,
            "order": null,
            "overflow": null,
            "overflow_x": null,
            "overflow_y": null,
            "padding": null,
            "right": null,
            "top": null,
            "visibility": null,
            "width": null
          }
        },
        "48a18bc2cb684c1b923a8c1da67238fc": {
          "model_module": "@jupyter-widgets/controls",
          "model_name": "ProgressStyleModel",
          "model_module_version": "1.5.0",
          "state": {
            "_model_module": "@jupyter-widgets/controls",
            "_model_module_version": "1.5.0",
            "_model_name": "ProgressStyleModel",
            "_view_count": null,
            "_view_module": "@jupyter-widgets/base",
            "_view_module_version": "1.2.0",
            "_view_name": "StyleView",
            "bar_color": null,
            "description_width": ""
          }
        },
        "0bd851e4cb03463985643ae9f4c37aa7": {
          "model_module": "@jupyter-widgets/base",
          "model_name": "LayoutModel",
          "model_module_version": "1.2.0",
          "state": {
            "_model_module": "@jupyter-widgets/base",
            "_model_module_version": "1.2.0",
            "_model_name": "LayoutModel",
            "_view_count": null,
            "_view_module": "@jupyter-widgets/base",
            "_view_module_version": "1.2.0",
            "_view_name": "LayoutView",
            "align_content": null,
            "align_items": null,
            "align_self": null,
            "border": null,
            "bottom": null,
            "display": null,
            "flex": null,
            "flex_flow": null,
            "grid_area": null,
            "grid_auto_columns": null,
            "grid_auto_flow": null,
            "grid_auto_rows": null,
            "grid_column": null,
            "grid_gap": null,
            "grid_row": null,
            "grid_template_areas": null,
            "grid_template_columns": null,
            "grid_template_rows": null,
            "height": null,
            "justify_content": null,
            "justify_items": null,
            "left": null,
            "margin": null,
            "max_height": null,
            "max_width": null,
            "min_height": null,
            "min_width": null,
            "object_fit": null,
            "object_position": null,
            "order": null,
            "overflow": null,
            "overflow_x": null,
            "overflow_y": null,
            "padding": null,
            "right": null,
            "top": null,
            "visibility": null,
            "width": null
          }
        },
        "b5dadf6cb1e8404bb156b17058f73f4a": {
          "model_module": "@jupyter-widgets/controls",
          "model_name": "DescriptionStyleModel",
          "model_module_version": "1.5.0",
          "state": {
            "_model_module": "@jupyter-widgets/controls",
            "_model_module_version": "1.5.0",
            "_model_name": "DescriptionStyleModel",
            "_view_count": null,
            "_view_module": "@jupyter-widgets/base",
            "_view_module_version": "1.2.0",
            "_view_name": "StyleView",
            "description_width": ""
          }
        },
        "c80da36d70744be0b6343dc7b5f24f53": {
          "model_module": "@jupyter-widgets/base",
          "model_name": "LayoutModel",
          "model_module_version": "1.2.0",
          "state": {
            "_model_module": "@jupyter-widgets/base",
            "_model_module_version": "1.2.0",
            "_model_name": "LayoutModel",
            "_view_count": null,
            "_view_module": "@jupyter-widgets/base",
            "_view_module_version": "1.2.0",
            "_view_name": "LayoutView",
            "align_content": null,
            "align_items": null,
            "align_self": null,
            "border": null,
            "bottom": null,
            "display": null,
            "flex": null,
            "flex_flow": null,
            "grid_area": null,
            "grid_auto_columns": null,
            "grid_auto_flow": null,
            "grid_auto_rows": null,
            "grid_column": null,
            "grid_gap": null,
            "grid_row": null,
            "grid_template_areas": null,
            "grid_template_columns": null,
            "grid_template_rows": null,
            "height": null,
            "justify_content": null,
            "justify_items": null,
            "left": null,
            "margin": null,
            "max_height": null,
            "max_width": null,
            "min_height": null,
            "min_width": null,
            "object_fit": null,
            "object_position": null,
            "order": null,
            "overflow": null,
            "overflow_x": null,
            "overflow_y": null,
            "padding": null,
            "right": null,
            "top": null,
            "visibility": null,
            "width": null
          }
        },
        "ab5fb1fc8fe7467495e0ee03f6839479": {
          "model_module": "@jupyter-widgets/controls",
          "model_name": "HBoxModel",
          "model_module_version": "1.5.0",
          "state": {
            "_dom_classes": [],
            "_model_module": "@jupyter-widgets/controls",
            "_model_module_version": "1.5.0",
            "_model_name": "HBoxModel",
            "_view_count": null,
            "_view_module": "@jupyter-widgets/controls",
            "_view_module_version": "1.5.0",
            "_view_name": "HBoxView",
            "box_style": "",
            "children": [
              "IPY_MODEL_d6384c2670af484a8d0ce6019929b947",
              "IPY_MODEL_a4d0b9ed8c1b44819157609d8faa8b5d",
              "IPY_MODEL_4dc3605db14b461b8fd91761de341563"
            ],
            "layout": "IPY_MODEL_d4e99b5a737f4a93a8ad75d870dc485a"
          }
        },
        "d4e99b5a737f4a93a8ad75d870dc485a": {
          "model_module": "@jupyter-widgets/base",
          "model_name": "LayoutModel",
          "model_module_version": "1.2.0",
          "state": {
            "_model_module": "@jupyter-widgets/base",
            "_model_module_version": "1.2.0",
            "_model_name": "LayoutModel",
            "_view_count": null,
            "_view_module": "@jupyter-widgets/base",
            "_view_module_version": "1.2.0",
            "_view_name": "LayoutView",
            "align_content": null,
            "align_items": null,
            "align_self": null,
            "border": null,
            "bottom": null,
            "display": null,
            "flex": null,
            "flex_flow": null,
            "grid_area": null,
            "grid_auto_columns": null,
            "grid_auto_flow": null,
            "grid_auto_rows": null,
            "grid_column": null,
            "grid_gap": null,
            "grid_row": null,
            "grid_template_areas": null,
            "grid_template_columns": null,
            "grid_template_rows": null,
            "height": null,
            "justify_content": null,
            "justify_items": null,
            "left": null,
            "margin": null,
            "max_height": null,
            "max_width": null,
            "min_height": null,
            "min_width": null,
            "object_fit": null,
            "object_position": null,
            "order": null,
            "overflow": null,
            "overflow_x": null,
            "overflow_y": null,
            "padding": null,
            "right": null,
            "top": null,
            "visibility": null,
            "width": null
          }
        },
        "d6384c2670af484a8d0ce6019929b947": {
          "model_module": "@jupyter-widgets/controls",
          "model_name": "HTMLModel",
          "model_module_version": "1.5.0",
          "state": {
            "_dom_classes": [],
            "_model_module": "@jupyter-widgets/controls",
            "_model_module_version": "1.5.0",
            "_model_name": "HTMLModel",
            "_view_count": null,
            "_view_module": "@jupyter-widgets/controls",
            "_view_module_version": "1.5.0",
            "_view_name": "HTMLView",
            "description": "",
            "description_tooltip": null,
            "layout": "IPY_MODEL_645ace54d7b9427aabe2b2dfa6dc6dea",
            "placeholder": "​",
            "style": "IPY_MODEL_df7ed54f99b54d2abff6b5bdde6db72e",
            "value": "Epoch 3/5: 100%"
          }
        },
        "a4d0b9ed8c1b44819157609d8faa8b5d": {
          "model_module": "@jupyter-widgets/controls",
          "model_name": "FloatProgressModel",
          "model_module_version": "1.5.0",
          "state": {
            "_dom_classes": [],
            "_model_module": "@jupyter-widgets/controls",
            "_model_module_version": "1.5.0",
            "_model_name": "FloatProgressModel",
            "_view_count": null,
            "_view_module": "@jupyter-widgets/controls",
            "_view_module_version": "1.5.0",
            "_view_name": "ProgressView",
            "bar_style": "success",
            "description": "",
            "description_tooltip": null,
            "layout": "IPY_MODEL_f8cbaeb84c544413b44be1717d723be2",
            "max": 362,
            "min": 0,
            "orientation": "horizontal",
            "style": "IPY_MODEL_cf960f823e2741b4b0117ff9eb298414",
            "value": 362
          }
        },
        "4dc3605db14b461b8fd91761de341563": {
          "model_module": "@jupyter-widgets/controls",
          "model_name": "HTMLModel",
          "model_module_version": "1.5.0",
          "state": {
            "_dom_classes": [],
            "_model_module": "@jupyter-widgets/controls",
            "_model_module_version": "1.5.0",
            "_model_name": "HTMLModel",
            "_view_count": null,
            "_view_module": "@jupyter-widgets/controls",
            "_view_module_version": "1.5.0",
            "_view_name": "HTMLView",
            "description": "",
            "description_tooltip": null,
            "layout": "IPY_MODEL_0797d34c1de449309ddbaebb42e85c07",
            "placeholder": "​",
            "style": "IPY_MODEL_d5eff707caaa4775a0a2751fec7f1eba",
            "value": " 362/362 [00:09&lt;00:00, 36.28it/s, loss=0.626, mean_absolute_error=0.51]"
          }
        },
        "df7ed54f99b54d2abff6b5bdde6db72e": {
          "model_module": "@jupyter-widgets/controls",
          "model_name": "DescriptionStyleModel",
          "model_module_version": "1.5.0",
          "state": {
            "_model_module": "@jupyter-widgets/controls",
            "_model_module_version": "1.5.0",
            "_model_name": "DescriptionStyleModel",
            "_view_count": null,
            "_view_module": "@jupyter-widgets/base",
            "_view_module_version": "1.2.0",
            "_view_name": "StyleView",
            "description_width": ""
          }
        },
        "645ace54d7b9427aabe2b2dfa6dc6dea": {
          "model_module": "@jupyter-widgets/base",
          "model_name": "LayoutModel",
          "model_module_version": "1.2.0",
          "state": {
            "_model_module": "@jupyter-widgets/base",
            "_model_module_version": "1.2.0",
            "_model_name": "LayoutModel",
            "_view_count": null,
            "_view_module": "@jupyter-widgets/base",
            "_view_module_version": "1.2.0",
            "_view_name": "LayoutView",
            "align_content": null,
            "align_items": null,
            "align_self": null,
            "border": null,
            "bottom": null,
            "display": null,
            "flex": null,
            "flex_flow": null,
            "grid_area": null,
            "grid_auto_columns": null,
            "grid_auto_flow": null,
            "grid_auto_rows": null,
            "grid_column": null,
            "grid_gap": null,
            "grid_row": null,
            "grid_template_areas": null,
            "grid_template_columns": null,
            "grid_template_rows": null,
            "height": null,
            "justify_content": null,
            "justify_items": null,
            "left": null,
            "margin": null,
            "max_height": null,
            "max_width": null,
            "min_height": null,
            "min_width": null,
            "object_fit": null,
            "object_position": null,
            "order": null,
            "overflow": null,
            "overflow_x": null,
            "overflow_y": null,
            "padding": null,
            "right": null,
            "top": null,
            "visibility": null,
            "width": null
          }
        },
        "cf960f823e2741b4b0117ff9eb298414": {
          "model_module": "@jupyter-widgets/controls",
          "model_name": "ProgressStyleModel",
          "model_module_version": "1.5.0",
          "state": {
            "_model_module": "@jupyter-widgets/controls",
            "_model_module_version": "1.5.0",
            "_model_name": "ProgressStyleModel",
            "_view_count": null,
            "_view_module": "@jupyter-widgets/base",
            "_view_module_version": "1.2.0",
            "_view_name": "StyleView",
            "bar_color": null,
            "description_width": ""
          }
        },
        "f8cbaeb84c544413b44be1717d723be2": {
          "model_module": "@jupyter-widgets/base",
          "model_name": "LayoutModel",
          "model_module_version": "1.2.0",
          "state": {
            "_model_module": "@jupyter-widgets/base",
            "_model_module_version": "1.2.0",
            "_model_name": "LayoutModel",
            "_view_count": null,
            "_view_module": "@jupyter-widgets/base",
            "_view_module_version": "1.2.0",
            "_view_name": "LayoutView",
            "align_content": null,
            "align_items": null,
            "align_self": null,
            "border": null,
            "bottom": null,
            "display": null,
            "flex": null,
            "flex_flow": null,
            "grid_area": null,
            "grid_auto_columns": null,
            "grid_auto_flow": null,
            "grid_auto_rows": null,
            "grid_column": null,
            "grid_gap": null,
            "grid_row": null,
            "grid_template_areas": null,
            "grid_template_columns": null,
            "grid_template_rows": null,
            "height": null,
            "justify_content": null,
            "justify_items": null,
            "left": null,
            "margin": null,
            "max_height": null,
            "max_width": null,
            "min_height": null,
            "min_width": null,
            "object_fit": null,
            "object_position": null,
            "order": null,
            "overflow": null,
            "overflow_x": null,
            "overflow_y": null,
            "padding": null,
            "right": null,
            "top": null,
            "visibility": null,
            "width": null
          }
        },
        "d5eff707caaa4775a0a2751fec7f1eba": {
          "model_module": "@jupyter-widgets/controls",
          "model_name": "DescriptionStyleModel",
          "model_module_version": "1.5.0",
          "state": {
            "_model_module": "@jupyter-widgets/controls",
            "_model_module_version": "1.5.0",
            "_model_name": "DescriptionStyleModel",
            "_view_count": null,
            "_view_module": "@jupyter-widgets/base",
            "_view_module_version": "1.2.0",
            "_view_name": "StyleView",
            "description_width": ""
          }
        },
        "0797d34c1de449309ddbaebb42e85c07": {
          "model_module": "@jupyter-widgets/base",
          "model_name": "LayoutModel",
          "model_module_version": "1.2.0",
          "state": {
            "_model_module": "@jupyter-widgets/base",
            "_model_module_version": "1.2.0",
            "_model_name": "LayoutModel",
            "_view_count": null,
            "_view_module": "@jupyter-widgets/base",
            "_view_module_version": "1.2.0",
            "_view_name": "LayoutView",
            "align_content": null,
            "align_items": null,
            "align_self": null,
            "border": null,
            "bottom": null,
            "display": null,
            "flex": null,
            "flex_flow": null,
            "grid_area": null,
            "grid_auto_columns": null,
            "grid_auto_flow": null,
            "grid_auto_rows": null,
            "grid_column": null,
            "grid_gap": null,
            "grid_row": null,
            "grid_template_areas": null,
            "grid_template_columns": null,
            "grid_template_rows": null,
            "height": null,
            "justify_content": null,
            "justify_items": null,
            "left": null,
            "margin": null,
            "max_height": null,
            "max_width": null,
            "min_height": null,
            "min_width": null,
            "object_fit": null,
            "object_position": null,
            "order": null,
            "overflow": null,
            "overflow_x": null,
            "overflow_y": null,
            "padding": null,
            "right": null,
            "top": null,
            "visibility": null,
            "width": null
          }
        },
        "74bea35b82934882b9098623f450fab7": {
          "model_module": "@jupyter-widgets/controls",
          "model_name": "HBoxModel",
          "model_module_version": "1.5.0",
          "state": {
            "_dom_classes": [],
            "_model_module": "@jupyter-widgets/controls",
            "_model_module_version": "1.5.0",
            "_model_name": "HBoxModel",
            "_view_count": null,
            "_view_module": "@jupyter-widgets/controls",
            "_view_module_version": "1.5.0",
            "_view_name": "HBoxView",
            "box_style": "",
            "children": [
              "IPY_MODEL_252a5e08473f4751a6b63bda7ce5055d",
              "IPY_MODEL_0b1a5bde488248e483f211a75e50b9a7",
              "IPY_MODEL_df2eb47bbf0c47dfbcc6c304733ebcf6"
            ],
            "layout": "IPY_MODEL_e216a70f79254c9a864c952d1cb6f7f4"
          }
        },
        "e216a70f79254c9a864c952d1cb6f7f4": {
          "model_module": "@jupyter-widgets/base",
          "model_name": "LayoutModel",
          "model_module_version": "1.2.0",
          "state": {
            "_model_module": "@jupyter-widgets/base",
            "_model_module_version": "1.2.0",
            "_model_name": "LayoutModel",
            "_view_count": null,
            "_view_module": "@jupyter-widgets/base",
            "_view_module_version": "1.2.0",
            "_view_name": "LayoutView",
            "align_content": null,
            "align_items": null,
            "align_self": null,
            "border": null,
            "bottom": null,
            "display": null,
            "flex": null,
            "flex_flow": null,
            "grid_area": null,
            "grid_auto_columns": null,
            "grid_auto_flow": null,
            "grid_auto_rows": null,
            "grid_column": null,
            "grid_gap": null,
            "grid_row": null,
            "grid_template_areas": null,
            "grid_template_columns": null,
            "grid_template_rows": null,
            "height": null,
            "justify_content": null,
            "justify_items": null,
            "left": null,
            "margin": null,
            "max_height": null,
            "max_width": null,
            "min_height": null,
            "min_width": null,
            "object_fit": null,
            "object_position": null,
            "order": null,
            "overflow": null,
            "overflow_x": null,
            "overflow_y": null,
            "padding": null,
            "right": null,
            "top": null,
            "visibility": null,
            "width": null
          }
        },
        "252a5e08473f4751a6b63bda7ce5055d": {
          "model_module": "@jupyter-widgets/controls",
          "model_name": "HTMLModel",
          "model_module_version": "1.5.0",
          "state": {
            "_dom_classes": [],
            "_model_module": "@jupyter-widgets/controls",
            "_model_module_version": "1.5.0",
            "_model_name": "HTMLModel",
            "_view_count": null,
            "_view_module": "@jupyter-widgets/controls",
            "_view_module_version": "1.5.0",
            "_view_name": "HTMLView",
            "description": "",
            "description_tooltip": null,
            "layout": "IPY_MODEL_40e7a51a0db544ea80d4f5e3805a2a0d",
            "placeholder": "​",
            "style": "IPY_MODEL_eb43a6e971134e57b35e636ac843b377",
            "value": "Epoch 4/5: 100%"
          }
        },
        "0b1a5bde488248e483f211a75e50b9a7": {
          "model_module": "@jupyter-widgets/controls",
          "model_name": "FloatProgressModel",
          "model_module_version": "1.5.0",
          "state": {
            "_dom_classes": [],
            "_model_module": "@jupyter-widgets/controls",
            "_model_module_version": "1.5.0",
            "_model_name": "FloatProgressModel",
            "_view_count": null,
            "_view_module": "@jupyter-widgets/controls",
            "_view_module_version": "1.5.0",
            "_view_name": "ProgressView",
            "bar_style": "success",
            "description": "",
            "description_tooltip": null,
            "layout": "IPY_MODEL_004faff048744caf8c45ec588d15c83c",
            "max": 362,
            "min": 0,
            "orientation": "horizontal",
            "style": "IPY_MODEL_b8ab2b969e9641b98c8934443cb199c7",
            "value": 362
          }
        },
        "df2eb47bbf0c47dfbcc6c304733ebcf6": {
          "model_module": "@jupyter-widgets/controls",
          "model_name": "HTMLModel",
          "model_module_version": "1.5.0",
          "state": {
            "_dom_classes": [],
            "_model_module": "@jupyter-widgets/controls",
            "_model_module_version": "1.5.0",
            "_model_name": "HTMLModel",
            "_view_count": null,
            "_view_module": "@jupyter-widgets/controls",
            "_view_module_version": "1.5.0",
            "_view_name": "HTMLView",
            "description": "",
            "description_tooltip": null,
            "layout": "IPY_MODEL_0af626a080824117a0e04705562e6418",
            "placeholder": "​",
            "style": "IPY_MODEL_434a0e19af3d45cab0e00916a6f1d504",
            "value": " 362/362 [00:09&lt;00:00, 38.69it/s, loss=0.612, mean_absolute_error=0.505]"
          }
        },
        "eb43a6e971134e57b35e636ac843b377": {
          "model_module": "@jupyter-widgets/controls",
          "model_name": "DescriptionStyleModel",
          "model_module_version": "1.5.0",
          "state": {
            "_model_module": "@jupyter-widgets/controls",
            "_model_module_version": "1.5.0",
            "_model_name": "DescriptionStyleModel",
            "_view_count": null,
            "_view_module": "@jupyter-widgets/base",
            "_view_module_version": "1.2.0",
            "_view_name": "StyleView",
            "description_width": ""
          }
        },
        "40e7a51a0db544ea80d4f5e3805a2a0d": {
          "model_module": "@jupyter-widgets/base",
          "model_name": "LayoutModel",
          "model_module_version": "1.2.0",
          "state": {
            "_model_module": "@jupyter-widgets/base",
            "_model_module_version": "1.2.0",
            "_model_name": "LayoutModel",
            "_view_count": null,
            "_view_module": "@jupyter-widgets/base",
            "_view_module_version": "1.2.0",
            "_view_name": "LayoutView",
            "align_content": null,
            "align_items": null,
            "align_self": null,
            "border": null,
            "bottom": null,
            "display": null,
            "flex": null,
            "flex_flow": null,
            "grid_area": null,
            "grid_auto_columns": null,
            "grid_auto_flow": null,
            "grid_auto_rows": null,
            "grid_column": null,
            "grid_gap": null,
            "grid_row": null,
            "grid_template_areas": null,
            "grid_template_columns": null,
            "grid_template_rows": null,
            "height": null,
            "justify_content": null,
            "justify_items": null,
            "left": null,
            "margin": null,
            "max_height": null,
            "max_width": null,
            "min_height": null,
            "min_width": null,
            "object_fit": null,
            "object_position": null,
            "order": null,
            "overflow": null,
            "overflow_x": null,
            "overflow_y": null,
            "padding": null,
            "right": null,
            "top": null,
            "visibility": null,
            "width": null
          }
        },
        "b8ab2b969e9641b98c8934443cb199c7": {
          "model_module": "@jupyter-widgets/controls",
          "model_name": "ProgressStyleModel",
          "model_module_version": "1.5.0",
          "state": {
            "_model_module": "@jupyter-widgets/controls",
            "_model_module_version": "1.5.0",
            "_model_name": "ProgressStyleModel",
            "_view_count": null,
            "_view_module": "@jupyter-widgets/base",
            "_view_module_version": "1.2.0",
            "_view_name": "StyleView",
            "bar_color": null,
            "description_width": ""
          }
        },
        "004faff048744caf8c45ec588d15c83c": {
          "model_module": "@jupyter-widgets/base",
          "model_name": "LayoutModel",
          "model_module_version": "1.2.0",
          "state": {
            "_model_module": "@jupyter-widgets/base",
            "_model_module_version": "1.2.0",
            "_model_name": "LayoutModel",
            "_view_count": null,
            "_view_module": "@jupyter-widgets/base",
            "_view_module_version": "1.2.0",
            "_view_name": "LayoutView",
            "align_content": null,
            "align_items": null,
            "align_self": null,
            "border": null,
            "bottom": null,
            "display": null,
            "flex": null,
            "flex_flow": null,
            "grid_area": null,
            "grid_auto_columns": null,
            "grid_auto_flow": null,
            "grid_auto_rows": null,
            "grid_column": null,
            "grid_gap": null,
            "grid_row": null,
            "grid_template_areas": null,
            "grid_template_columns": null,
            "grid_template_rows": null,
            "height": null,
            "justify_content": null,
            "justify_items": null,
            "left": null,
            "margin": null,
            "max_height": null,
            "max_width": null,
            "min_height": null,
            "min_width": null,
            "object_fit": null,
            "object_position": null,
            "order": null,
            "overflow": null,
            "overflow_x": null,
            "overflow_y": null,
            "padding": null,
            "right": null,
            "top": null,
            "visibility": null,
            "width": null
          }
        },
        "434a0e19af3d45cab0e00916a6f1d504": {
          "model_module": "@jupyter-widgets/controls",
          "model_name": "DescriptionStyleModel",
          "model_module_version": "1.5.0",
          "state": {
            "_model_module": "@jupyter-widgets/controls",
            "_model_module_version": "1.5.0",
            "_model_name": "DescriptionStyleModel",
            "_view_count": null,
            "_view_module": "@jupyter-widgets/base",
            "_view_module_version": "1.2.0",
            "_view_name": "StyleView",
            "description_width": ""
          }
        },
        "0af626a080824117a0e04705562e6418": {
          "model_module": "@jupyter-widgets/base",
          "model_name": "LayoutModel",
          "model_module_version": "1.2.0",
          "state": {
            "_model_module": "@jupyter-widgets/base",
            "_model_module_version": "1.2.0",
            "_model_name": "LayoutModel",
            "_view_count": null,
            "_view_module": "@jupyter-widgets/base",
            "_view_module_version": "1.2.0",
            "_view_name": "LayoutView",
            "align_content": null,
            "align_items": null,
            "align_self": null,
            "border": null,
            "bottom": null,
            "display": null,
            "flex": null,
            "flex_flow": null,
            "grid_area": null,
            "grid_auto_columns": null,
            "grid_auto_flow": null,
            "grid_auto_rows": null,
            "grid_column": null,
            "grid_gap": null,
            "grid_row": null,
            "grid_template_areas": null,
            "grid_template_columns": null,
            "grid_template_rows": null,
            "height": null,
            "justify_content": null,
            "justify_items": null,
            "left": null,
            "margin": null,
            "max_height": null,
            "max_width": null,
            "min_height": null,
            "min_width": null,
            "object_fit": null,
            "object_position": null,
            "order": null,
            "overflow": null,
            "overflow_x": null,
            "overflow_y": null,
            "padding": null,
            "right": null,
            "top": null,
            "visibility": null,
            "width": null
          }
        },
        "3697fc6dc6c34b8fbca2c522d3fe0543": {
          "model_module": "@jupyter-widgets/controls",
          "model_name": "HBoxModel",
          "model_module_version": "1.5.0",
          "state": {
            "_dom_classes": [],
            "_model_module": "@jupyter-widgets/controls",
            "_model_module_version": "1.5.0",
            "_model_name": "HBoxModel",
            "_view_count": null,
            "_view_module": "@jupyter-widgets/controls",
            "_view_module_version": "1.5.0",
            "_view_name": "HBoxView",
            "box_style": "",
            "children": [
              "IPY_MODEL_f087a4deddfb4b13b39d053bc39ed254",
              "IPY_MODEL_4d85525433584eb4ae759bc56f0332eb",
              "IPY_MODEL_2d1ae6fa9fe146a9a288fd5ea41667a2"
            ],
            "layout": "IPY_MODEL_d7b0f08b1a8241ae8f5857893c7e6196"
          }
        },
        "d7b0f08b1a8241ae8f5857893c7e6196": {
          "model_module": "@jupyter-widgets/base",
          "model_name": "LayoutModel",
          "model_module_version": "1.2.0",
          "state": {
            "_model_module": "@jupyter-widgets/base",
            "_model_module_version": "1.2.0",
            "_model_name": "LayoutModel",
            "_view_count": null,
            "_view_module": "@jupyter-widgets/base",
            "_view_module_version": "1.2.0",
            "_view_name": "LayoutView",
            "align_content": null,
            "align_items": null,
            "align_self": null,
            "border": null,
            "bottom": null,
            "display": null,
            "flex": null,
            "flex_flow": null,
            "grid_area": null,
            "grid_auto_columns": null,
            "grid_auto_flow": null,
            "grid_auto_rows": null,
            "grid_column": null,
            "grid_gap": null,
            "grid_row": null,
            "grid_template_areas": null,
            "grid_template_columns": null,
            "grid_template_rows": null,
            "height": null,
            "justify_content": null,
            "justify_items": null,
            "left": null,
            "margin": null,
            "max_height": null,
            "max_width": null,
            "min_height": null,
            "min_width": null,
            "object_fit": null,
            "object_position": null,
            "order": null,
            "overflow": null,
            "overflow_x": null,
            "overflow_y": null,
            "padding": null,
            "right": null,
            "top": null,
            "visibility": null,
            "width": null
          }
        },
        "f087a4deddfb4b13b39d053bc39ed254": {
          "model_module": "@jupyter-widgets/controls",
          "model_name": "HTMLModel",
          "model_module_version": "1.5.0",
          "state": {
            "_dom_classes": [],
            "_model_module": "@jupyter-widgets/controls",
            "_model_module_version": "1.5.0",
            "_model_name": "HTMLModel",
            "_view_count": null,
            "_view_module": "@jupyter-widgets/controls",
            "_view_module_version": "1.5.0",
            "_view_name": "HTMLView",
            "description": "",
            "description_tooltip": null,
            "layout": "IPY_MODEL_19386467e8344d93b420b0f8c2483400",
            "placeholder": "​",
            "style": "IPY_MODEL_4fb6a7ada2cf4ab9812a62110edd7169",
            "value": "Epoch 5/5: 100%"
          }
        },
        "4d85525433584eb4ae759bc56f0332eb": {
          "model_module": "@jupyter-widgets/controls",
          "model_name": "FloatProgressModel",
          "model_module_version": "1.5.0",
          "state": {
            "_dom_classes": [],
            "_model_module": "@jupyter-widgets/controls",
            "_model_module_version": "1.5.0",
            "_model_name": "FloatProgressModel",
            "_view_count": null,
            "_view_module": "@jupyter-widgets/controls",
            "_view_module_version": "1.5.0",
            "_view_name": "ProgressView",
            "bar_style": "success",
            "description": "",
            "description_tooltip": null,
            "layout": "IPY_MODEL_b20bc4ddb0004894b3fb69a7dc5a6b37",
            "max": 362,
            "min": 0,
            "orientation": "horizontal",
            "style": "IPY_MODEL_8f9ea35424a049e2826fcd12e782091b",
            "value": 362
          }
        },
        "2d1ae6fa9fe146a9a288fd5ea41667a2": {
          "model_module": "@jupyter-widgets/controls",
          "model_name": "HTMLModel",
          "model_module_version": "1.5.0",
          "state": {
            "_dom_classes": [],
            "_model_module": "@jupyter-widgets/controls",
            "_model_module_version": "1.5.0",
            "_model_name": "HTMLModel",
            "_view_count": null,
            "_view_module": "@jupyter-widgets/controls",
            "_view_module_version": "1.5.0",
            "_view_name": "HTMLView",
            "description": "",
            "description_tooltip": null,
            "layout": "IPY_MODEL_e3c0df173966467db5fb15ded865d25b",
            "placeholder": "​",
            "style": "IPY_MODEL_6157ade5095b4bda96075e2b5f51df95",
            "value": " 362/362 [00:09&lt;00:00, 37.30it/s, loss=0.637, mean_absolute_error=0.513]"
          }
        },
        "4fb6a7ada2cf4ab9812a62110edd7169": {
          "model_module": "@jupyter-widgets/controls",
          "model_name": "DescriptionStyleModel",
          "model_module_version": "1.5.0",
          "state": {
            "_model_module": "@jupyter-widgets/controls",
            "_model_module_version": "1.5.0",
            "_model_name": "DescriptionStyleModel",
            "_view_count": null,
            "_view_module": "@jupyter-widgets/base",
            "_view_module_version": "1.2.0",
            "_view_name": "StyleView",
            "description_width": ""
          }
        },
        "19386467e8344d93b420b0f8c2483400": {
          "model_module": "@jupyter-widgets/base",
          "model_name": "LayoutModel",
          "model_module_version": "1.2.0",
          "state": {
            "_model_module": "@jupyter-widgets/base",
            "_model_module_version": "1.2.0",
            "_model_name": "LayoutModel",
            "_view_count": null,
            "_view_module": "@jupyter-widgets/base",
            "_view_module_version": "1.2.0",
            "_view_name": "LayoutView",
            "align_content": null,
            "align_items": null,
            "align_self": null,
            "border": null,
            "bottom": null,
            "display": null,
            "flex": null,
            "flex_flow": null,
            "grid_area": null,
            "grid_auto_columns": null,
            "grid_auto_flow": null,
            "grid_auto_rows": null,
            "grid_column": null,
            "grid_gap": null,
            "grid_row": null,
            "grid_template_areas": null,
            "grid_template_columns": null,
            "grid_template_rows": null,
            "height": null,
            "justify_content": null,
            "justify_items": null,
            "left": null,
            "margin": null,
            "max_height": null,
            "max_width": null,
            "min_height": null,
            "min_width": null,
            "object_fit": null,
            "object_position": null,
            "order": null,
            "overflow": null,
            "overflow_x": null,
            "overflow_y": null,
            "padding": null,
            "right": null,
            "top": null,
            "visibility": null,
            "width": null
          }
        },
        "8f9ea35424a049e2826fcd12e782091b": {
          "model_module": "@jupyter-widgets/controls",
          "model_name": "ProgressStyleModel",
          "model_module_version": "1.5.0",
          "state": {
            "_model_module": "@jupyter-widgets/controls",
            "_model_module_version": "1.5.0",
            "_model_name": "ProgressStyleModel",
            "_view_count": null,
            "_view_module": "@jupyter-widgets/base",
            "_view_module_version": "1.2.0",
            "_view_name": "StyleView",
            "bar_color": null,
            "description_width": ""
          }
        },
        "b20bc4ddb0004894b3fb69a7dc5a6b37": {
          "model_module": "@jupyter-widgets/base",
          "model_name": "LayoutModel",
          "model_module_version": "1.2.0",
          "state": {
            "_model_module": "@jupyter-widgets/base",
            "_model_module_version": "1.2.0",
            "_model_name": "LayoutModel",
            "_view_count": null,
            "_view_module": "@jupyter-widgets/base",
            "_view_module_version": "1.2.0",
            "_view_name": "LayoutView",
            "align_content": null,
            "align_items": null,
            "align_self": null,
            "border": null,
            "bottom": null,
            "display": null,
            "flex": null,
            "flex_flow": null,
            "grid_area": null,
            "grid_auto_columns": null,
            "grid_auto_flow": null,
            "grid_auto_rows": null,
            "grid_column": null,
            "grid_gap": null,
            "grid_row": null,
            "grid_template_areas": null,
            "grid_template_columns": null,
            "grid_template_rows": null,
            "height": null,
            "justify_content": null,
            "justify_items": null,
            "left": null,
            "margin": null,
            "max_height": null,
            "max_width": null,
            "min_height": null,
            "min_width": null,
            "object_fit": null,
            "object_position": null,
            "order": null,
            "overflow": null,
            "overflow_x": null,
            "overflow_y": null,
            "padding": null,
            "right": null,
            "top": null,
            "visibility": null,
            "width": null
          }
        },
        "6157ade5095b4bda96075e2b5f51df95": {
          "model_module": "@jupyter-widgets/controls",
          "model_name": "DescriptionStyleModel",
          "model_module_version": "1.5.0",
          "state": {
            "_model_module": "@jupyter-widgets/controls",
            "_model_module_version": "1.5.0",
            "_model_name": "DescriptionStyleModel",
            "_view_count": null,
            "_view_module": "@jupyter-widgets/base",
            "_view_module_version": "1.2.0",
            "_view_name": "StyleView",
            "description_width": ""
          }
        },
        "e3c0df173966467db5fb15ded865d25b": {
          "model_module": "@jupyter-widgets/base",
          "model_name": "LayoutModel",
          "model_module_version": "1.2.0",
          "state": {
            "_model_module": "@jupyter-widgets/base",
            "_model_module_version": "1.2.0",
            "_model_name": "LayoutModel",
            "_view_count": null,
            "_view_module": "@jupyter-widgets/base",
            "_view_module_version": "1.2.0",
            "_view_name": "LayoutView",
            "align_content": null,
            "align_items": null,
            "align_self": null,
            "border": null,
            "bottom": null,
            "display": null,
            "flex": null,
            "flex_flow": null,
            "grid_area": null,
            "grid_auto_columns": null,
            "grid_auto_flow": null,
            "grid_auto_rows": null,
            "grid_column": null,
            "grid_gap": null,
            "grid_row": null,
            "grid_template_areas": null,
            "grid_template_columns": null,
            "grid_template_rows": null,
            "height": null,
            "justify_content": null,
            "justify_items": null,
            "left": null,
            "margin": null,
            "max_height": null,
            "max_width": null,
            "min_height": null,
            "min_width": null,
            "object_fit": null,
            "object_position": null,
            "order": null,
            "overflow": null,
            "overflow_x": null,
            "overflow_y": null,
            "padding": null,
            "right": null,
            "top": null,
            "visibility": null,
            "width": null
          }
        }
      }
    }
  },
  "cells": [
    {
      "cell_type": "markdown",
      "metadata": {
        "id": "Qofg_NrDnFSH"
      },
      "source": [
        "**12장 – 텐서플로를 사용한 사용자 정의 모델과 훈련**"
      ]
    },
    {
      "cell_type": "markdown",
      "metadata": {
        "id": "_tnhYgkcnFSK"
      },
      "source": [
        "# 설정"
      ]
    },
    {
      "cell_type": "code",
      "metadata": {
        "execution": {
          "iopub.execute_input": "2021-07-04T08:14:30.231979Z",
          "iopub.status.busy": "2021-07-04T08:14:30.230153Z",
          "iopub.status.idle": "2021-07-04T08:14:34.245013Z",
          "shell.execute_reply": "2021-07-04T08:14:34.246445Z"
        },
        "id": "VBj7sKkwnFSM"
      },
      "source": [
        "# 파이썬 ≥3.5 필수\n",
        "import sys\n",
        "assert sys.version_info >= (3, 5)\n",
        "\n",
        "# 사이킷런 ≥0.20 필수\n",
        "import sklearn\n",
        "assert sklearn.__version__ >= \"0.20\"\n",
        "\n",
        "try:\n",
        "    # %tensorflow_version은 코랩 명령입니다.\n",
        "    %tensorflow_version 2.x\n",
        "except Exception:\n",
        "    pass\n",
        "\n",
        "# 이 노트북은 텐서플로 ≥2.4이 필요합니다\n",
        "# 2.x 버전은 대부분 동일한 결과를 만들지만 몇 가지 버그가 있습니다.\n",
        "import tensorflow as tf\n",
        "from tensorflow import keras\n",
        "assert tf.__version__ >= \"2.4\"\n",
        "\n",
        "# 공통 모듈 임포트\n",
        "import numpy as np\n",
        "import os\n",
        "\n",
        "# 노트북 실행 결과를 동일하게 유지하기 위해\n",
        "np.random.seed(42)\n",
        "tf.random.set_seed(42)\n",
        "\n",
        "# 깔끔한 그래프 출력을 위해\n",
        "%matplotlib inline\n",
        "import matplotlib as mpl\n",
        "import matplotlib.pyplot as plt\n",
        "mpl.rc('axes', labelsize=14)\n",
        "mpl.rc('xtick', labelsize=12)\n",
        "mpl.rc('ytick', labelsize=12)\n",
        "\n",
        "# 그림을 저장할 위치\n",
        "PROJECT_ROOT_DIR = \".\"\n",
        "CHAPTER_ID = \"deep\"\n",
        "IMAGES_PATH = os.path.join(PROJECT_ROOT_DIR, \"images\", CHAPTER_ID)\n",
        "os.makedirs(IMAGES_PATH, exist_ok=True)\n",
        "\n",
        "def save_fig(fig_id, tight_layout=True, fig_extension=\"png\", resolution=300):\n",
        "    path = os.path.join(IMAGES_PATH, fig_id + \".\" + fig_extension)\n",
        "    print(\"그림 저장:\", fig_id)\n",
        "    if tight_layout:\n",
        "        plt.tight_layout()\n",
        "    plt.savefig(path, format=fig_extension, dpi=resolution)"
      ],
      "execution_count": null,
      "outputs": []
    },
    {
      "cell_type": "markdown",
      "metadata": {
        "id": "iHim5E7UnFSN"
      },
      "source": [
        "## 텐서와 연산"
      ]
    },
    {
      "cell_type": "markdown",
      "metadata": {
        "id": "V3JZjQVjV6un"
      },
      "source": [
        "Tensorflow는 다양한 계산 툴을 제공하는 딥러닝 라이브러리\n",
        "\n",
        "Tensorflow는 아래의 기능들을 제공\n",
        "\n",
        "- Numpy와 매우 유사, GPU 지원\n",
        "- 분산 컴퓨팅 (Distributed Computing) 지원\n",
        "- JIT 컴파일러 포함 (속도 ↑, 메모리 사용량 ↓, 계산 최적화)\n",
        "- Python 함수에서 계산 그래프 추출한 다음 최적화하여 효율적으로 실행\n",
        "- 계산 그래프는 플랫폼에 상관없이 중립적인 포맷으로 실행 가능 (ex. Linux에서 Python으로 모델 훈련 → 안드로이드 장치에 있는 자바로 실행)\n",
        "- 자동 미분 (Auto diff) 기능과 RMSProp, Nadam 같은 고성능 Optimizer 제공 → 모든 종류의 Loss Function을 쉽게 최소화 가능"
      ]
    },
    {
      "cell_type": "markdown",
      "metadata": {
        "id": "cwQH98r9ZDbt"
      },
      "source": [
        "딥러닝 모델 (tensorflow.keras)\n",
        "\n",
        "데이터 적재 & 데이터 전처리 (tensorflow.data, tensorflow.io)\n",
        "\n",
        "이미지 처리 연산 (tf.image)\n",
        "\n",
        "신호 처리 연산 (tf.signal)"
      ]
    },
    {
      "cell_type": "markdown",
      "metadata": {
        "id": "EOv73LCkZ67c"
      },
      "source": [
        "Tensorflow 연산은 Kernel이라는 여러 구현을 가짐.\n",
        "\n",
        "각 커널은 CPU, GPU, TPU 같은 특정 장치에 맞추어 만들어짐.\n",
        "\n",
        "GPU: 계산을 작은 단위로 나누어 여러 GPU 스레드에서 병렬로 실행 → 속도 향상\n",
        "\n",
        "TPU: 딥러닝 연산을 위해 설계된 ASIC 칩, 속도가 GPU에 비해 더 빠름."
      ]
    },
    {
      "cell_type": "markdown",
      "metadata": {
        "id": "RkZT7K1pnFSN"
      },
      "source": [
        "### 텐서"
      ]
    },
    {
      "cell_type": "markdown",
      "metadata": {
        "id": "KYqavyC0axzs"
      },
      "source": [
        "Tensor: 데이터의 다차원 배열 (Matrix, Array 같은 느낌..?)\n",
        "\n",
        "- 일반 배열과 달리 Scalar 값도 가질 수 있음.\n",
        "- Tensor 내 값 변경 불가\n",
        "\n",
        "\n",
        "\n",
        "\n",
        "Tensorflow API는 Tensor를 순환(flow)시킴 -> Tensor + Flow = Tensorflow"
      ]
    },
    {
      "cell_type": "code",
      "metadata": {
        "colab": {
          "base_uri": "https://localhost:8080/"
        },
        "execution": {
          "iopub.execute_input": "2021-07-04T08:14:35.460590Z",
          "iopub.status.busy": "2021-07-04T08:14:35.458827Z",
          "iopub.status.idle": "2021-07-04T08:14:35.467218Z",
          "shell.execute_reply": "2021-07-04T08:14:35.468643Z"
        },
        "id": "Jqh1vBv7nFSO",
        "outputId": "89bdeae2-2212-4bed-e339-2b79322b966d"
      },
      "source": [
        "tf.constant([[1., 2., 3.], [4., 5., 6.]]) # 행렬 (2개의 행과 3개의 열)"
      ],
      "execution_count": null,
      "outputs": [
        {
          "data": {
            "text/plain": [
              "<tf.Tensor: shape=(2, 3), dtype=float32, numpy=\n",
              "array([[1., 2., 3.],\n",
              "       [4., 5., 6.]], dtype=float32)>"
            ]
          },
          "execution_count": 2,
          "metadata": {},
          "output_type": "execute_result"
        }
      ]
    },
    {
      "cell_type": "code",
      "metadata": {
        "colab": {
          "base_uri": "https://localhost:8080/"
        },
        "execution": {
          "iopub.execute_input": "2021-07-04T08:14:35.477378Z",
          "iopub.status.busy": "2021-07-04T08:14:35.476485Z",
          "iopub.status.idle": "2021-07-04T08:14:35.481997Z",
          "shell.execute_reply": "2021-07-04T08:14:35.482893Z"
        },
        "id": "zz58NEmvnFSP",
        "outputId": "1eb3be74-ddf3-4e97-d19e-047220ddc7ac"
      },
      "source": [
        "tf.constant(42) # 스칼라"
      ],
      "execution_count": null,
      "outputs": [
        {
          "data": {
            "text/plain": [
              "<tf.Tensor: shape=(), dtype=int32, numpy=42>"
            ]
          },
          "execution_count": 3,
          "metadata": {},
          "output_type": "execute_result"
        }
      ]
    },
    {
      "cell_type": "code",
      "metadata": {
        "colab": {
          "base_uri": "https://localhost:8080/"
        },
        "execution": {
          "iopub.execute_input": "2021-07-04T08:14:35.492311Z",
          "iopub.status.busy": "2021-07-04T08:14:35.491089Z",
          "iopub.status.idle": "2021-07-04T08:14:35.495539Z",
          "shell.execute_reply": "2021-07-04T08:14:35.496432Z"
        },
        "id": "cISdcS3mnFSP",
        "outputId": "bdee6051-bb43-4b7c-dbee-7aa379848add"
      },
      "source": [
        "t = tf.constant([[1., 2., 3.], [4., 5., 6.]])\n",
        "t"
      ],
      "execution_count": null,
      "outputs": [
        {
          "data": {
            "text/plain": [
              "<tf.Tensor: shape=(2, 3), dtype=float32, numpy=\n",
              "array([[1., 2., 3.],\n",
              "       [4., 5., 6.]], dtype=float32)>"
            ]
          },
          "execution_count": 4,
          "metadata": {},
          "output_type": "execute_result"
        }
      ]
    },
    {
      "cell_type": "code",
      "metadata": {
        "colab": {
          "base_uri": "https://localhost:8080/"
        },
        "execution": {
          "iopub.execute_input": "2021-07-04T08:14:35.503752Z",
          "iopub.status.busy": "2021-07-04T08:14:35.502688Z",
          "iopub.status.idle": "2021-07-04T08:14:35.506860Z",
          "shell.execute_reply": "2021-07-04T08:14:35.507697Z"
        },
        "id": "sCixixr5nFSP",
        "outputId": "a5ea39a6-034c-4328-c9ac-e7da005f800a"
      },
      "source": [
        "t.shape # 크기"
      ],
      "execution_count": null,
      "outputs": [
        {
          "data": {
            "text/plain": [
              "TensorShape([2, 3])"
            ]
          },
          "execution_count": 5,
          "metadata": {},
          "output_type": "execute_result"
        }
      ]
    },
    {
      "cell_type": "code",
      "metadata": {
        "colab": {
          "base_uri": "https://localhost:8080/"
        },
        "execution": {
          "iopub.execute_input": "2021-07-04T08:14:35.514996Z",
          "iopub.status.busy": "2021-07-04T08:14:35.513990Z",
          "iopub.status.idle": "2021-07-04T08:14:35.518551Z",
          "shell.execute_reply": "2021-07-04T08:14:35.519382Z"
        },
        "id": "uuds8EZnnFSQ",
        "outputId": "391b6994-18ac-41c3-8728-71af3352e8e0"
      },
      "source": [
        "t.dtype # 타입"
      ],
      "execution_count": null,
      "outputs": [
        {
          "data": {
            "text/plain": [
              "tf.float32"
            ]
          },
          "execution_count": 6,
          "metadata": {},
          "output_type": "execute_result"
        }
      ]
    },
    {
      "cell_type": "markdown",
      "metadata": {
        "id": "5LcmbcOznFSQ"
      },
      "source": [
        "### 인덱싱"
      ]
    },
    {
      "cell_type": "code",
      "metadata": {
        "colab": {
          "base_uri": "https://localhost:8080/"
        },
        "execution": {
          "iopub.execute_input": "2021-07-04T08:14:35.527030Z",
          "iopub.status.busy": "2021-07-04T08:14:35.525947Z",
          "iopub.status.idle": "2021-07-04T08:14:36.017537Z",
          "shell.execute_reply": "2021-07-04T08:14:36.018983Z"
        },
        "id": "rQt1EHV-nFSQ",
        "outputId": "f06c31e5-c53f-4318-e86a-fff585ef9335"
      },
      "source": [
        "t[:, 1:]"
      ],
      "execution_count": null,
      "outputs": [
        {
          "data": {
            "text/plain": [
              "<tf.Tensor: shape=(2, 2), dtype=float32, numpy=\n",
              "array([[2., 3.],\n",
              "       [5., 6.]], dtype=float32)>"
            ]
          },
          "execution_count": 7,
          "metadata": {},
          "output_type": "execute_result"
        }
      ]
    },
    {
      "cell_type": "code",
      "metadata": {
        "colab": {
          "base_uri": "https://localhost:8080/"
        },
        "execution": {
          "iopub.execute_input": "2021-07-04T08:14:36.027301Z",
          "iopub.status.busy": "2021-07-04T08:14:36.026287Z",
          "iopub.status.idle": "2021-07-04T08:14:36.032628Z",
          "shell.execute_reply": "2021-07-04T08:14:36.033409Z"
        },
        "id": "-8jI6UyZnFSR",
        "outputId": "57edf7a3-84dc-46e2-9ca4-63e2feb26c0d"
      },
      "source": [
        "t[..., 1, tf.newaxis] # 크기 변경 (2*2) -> (2*1)"
      ],
      "execution_count": null,
      "outputs": [
        {
          "data": {
            "text/plain": [
              "<tf.Tensor: shape=(2, 1), dtype=float32, numpy=\n",
              "array([[2.],\n",
              "       [5.]], dtype=float32)>"
            ]
          },
          "execution_count": 8,
          "metadata": {},
          "output_type": "execute_result"
        }
      ]
    },
    {
      "cell_type": "markdown",
      "metadata": {
        "id": "7Ny0ZhPFnFSR"
      },
      "source": [
        "### 연산"
      ]
    },
    {
      "cell_type": "code",
      "metadata": {
        "colab": {
          "base_uri": "https://localhost:8080/"
        },
        "execution": {
          "iopub.execute_input": "2021-07-04T08:14:36.040360Z",
          "iopub.status.busy": "2021-07-04T08:14:36.039355Z",
          "iopub.status.idle": "2021-07-04T08:14:36.046051Z",
          "shell.execute_reply": "2021-07-04T08:14:36.046883Z"
        },
        "id": "k_S2puMnnFSR",
        "outputId": "fd744bb0-e740-4762-80ec-9e22b4559357"
      },
      "source": [
        "t + 10"
      ],
      "execution_count": null,
      "outputs": [
        {
          "data": {
            "text/plain": [
              "<tf.Tensor: shape=(2, 3), dtype=float32, numpy=\n",
              "array([[11., 12., 13.],\n",
              "       [14., 15., 16.]], dtype=float32)>"
            ]
          },
          "execution_count": 9,
          "metadata": {},
          "output_type": "execute_result"
        }
      ]
    },
    {
      "cell_type": "code",
      "metadata": {
        "colab": {
          "base_uri": "https://localhost:8080/"
        },
        "execution": {
          "iopub.execute_input": "2021-07-04T08:14:36.053653Z",
          "iopub.status.busy": "2021-07-04T08:14:36.052594Z",
          "iopub.status.idle": "2021-07-04T08:14:36.059689Z",
          "shell.execute_reply": "2021-07-04T08:14:36.060521Z"
        },
        "id": "FQkXtyMFnFSR",
        "outputId": "e331d0ac-2858-4e70-8e85-97ca9683c772"
      },
      "source": [
        "tf.square(t)"
      ],
      "execution_count": null,
      "outputs": [
        {
          "data": {
            "text/plain": [
              "<tf.Tensor: shape=(2, 3), dtype=float32, numpy=\n",
              "array([[ 1.,  4.,  9.],\n",
              "       [16., 25., 36.]], dtype=float32)>"
            ]
          },
          "execution_count": 10,
          "metadata": {},
          "output_type": "execute_result"
        }
      ]
    },
    {
      "cell_type": "code",
      "metadata": {
        "colab": {
          "base_uri": "https://localhost:8080/"
        },
        "execution": {
          "iopub.execute_input": "2021-07-04T08:14:36.068783Z",
          "iopub.status.busy": "2021-07-04T08:14:36.067640Z",
          "iopub.status.idle": "2021-07-04T08:14:37.295123Z",
          "shell.execute_reply": "2021-07-04T08:14:37.296584Z"
        },
        "id": "9RgHRMwpnFSR",
        "outputId": "646a5b4c-c04c-4f68-b513-e7be218c5b52"
      },
      "source": [
        "t @ tf.transpose(t)"
      ],
      "execution_count": null,
      "outputs": [
        {
          "data": {
            "text/plain": [
              "<tf.Tensor: shape=(2, 2), dtype=float32, numpy=\n",
              "array([[14., 32.],\n",
              "       [32., 77.]], dtype=float32)>"
            ]
          },
          "execution_count": 11,
          "metadata": {},
          "output_type": "execute_result"
        }
      ]
    },
    {
      "cell_type": "markdown",
      "metadata": {
        "id": "FepPlGrBnFSS"
      },
      "source": [
        "### `keras.backend` 사용하기"
      ]
    },
    {
      "cell_type": "markdown",
      "metadata": {
        "id": "cmkZJacvd8tr"
      },
      "source": [
        "keras.backend : Keras에서 제공하지 않는 Tensor 곱셈, 합성곱 같은 저수준 연산을 제공하는 라이브러리"
      ]
    },
    {
      "cell_type": "code",
      "metadata": {
        "colab": {
          "base_uri": "https://localhost:8080/"
        },
        "execution": {
          "iopub.execute_input": "2021-07-04T08:14:37.307817Z",
          "iopub.status.busy": "2021-07-04T08:14:37.306372Z",
          "iopub.status.idle": "2021-07-04T08:14:37.313260Z",
          "shell.execute_reply": "2021-07-04T08:14:37.314389Z"
        },
        "id": "ll9jO3G6nFSS",
        "outputId": "4e09e7a9-a30b-4672-da11-685109b18d81"
      },
      "source": [
        "from tensorflow import keras\n",
        "K = keras.backend\n",
        "K.square(K.transpose(t)) + 10"
      ],
      "execution_count": null,
      "outputs": [
        {
          "data": {
            "text/plain": [
              "<tf.Tensor: shape=(3, 2), dtype=float32, numpy=\n",
              "array([[11., 26.],\n",
              "       [14., 35.],\n",
              "       [19., 46.]], dtype=float32)>"
            ]
          },
          "execution_count": 12,
          "metadata": {},
          "output_type": "execute_result"
        }
      ]
    },
    {
      "cell_type": "markdown",
      "metadata": {
        "id": "QrqIuM0NnFSS"
      },
      "source": [
        "### 넘파이 변환"
      ]
    },
    {
      "cell_type": "markdown",
      "metadata": {
        "id": "p8l_pdmaecIr"
      },
      "source": [
        "Numpy 배열 -> Tensor 전환 가능\n",
        "\n",
        "Tensor -> Numpy 배열 전환 가능\n",
        "\n",
        "\n",
        "\n"
      ]
    },
    {
      "cell_type": "code",
      "metadata": {
        "colab": {
          "base_uri": "https://localhost:8080/"
        },
        "execution": {
          "iopub.execute_input": "2021-07-04T08:14:37.323539Z",
          "iopub.status.busy": "2021-07-04T08:14:37.322635Z",
          "iopub.status.idle": "2021-07-04T08:14:37.329008Z",
          "shell.execute_reply": "2021-07-04T08:14:37.328192Z"
        },
        "id": "_J3NWmTVnFSS",
        "outputId": "4d10c3d1-a661-46d6-e4e2-9de4083741ef"
      },
      "source": [
        "a = np.array([2., 4., 5.])\n",
        "tf.constant(a) # numpy → Tensor"
      ],
      "execution_count": null,
      "outputs": [
        {
          "data": {
            "text/plain": [
              "<tf.Tensor: shape=(3,), dtype=float64, numpy=array([2., 4., 5.])>"
            ]
          },
          "execution_count": 13,
          "metadata": {},
          "output_type": "execute_result"
        }
      ]
    },
    {
      "cell_type": "code",
      "metadata": {
        "colab": {
          "base_uri": "https://localhost:8080/"
        },
        "execution": {
          "iopub.execute_input": "2021-07-04T08:14:37.337928Z",
          "iopub.status.busy": "2021-07-04T08:14:37.336692Z",
          "iopub.status.idle": "2021-07-04T08:14:37.341174Z",
          "shell.execute_reply": "2021-07-04T08:14:37.342140Z"
        },
        "id": "LSnlGqM4nFSS",
        "outputId": "7d120ee6-d494-4e76-925f-13f64b1d0dd2"
      },
      "source": [
        "t.numpy() # Tensor → numpy"
      ],
      "execution_count": null,
      "outputs": [
        {
          "data": {
            "text/plain": [
              "array([[1., 2., 3.],\n",
              "       [4., 5., 6.]], dtype=float32)"
            ]
          },
          "execution_count": 14,
          "metadata": {},
          "output_type": "execute_result"
        }
      ]
    },
    {
      "cell_type": "code",
      "metadata": {
        "colab": {
          "base_uri": "https://localhost:8080/"
        },
        "execution": {
          "iopub.execute_input": "2021-07-04T08:14:37.350290Z",
          "iopub.status.busy": "2021-07-04T08:14:37.349129Z",
          "iopub.status.idle": "2021-07-04T08:14:37.354304Z",
          "shell.execute_reply": "2021-07-04T08:14:37.355414Z"
        },
        "id": "IpmcaxRRnFSS",
        "outputId": "ab99b995-ddd7-454b-ad25-25ed3a2aa8c1"
      },
      "source": [
        "np.array(t)"
      ],
      "execution_count": null,
      "outputs": [
        {
          "data": {
            "text/plain": [
              "array([[1., 2., 3.],\n",
              "       [4., 5., 6.]], dtype=float32)"
            ]
          },
          "execution_count": 15,
          "metadata": {},
          "output_type": "execute_result"
        }
      ]
    },
    {
      "cell_type": "code",
      "metadata": {
        "colab": {
          "base_uri": "https://localhost:8080/"
        },
        "execution": {
          "iopub.execute_input": "2021-07-04T08:14:37.363283Z",
          "iopub.status.busy": "2021-07-04T08:14:37.361860Z",
          "iopub.status.idle": "2021-07-04T08:14:37.367717Z",
          "shell.execute_reply": "2021-07-04T08:14:37.368496Z"
        },
        "id": "xME7iW_VnFST",
        "outputId": "076e8535-e490-4e25-b713-019f5d0e0134"
      },
      "source": [
        "tf.square(a)"
      ],
      "execution_count": null,
      "outputs": [
        {
          "data": {
            "text/plain": [
              "<tf.Tensor: shape=(3,), dtype=float64, numpy=array([ 4., 16., 25.])>"
            ]
          },
          "execution_count": 16,
          "metadata": {},
          "output_type": "execute_result"
        }
      ]
    },
    {
      "cell_type": "code",
      "metadata": {
        "colab": {
          "base_uri": "https://localhost:8080/"
        },
        "execution": {
          "iopub.execute_input": "2021-07-04T08:14:37.376267Z",
          "iopub.status.busy": "2021-07-04T08:14:37.375251Z",
          "iopub.status.idle": "2021-07-04T08:14:37.379815Z",
          "shell.execute_reply": "2021-07-04T08:14:37.380710Z"
        },
        "id": "GaHgPvyNnFST",
        "outputId": "4ea536f5-09a1-400a-e90b-a3e84bd1cbbc"
      },
      "source": [
        "np.square(t)"
      ],
      "execution_count": null,
      "outputs": [
        {
          "data": {
            "text/plain": [
              "array([[ 1.,  4.,  9.],\n",
              "       [16., 25., 36.]], dtype=float32)"
            ]
          },
          "execution_count": 17,
          "metadata": {},
          "output_type": "execute_result"
        }
      ]
    },
    {
      "cell_type": "markdown",
      "metadata": {
        "id": "qEscuNeMnFST"
      },
      "source": [
        "### 타입 변환"
      ]
    },
    {
      "cell_type": "markdown",
      "metadata": {
        "id": "XAzY0rhgfrbj"
      },
      "source": [
        "같은 type끼리만 연산 가능\n",
        "\n",
        "다른 type끼리 연산 시, 오류 발생"
      ]
    },
    {
      "cell_type": "code",
      "metadata": {
        "colab": {
          "base_uri": "https://localhost:8080/"
        },
        "execution": {
          "iopub.execute_input": "2021-07-04T08:14:37.389192Z",
          "iopub.status.busy": "2021-07-04T08:14:37.387744Z",
          "iopub.status.idle": "2021-07-04T08:14:37.393285Z",
          "shell.execute_reply": "2021-07-04T08:14:37.394243Z"
        },
        "id": "zmBGBSFxnFSU",
        "outputId": "c560f0a8-e5c3-40ad-aedc-e7ca447c85ec"
      },
      "source": [
        "try:\n",
        "    tf.constant(2.0) + tf.constant(40)\n",
        "except tf.errors.InvalidArgumentError as ex:\n",
        "    print(ex)"
      ],
      "execution_count": null,
      "outputs": [
        {
          "name": "stdout",
          "output_type": "stream",
          "text": [
            "cannot compute AddV2 as input #1(zero-based) was expected to be a float tensor but is a int32 tensor [Op:AddV2]\n"
          ]
        }
      ]
    },
    {
      "cell_type": "code",
      "metadata": {
        "colab": {
          "base_uri": "https://localhost:8080/"
        },
        "execution": {
          "iopub.execute_input": "2021-07-04T08:14:37.403920Z",
          "iopub.status.busy": "2021-07-04T08:14:37.402792Z",
          "iopub.status.idle": "2021-07-04T08:14:37.407612Z",
          "shell.execute_reply": "2021-07-04T08:14:37.408498Z"
        },
        "id": "1dztSrtpnFSU",
        "outputId": "24d5960f-d0b8-4be0-bac7-3615e1a73f87"
      },
      "source": [
        "try:\n",
        "    tf.constant(2.0) + tf.constant(40., dtype=tf.float64)\n",
        "except tf.errors.InvalidArgumentError as ex:\n",
        "    print(ex)"
      ],
      "execution_count": null,
      "outputs": [
        {
          "name": "stdout",
          "output_type": "stream",
          "text": [
            "cannot compute AddV2 as input #1(zero-based) was expected to be a float tensor but is a double tensor [Op:AddV2]\n"
          ]
        }
      ]
    },
    {
      "cell_type": "code",
      "metadata": {
        "colab": {
          "base_uri": "https://localhost:8080/"
        },
        "execution": {
          "iopub.execute_input": "2021-07-04T08:14:37.417591Z",
          "iopub.status.busy": "2021-07-04T08:14:37.416454Z",
          "iopub.status.idle": "2021-07-04T08:14:37.423410Z",
          "shell.execute_reply": "2021-07-04T08:14:37.422467Z"
        },
        "id": "bml4toHdnFSU",
        "outputId": "4fbd9268-815d-4c81-913a-591a112a16a1"
      },
      "source": [
        "t2 = tf.constant(40., dtype=tf.float64)\n",
        "tf.constant(2.0) + tf.cast(t2, tf.float32) # tf.cast: type 변환"
      ],
      "execution_count": null,
      "outputs": [
        {
          "data": {
            "text/plain": [
              "<tf.Tensor: shape=(), dtype=float32, numpy=42.0>"
            ]
          },
          "execution_count": 20,
          "metadata": {},
          "output_type": "execute_result"
        }
      ]
    },
    {
      "cell_type": "markdown",
      "metadata": {
        "id": "rUX0FqA2nFSU"
      },
      "source": [
        "### 문자열"
      ]
    },
    {
      "cell_type": "code",
      "metadata": {
        "colab": {
          "base_uri": "https://localhost:8080/"
        },
        "execution": {
          "iopub.execute_input": "2021-07-04T08:14:37.431405Z",
          "iopub.status.busy": "2021-07-04T08:14:37.430323Z",
          "iopub.status.idle": "2021-07-04T08:14:37.435955Z",
          "shell.execute_reply": "2021-07-04T08:14:37.435068Z"
        },
        "id": "kmfyUUWDnFSU",
        "outputId": "ab1a8bc7-fc20-4b11-8889-e6c8e962f9cf"
      },
      "source": [
        "tf.constant(b\"hello world\")"
      ],
      "execution_count": null,
      "outputs": [
        {
          "data": {
            "text/plain": [
              "<tf.Tensor: shape=(), dtype=string, numpy=b'hello world'>"
            ]
          },
          "execution_count": 21,
          "metadata": {},
          "output_type": "execute_result"
        }
      ]
    },
    {
      "cell_type": "code",
      "metadata": {
        "colab": {
          "base_uri": "https://localhost:8080/"
        },
        "execution": {
          "iopub.execute_input": "2021-07-04T08:14:37.443720Z",
          "iopub.status.busy": "2021-07-04T08:14:37.442656Z",
          "iopub.status.idle": "2021-07-04T08:14:37.447589Z",
          "shell.execute_reply": "2021-07-04T08:14:37.448418Z"
        },
        "id": "S4eTX-ZvnFSU",
        "outputId": "fe1b8126-82ec-4085-c591-0d60c9f374f1"
      },
      "source": [
        "tf.constant(\"café\")"
      ],
      "execution_count": null,
      "outputs": [
        {
          "data": {
            "text/plain": [
              "<tf.Tensor: shape=(), dtype=string, numpy=b'caf\\xc3\\xa9'>"
            ]
          },
          "execution_count": 22,
          "metadata": {},
          "output_type": "execute_result"
        }
      ]
    },
    {
      "cell_type": "code",
      "metadata": {
        "colab": {
          "base_uri": "https://localhost:8080/"
        },
        "execution": {
          "iopub.execute_input": "2021-07-04T08:14:37.457168Z",
          "iopub.status.busy": "2021-07-04T08:14:37.456101Z",
          "iopub.status.idle": "2021-07-04T08:14:37.461581Z",
          "shell.execute_reply": "2021-07-04T08:14:37.462492Z"
        },
        "id": "M3FuAE4gnFSV",
        "outputId": "84215369-038c-41b3-a35b-fb29fadc32fc"
      },
      "source": [
        "u = tf.constant([ord(c) for c in \"café\"]) # ord : return Unicode value\n",
        "u"
      ],
      "execution_count": null,
      "outputs": [
        {
          "data": {
            "text/plain": [
              "<tf.Tensor: shape=(4,), dtype=int32, numpy=array([ 99,  97, 102, 233], dtype=int32)>"
            ]
          },
          "execution_count": 23,
          "metadata": {},
          "output_type": "execute_result"
        }
      ]
    },
    {
      "cell_type": "code",
      "metadata": {
        "colab": {
          "base_uri": "https://localhost:8080/"
        },
        "execution": {
          "iopub.execute_input": "2021-07-04T08:14:37.471695Z",
          "iopub.status.busy": "2021-07-04T08:14:37.470569Z",
          "iopub.status.idle": "2021-07-04T08:14:37.480015Z",
          "shell.execute_reply": "2021-07-04T08:14:37.479070Z"
        },
        "id": "tg50H0XNnFSV",
        "outputId": "4ed9cbb9-a09c-4168-ee44-901c1c2a1832"
      },
      "source": [
        "b = tf.strings.unicode_encode(u, \"UTF-8\") # UTF-8로 encoding\n",
        "tf.strings.length(b, unit=\"UTF8_CHAR\") # length = 4 → cafe"
      ],
      "execution_count": null,
      "outputs": [
        {
          "data": {
            "text/plain": [
              "<tf.Tensor: shape=(), dtype=int32, numpy=4>"
            ]
          },
          "execution_count": 24,
          "metadata": {},
          "output_type": "execute_result"
        }
      ]
    },
    {
      "cell_type": "code",
      "metadata": {
        "colab": {
          "base_uri": "https://localhost:8080/"
        },
        "execution": {
          "iopub.execute_input": "2021-07-04T08:14:37.487508Z",
          "iopub.status.busy": "2021-07-04T08:14:37.486374Z",
          "iopub.status.idle": "2021-07-04T08:14:37.492583Z",
          "shell.execute_reply": "2021-07-04T08:14:37.493464Z"
        },
        "id": "0gjS_MnenFSV",
        "outputId": "24b37c8f-6b91-4796-b68e-0723c6517e58"
      },
      "source": [
        "tf.strings.unicode_decode(b, \"UTF-8\") # UTF-8로 decoding"
      ],
      "execution_count": null,
      "outputs": [
        {
          "data": {
            "text/plain": [
              "<tf.Tensor: shape=(4,), dtype=int32, numpy=array([ 99,  97, 102, 233], dtype=int32)>"
            ]
          },
          "execution_count": 25,
          "metadata": {},
          "output_type": "execute_result"
        }
      ]
    },
    {
      "cell_type": "markdown",
      "metadata": {
        "id": "xIunxUy1nFSV"
      },
      "source": [
        "### 문자열 배열"
      ]
    },
    {
      "cell_type": "code",
      "metadata": {
        "execution": {
          "iopub.execute_input": "2021-07-04T08:14:37.501430Z",
          "iopub.status.busy": "2021-07-04T08:14:37.500296Z",
          "iopub.status.idle": "2021-07-04T08:14:37.503764Z",
          "shell.execute_reply": "2021-07-04T08:14:37.504594Z"
        },
        "id": "huIxMcD8nFSV"
      },
      "source": [
        "p = tf.constant([\"Café\", \"Coffee\", \"caffè\", \"咖啡\"])"
      ],
      "execution_count": null,
      "outputs": []
    },
    {
      "cell_type": "code",
      "metadata": {
        "colab": {
          "base_uri": "https://localhost:8080/"
        },
        "execution": {
          "iopub.execute_input": "2021-07-04T08:14:37.512697Z",
          "iopub.status.busy": "2021-07-04T08:14:37.511629Z",
          "iopub.status.idle": "2021-07-04T08:14:37.516662Z",
          "shell.execute_reply": "2021-07-04T08:14:37.517486Z"
        },
        "id": "79sKVmlsnFSV",
        "outputId": "f630892f-5661-4cf9-e20d-e3df377296bb"
      },
      "source": [
        "tf.strings.length(p, unit=\"UTF8_CHAR\")"
      ],
      "execution_count": null,
      "outputs": [
        {
          "data": {
            "text/plain": [
              "<tf.Tensor: shape=(4,), dtype=int32, numpy=array([4, 6, 5, 2], dtype=int32)>"
            ]
          },
          "execution_count": 27,
          "metadata": {},
          "output_type": "execute_result"
        }
      ]
    },
    {
      "cell_type": "code",
      "metadata": {
        "colab": {
          "base_uri": "https://localhost:8080/"
        },
        "execution": {
          "iopub.execute_input": "2021-07-04T08:14:37.524818Z",
          "iopub.status.busy": "2021-07-04T08:14:37.523764Z",
          "iopub.status.idle": "2021-07-04T08:14:37.529752Z",
          "shell.execute_reply": "2021-07-04T08:14:37.530586Z"
        },
        "id": "iZn8rFS3nFSV",
        "outputId": "d9c297eb-6a3f-4b2b-c7a3-ccc4dee2aea1"
      },
      "source": [
        "r = tf.strings.unicode_decode(p, \"UTF8\")\n",
        "r"
      ],
      "execution_count": null,
      "outputs": [
        {
          "data": {
            "text/plain": [
              "<tf.RaggedTensor [[67, 97, 102, 233], [67, 111, 102, 102, 101, 101], [99, 97, 102, 102, 232], [21654, 21857]]>"
            ]
          },
          "execution_count": 28,
          "metadata": {},
          "output_type": "execute_result"
        }
      ]
    },
    {
      "cell_type": "code",
      "metadata": {
        "colab": {
          "base_uri": "https://localhost:8080/"
        },
        "execution": {
          "iopub.execute_input": "2021-07-04T08:14:37.537541Z",
          "iopub.status.busy": "2021-07-04T08:14:37.536487Z",
          "iopub.status.idle": "2021-07-04T08:14:37.541569Z",
          "shell.execute_reply": "2021-07-04T08:14:37.540647Z"
        },
        "id": "w_zPFyFCnFSV",
        "outputId": "475fcba7-c220-4c49-e49e-dedf29b7418e"
      },
      "source": [
        "print(r)"
      ],
      "execution_count": null,
      "outputs": [
        {
          "name": "stdout",
          "output_type": "stream",
          "text": [
            "<tf.RaggedTensor [[67, 97, 102, 233], [67, 111, 102, 102, 101, 101], [99, 97, 102, 102, 232], [21654, 21857]]>\n"
          ]
        }
      ]
    },
    {
      "cell_type": "markdown",
      "metadata": {
        "id": "Vk6tGFd4nFSW"
      },
      "source": [
        "### 래그드 텐서"
      ]
    },
    {
      "cell_type": "markdown",
      "metadata": {
        "id": "F_7A8rHSh2-6"
      },
      "source": [
        "래그드 텐서 (Ragged Tensor) : 리스트의 리스트\n",
        "\n",
        "- Tensor 내 list 값은 모두 같은 유형이어야 함.\n",
        "- Tensor 내 list 값은 모두 같은 Rank에 있어야함. (ex. [\"A\",[\"B\",\"C\"]] → 다른 Rank, [[1],[2],[3]] → 같은 Rank)\n",
        "- Tensor 내 list 값의 길이는 다를 수 있음."
      ]
    },
    {
      "cell_type": "code",
      "metadata": {
        "colab": {
          "base_uri": "https://localhost:8080/"
        },
        "execution": {
          "iopub.execute_input": "2021-07-04T08:14:37.548915Z",
          "iopub.status.busy": "2021-07-04T08:14:37.547863Z",
          "iopub.status.idle": "2021-07-04T08:14:37.555844Z",
          "shell.execute_reply": "2021-07-04T08:14:37.556673Z"
        },
        "id": "kc0CcQ9-nFSW",
        "outputId": "96652dc2-c317-46f8-99dd-e24087c6bf51"
      },
      "source": [
        "print(r[1])"
      ],
      "execution_count": null,
      "outputs": [
        {
          "name": "stdout",
          "output_type": "stream",
          "text": [
            "tf.Tensor([ 67 111 102 102 101 101], shape=(6,), dtype=int32)\n"
          ]
        }
      ]
    },
    {
      "cell_type": "code",
      "metadata": {
        "colab": {
          "base_uri": "https://localhost:8080/"
        },
        "execution": {
          "iopub.execute_input": "2021-07-04T08:14:37.564019Z",
          "iopub.status.busy": "2021-07-04T08:14:37.562968Z",
          "iopub.status.idle": "2021-07-04T08:14:37.572286Z",
          "shell.execute_reply": "2021-07-04T08:14:37.573167Z"
        },
        "id": "RC13J_djnFSW",
        "outputId": "fb0c7250-9608-416d-b969-6ca40cf2244f"
      },
      "source": [
        "print(r[1:3])"
      ],
      "execution_count": null,
      "outputs": [
        {
          "name": "stdout",
          "output_type": "stream",
          "text": [
            "<tf.RaggedTensor [[67, 111, 102, 102, 101, 101], [99, 97, 102, 102, 232]]>\n"
          ]
        }
      ]
    },
    {
      "cell_type": "code",
      "metadata": {
        "colab": {
          "base_uri": "https://localhost:8080/"
        },
        "execution": {
          "iopub.execute_input": "2021-07-04T08:14:37.582723Z",
          "iopub.status.busy": "2021-07-04T08:14:37.581478Z",
          "iopub.status.idle": "2021-07-04T08:14:37.589220Z",
          "shell.execute_reply": "2021-07-04T08:14:37.590190Z"
        },
        "id": "hGTY7YJunFSW",
        "outputId": "87121768-2448-4592-f557-04eedfe1e523"
      },
      "source": [
        "r2 = tf.ragged.constant([[65, 66], [], [67]])\n",
        "print(tf.concat([r, r2], axis=0))"
      ],
      "execution_count": null,
      "outputs": [
        {
          "name": "stdout",
          "output_type": "stream",
          "text": [
            "<tf.RaggedTensor [[67, 97, 102, 233], [67, 111, 102, 102, 101, 101], [99, 97, 102, 102, 232], [21654, 21857], [65, 66], [], [67]]>\n"
          ]
        }
      ]
    },
    {
      "cell_type": "code",
      "metadata": {
        "colab": {
          "base_uri": "https://localhost:8080/"
        },
        "execution": {
          "iopub.execute_input": "2021-07-04T08:14:37.601046Z",
          "iopub.status.busy": "2021-07-04T08:14:37.599831Z",
          "iopub.status.idle": "2021-07-04T08:14:37.610876Z",
          "shell.execute_reply": "2021-07-04T08:14:37.611756Z"
        },
        "id": "jK9hMKkmnFSW",
        "outputId": "2b0e09d2-25cd-4481-8cf3-fe03e59c3818"
      },
      "source": [
        "r3 = tf.ragged.constant([[68, 69, 70], [71], [], [72, 73]])\n",
        "print(tf.concat([r, r3], axis=1))"
      ],
      "execution_count": null,
      "outputs": [
        {
          "name": "stdout",
          "output_type": "stream",
          "text": [
            "<tf.RaggedTensor [[67, 97, 102, 233, 68, 69, 70], [67, 111, 102, 102, 101, 101, 71], [99, 97, 102, 102, 232], [21654, 21857, 72, 73]]>\n"
          ]
        }
      ]
    },
    {
      "cell_type": "code",
      "metadata": {
        "colab": {
          "base_uri": "https://localhost:8080/"
        },
        "execution": {
          "iopub.execute_input": "2021-07-04T08:14:37.618402Z",
          "iopub.status.busy": "2021-07-04T08:14:37.617243Z",
          "iopub.status.idle": "2021-07-04T08:14:37.623622Z",
          "shell.execute_reply": "2021-07-04T08:14:37.624500Z"
        },
        "id": "twTle-bpnFSW",
        "outputId": "a845e545-1959-4241-c533-96c0c6ae4c11"
      },
      "source": [
        "tf.strings.unicode_encode(r3, \"UTF-8\")"
      ],
      "execution_count": null,
      "outputs": [
        {
          "data": {
            "text/plain": [
              "<tf.Tensor: shape=(4,), dtype=string, numpy=array([b'DEF', b'G', b'', b'HI'], dtype=object)>"
            ]
          },
          "execution_count": 34,
          "metadata": {},
          "output_type": "execute_result"
        }
      ]
    },
    {
      "cell_type": "code",
      "metadata": {
        "colab": {
          "base_uri": "https://localhost:8080/"
        },
        "execution": {
          "iopub.execute_input": "2021-07-04T08:14:37.631450Z",
          "iopub.status.busy": "2021-07-04T08:14:37.630382Z",
          "iopub.status.idle": "2021-07-04T08:14:37.638374Z",
          "shell.execute_reply": "2021-07-04T08:14:37.639202Z"
        },
        "id": "qGBmIeoLnFSW",
        "outputId": "ec66f750-2fc3-4fcc-b320-3ffb2b35270c"
      },
      "source": [
        "r.to_tensor()"
      ],
      "execution_count": null,
      "outputs": [
        {
          "data": {
            "text/plain": [
              "<tf.Tensor: shape=(4, 6), dtype=int32, numpy=\n",
              "array([[   67,    97,   102,   233,     0,     0],\n",
              "       [   67,   111,   102,   102,   101,   101],\n",
              "       [   99,    97,   102,   102,   232,     0],\n",
              "       [21654, 21857,     0,     0,     0,     0]], dtype=int32)>"
            ]
          },
          "execution_count": 35,
          "metadata": {},
          "output_type": "execute_result"
        }
      ]
    },
    {
      "cell_type": "markdown",
      "metadata": {
        "id": "tMc8-5sjnFSW"
      },
      "source": [
        "### 희소 텐서"
      ]
    },
    {
      "cell_type": "markdown",
      "metadata": {
        "id": "EiTEMfKojbsq"
      },
      "source": [
        "희소 텐서 (Sparse Tensor) : 대부분의 원소가 0인 Tensor"
      ]
    },
    {
      "cell_type": "code",
      "metadata": {
        "execution": {
          "iopub.execute_input": "2021-07-04T08:14:37.650301Z",
          "iopub.status.busy": "2021-07-04T08:14:37.649286Z",
          "iopub.status.idle": "2021-07-04T08:14:37.653371Z",
          "shell.execute_reply": "2021-07-04T08:14:37.654415Z"
        },
        "id": "71zD-IL-nFSW"
      },
      "source": [
        "s = tf.SparseTensor(indices=[[0, 1], [1, 0], [2, 3]],\n",
        "                    values=[1., 2., 3.],\n",
        "                    dense_shape=[3, 4])\n",
        "\n",
        "# indices : 0이 아닌 Sparse Tensor 원소 값 지정 -> [0,1]의 값이 1 , [1,0]의 값이 2 , [2,3]의 값이 3\n",
        "# dense_shape : Sparse Tensor의 크기 지정\n",
        "\n",
        "# [0,1,0,0\n",
        "   2,0,0,0\n",
        "   0,0,0,3]"
      ],
      "execution_count": null,
      "outputs": []
    },
    {
      "cell_type": "code",
      "metadata": {
        "colab": {
          "base_uri": "https://localhost:8080/"
        },
        "execution": {
          "iopub.execute_input": "2021-07-04T08:14:37.662711Z",
          "iopub.status.busy": "2021-07-04T08:14:37.661456Z",
          "iopub.status.idle": "2021-07-04T08:14:37.666556Z",
          "shell.execute_reply": "2021-07-04T08:14:37.665402Z"
        },
        "id": "gDXfjz0onFSW",
        "outputId": "286ee4b1-a165-459c-8c08-328abb208230"
      },
      "source": [
        "print(s)"
      ],
      "execution_count": null,
      "outputs": [
        {
          "name": "stdout",
          "output_type": "stream",
          "text": [
            "SparseTensor(indices=tf.Tensor(\n",
            "[[0 1]\n",
            " [1 0]\n",
            " [2 3]], shape=(3, 2), dtype=int64), values=tf.Tensor([1. 2. 3.], shape=(3,), dtype=float32), dense_shape=tf.Tensor([3 4], shape=(2,), dtype=int64))\n"
          ]
        }
      ]
    },
    {
      "cell_type": "code",
      "metadata": {
        "colab": {
          "base_uri": "https://localhost:8080/"
        },
        "execution": {
          "iopub.execute_input": "2021-07-04T08:14:37.673495Z",
          "iopub.status.busy": "2021-07-04T08:14:37.672384Z",
          "iopub.status.idle": "2021-07-04T08:14:37.679187Z",
          "shell.execute_reply": "2021-07-04T08:14:37.680028Z"
        },
        "id": "6EECeDVVnFSX",
        "outputId": "bedaca50-177f-40f4-9c41-b21f2f13f222"
      },
      "source": [
        "tf.sparse.to_dense(s) # Sparse Tensor → Dense Tensor"
      ],
      "execution_count": null,
      "outputs": [
        {
          "data": {
            "text/plain": [
              "<tf.Tensor: shape=(3, 4), dtype=float32, numpy=\n",
              "array([[0., 1., 0., 0.],\n",
              "       [2., 0., 0., 0.],\n",
              "       [0., 0., 0., 3.]], dtype=float32)>"
            ]
          },
          "execution_count": 38,
          "metadata": {},
          "output_type": "execute_result"
        }
      ]
    },
    {
      "cell_type": "code",
      "metadata": {
        "execution": {
          "iopub.execute_input": "2021-07-04T08:14:37.686416Z",
          "iopub.status.busy": "2021-07-04T08:14:37.685349Z",
          "iopub.status.idle": "2021-07-04T08:14:37.689468Z",
          "shell.execute_reply": "2021-07-04T08:14:37.690529Z"
        },
        "id": "R2glxW27nFSX"
      },
      "source": [
        "s2 = s * 2.0"
      ],
      "execution_count": null,
      "outputs": []
    },
    {
      "cell_type": "code",
      "metadata": {
        "colab": {
          "base_uri": "https://localhost:8080/"
        },
        "execution": {
          "iopub.execute_input": "2021-07-04T08:14:37.698394Z",
          "iopub.status.busy": "2021-07-04T08:14:37.697217Z",
          "iopub.status.idle": "2021-07-04T08:14:37.702468Z",
          "shell.execute_reply": "2021-07-04T08:14:37.701461Z"
        },
        "id": "NAYv7KbanFSX",
        "outputId": "f15fdcb7-5d3d-418c-e188-058565b8eced"
      },
      "source": [
        "try:\n",
        "    s3 = s + 1.\n",
        "except TypeError as ex:\n",
        "    print(ex)"
      ],
      "execution_count": null,
      "outputs": [
        {
          "name": "stdout",
          "output_type": "stream",
          "text": [
            "unsupported operand type(s) for +: 'SparseTensor' and 'float'\n"
          ]
        }
      ]
    },
    {
      "cell_type": "code",
      "metadata": {
        "colab": {
          "base_uri": "https://localhost:8080/"
        },
        "execution": {
          "iopub.execute_input": "2021-07-04T08:14:37.712098Z",
          "iopub.status.busy": "2021-07-04T08:14:37.710568Z",
          "iopub.status.idle": "2021-07-04T08:14:37.716915Z",
          "shell.execute_reply": "2021-07-04T08:14:37.717891Z"
        },
        "id": "KBvWo_EnnFSX",
        "outputId": "62ea5d33-8add-4ce1-ab4b-68dc66af270b"
      },
      "source": [
        "s4 = tf.constant([[10., 20.], [30., 40.], [50., 60.], [70., 80.]])\n",
        "tf.sparse.sparse_dense_matmul(s, s4) # Sparse Tensor에 Dense Tensor를 곱함."
      ],
      "execution_count": null,
      "outputs": [
        {
          "data": {
            "text/plain": [
              "<tf.Tensor: shape=(3, 2), dtype=float32, numpy=\n",
              "array([[ 30.,  40.],\n",
              "       [ 20.,  40.],\n",
              "       [210., 240.]], dtype=float32)>"
            ]
          },
          "execution_count": 41,
          "metadata": {},
          "output_type": "execute_result"
        }
      ]
    },
    {
      "cell_type": "code",
      "metadata": {
        "colab": {
          "base_uri": "https://localhost:8080/"
        },
        "execution": {
          "iopub.execute_input": "2021-07-04T08:14:37.728268Z",
          "iopub.status.busy": "2021-07-04T08:14:37.727064Z",
          "iopub.status.idle": "2021-07-04T08:14:37.731227Z",
          "shell.execute_reply": "2021-07-04T08:14:37.732106Z"
        },
        "id": "iVef5eaJnFSX",
        "outputId": "ecfb8acb-6767-49c2-d254-afe7d8b5886a"
      },
      "source": [
        "s5 = tf.SparseTensor(indices=[[0, 2], [0, 1]],\n",
        "                     values=[1., 2.],\n",
        "                     dense_shape=[3, 4])\n",
        "print(s5)"
      ],
      "execution_count": null,
      "outputs": [
        {
          "name": "stdout",
          "output_type": "stream",
          "text": [
            "SparseTensor(indices=tf.Tensor(\n",
            "[[0 2]\n",
            " [0 1]], shape=(2, 2), dtype=int64), values=tf.Tensor([1. 2.], shape=(2,), dtype=float32), dense_shape=tf.Tensor([3 4], shape=(2,), dtype=int64))\n"
          ]
        }
      ]
    },
    {
      "cell_type": "code",
      "metadata": {
        "colab": {
          "base_uri": "https://localhost:8080/"
        },
        "execution": {
          "iopub.execute_input": "2021-07-04T08:14:37.739701Z",
          "iopub.status.busy": "2021-07-04T08:14:37.738641Z",
          "iopub.status.idle": "2021-07-04T08:14:37.743634Z",
          "shell.execute_reply": "2021-07-04T08:14:37.744482Z"
        },
        "id": "RvZ3zednnFSX",
        "outputId": "605e4642-1285-4eef-cca8-1f6a5120008f"
      },
      "source": [
        "try:\n",
        "    tf.sparse.to_dense(s5)\n",
        "except tf.errors.InvalidArgumentError as ex:\n",
        "    print(ex)"
      ],
      "execution_count": null,
      "outputs": [
        {
          "name": "stdout",
          "output_type": "stream",
          "text": [
            "indices[1] is out of order. Many sparse ops require sorted indices.\n",
            "  Use `tf.sparse.reorder` to create a correctly ordered copy.\n",
            "\n",
            " [Op:SparseToDense]\n"
          ]
        }
      ]
    },
    {
      "cell_type": "code",
      "metadata": {
        "colab": {
          "base_uri": "https://localhost:8080/"
        },
        "execution": {
          "iopub.execute_input": "2021-07-04T08:14:37.752642Z",
          "iopub.status.busy": "2021-07-04T08:14:37.751599Z",
          "iopub.status.idle": "2021-07-04T08:14:37.759282Z",
          "shell.execute_reply": "2021-07-04T08:14:37.760238Z"
        },
        "id": "049PReJ_nFSX",
        "outputId": "5ae7117f-5231-4421-a8f6-d42b6486e290"
      },
      "source": [
        "s6 = tf.sparse.reorder(s5)\n",
        "tf.sparse.to_dense(s6)"
      ],
      "execution_count": null,
      "outputs": [
        {
          "data": {
            "text/plain": [
              "<tf.Tensor: shape=(3, 4), dtype=float32, numpy=\n",
              "array([[0., 2., 1., 0.],\n",
              "       [0., 0., 0., 0.],\n",
              "       [0., 0., 0., 0.]], dtype=float32)>"
            ]
          },
          "execution_count": 44,
          "metadata": {},
          "output_type": "execute_result"
        }
      ]
    },
    {
      "cell_type": "markdown",
      "metadata": {
        "id": "kwMI9FoNnFSX"
      },
      "source": [
        "### 집합"
      ]
    },
    {
      "cell_type": "code",
      "metadata": {
        "colab": {
          "base_uri": "https://localhost:8080/"
        },
        "execution": {
          "iopub.execute_input": "2021-07-04T08:14:37.771543Z",
          "iopub.status.busy": "2021-07-04T08:14:37.770349Z",
          "iopub.status.idle": "2021-07-04T08:14:37.775886Z",
          "shell.execute_reply": "2021-07-04T08:14:37.776817Z"
        },
        "id": "gaYypzW3nFSX",
        "outputId": "a8a50dff-d462-409f-8d25-4f965d5a7725"
      },
      "source": [
        "set1 = tf.constant([[2, 3, 5, 7], [7, 9, 0, 0]])\n",
        "set2 = tf.constant([[4, 5, 6], [9, 10, 0]])\n",
        "tf.sparse.to_dense(tf.sets.union(set1, set2))"
      ],
      "execution_count": null,
      "outputs": [
        {
          "data": {
            "text/plain": [
              "<tf.Tensor: shape=(2, 6), dtype=int32, numpy=\n",
              "array([[ 2,  3,  4,  5,  6,  7],\n",
              "       [ 0,  7,  9, 10,  0,  0]], dtype=int32)>"
            ]
          },
          "execution_count": 45,
          "metadata": {},
          "output_type": "execute_result"
        }
      ]
    },
    {
      "cell_type": "code",
      "metadata": {
        "colab": {
          "base_uri": "https://localhost:8080/"
        },
        "execution": {
          "iopub.execute_input": "2021-07-04T08:14:37.784203Z",
          "iopub.status.busy": "2021-07-04T08:14:37.783011Z",
          "iopub.status.idle": "2021-07-04T08:14:37.789094Z",
          "shell.execute_reply": "2021-07-04T08:14:37.789950Z"
        },
        "id": "ywZU2OS-nFSY",
        "outputId": "5ff120ad-06c6-40cc-deaf-96f073507f5e"
      },
      "source": [
        "tf.sparse.to_dense(tf.sets.difference(set1, set2))"
      ],
      "execution_count": null,
      "outputs": [
        {
          "data": {
            "text/plain": [
              "<tf.Tensor: shape=(2, 3), dtype=int32, numpy=\n",
              "array([[2, 3, 7],\n",
              "       [7, 0, 0]], dtype=int32)>"
            ]
          },
          "execution_count": 46,
          "metadata": {},
          "output_type": "execute_result"
        }
      ]
    },
    {
      "cell_type": "code",
      "metadata": {
        "colab": {
          "base_uri": "https://localhost:8080/"
        },
        "execution": {
          "iopub.execute_input": "2021-07-04T08:14:37.797847Z",
          "iopub.status.busy": "2021-07-04T08:14:37.796714Z",
          "iopub.status.idle": "2021-07-04T08:14:37.802344Z",
          "shell.execute_reply": "2021-07-04T08:14:37.803228Z"
        },
        "id": "1C8SMyv-nFSY",
        "outputId": "1d1e6ed1-3275-446b-83f9-ef168d10aa16"
      },
      "source": [
        "tf.sparse.to_dense(tf.sets.intersection(set1, set2))"
      ],
      "execution_count": null,
      "outputs": [
        {
          "data": {
            "text/plain": [
              "<tf.Tensor: shape=(2, 2), dtype=int32, numpy=\n",
              "array([[5, 0],\n",
              "       [0, 9]], dtype=int32)>"
            ]
          },
          "execution_count": 47,
          "metadata": {},
          "output_type": "execute_result"
        }
      ]
    },
    {
      "cell_type": "markdown",
      "metadata": {
        "id": "aHM1uuinnFSY"
      },
      "source": [
        "### 변수"
      ]
    },
    {
      "cell_type": "markdown",
      "metadata": {
        "id": "_xKW6gBg27aQ"
      },
      "source": [
        "Tensor 내 값은 변경 불가 → 역전파로 인한 가중치 최적화 구현 불가\n",
        "\n",
        "\n",
        "tf.Variable로 초기값 설정 후 연산 등을 통해 값 변경 가능\n",
        "\n",
        "\n",
        "사실 keras.add_weight()로 변수 생성을 자동으로 해주고 모델 내 Optimizer가 가중치 선정을 자동적으로 해주기 때문에 직접 변수를 설정해주는 일은 드물다."
      ]
    },
    {
      "cell_type": "code",
      "metadata": {
        "execution": {
          "iopub.execute_input": "2021-07-04T08:14:37.812882Z",
          "iopub.status.busy": "2021-07-04T08:14:37.811337Z",
          "iopub.status.idle": "2021-07-04T08:14:37.815257Z",
          "shell.execute_reply": "2021-07-04T08:14:37.816519Z"
        },
        "id": "qSn5cvBrnFSY"
      },
      "source": [
        "v = tf.Variable([[1., 2., 3.], [4., 5., 6.]]) # 초기값 설정"
      ],
      "execution_count": null,
      "outputs": []
    },
    {
      "cell_type": "code",
      "metadata": {
        "colab": {
          "base_uri": "https://localhost:8080/"
        },
        "execution": {
          "iopub.execute_input": "2021-07-04T08:14:37.824588Z",
          "iopub.status.busy": "2021-07-04T08:14:37.823168Z",
          "iopub.status.idle": "2021-07-04T08:14:37.829715Z",
          "shell.execute_reply": "2021-07-04T08:14:37.830725Z"
        },
        "id": "OU0pq8XQnFSY",
        "outputId": "42d986af-88e0-49b3-993e-e023b65d4f24"
      },
      "source": [
        "v.assign(2 * v)"
      ],
      "execution_count": null,
      "outputs": [
        {
          "data": {
            "text/plain": [
              "<tf.Variable 'UnreadVariable' shape=(2, 3) dtype=float32, numpy=\n",
              "array([[ 2.,  4.,  6.],\n",
              "       [ 8., 10., 12.]], dtype=float32)>"
            ]
          },
          "execution_count": 49,
          "metadata": {},
          "output_type": "execute_result"
        }
      ]
    },
    {
      "cell_type": "code",
      "metadata": {
        "colab": {
          "base_uri": "https://localhost:8080/"
        },
        "execution": {
          "iopub.execute_input": "2021-07-04T08:14:37.838313Z",
          "iopub.status.busy": "2021-07-04T08:14:37.836989Z",
          "iopub.status.idle": "2021-07-04T08:14:37.844777Z",
          "shell.execute_reply": "2021-07-04T08:14:37.846270Z"
        },
        "id": "sdy-xfQLnFSY",
        "outputId": "e102663e-464b-4b80-f751-f1735c851d30"
      },
      "source": [
        "v[0, 1].assign(42) # [0,1] 값을 42로 변경"
      ],
      "execution_count": null,
      "outputs": [
        {
          "data": {
            "text/plain": [
              "<tf.Variable 'UnreadVariable' shape=(2, 3) dtype=float32, numpy=\n",
              "array([[ 2., 42.,  6.],\n",
              "       [ 8., 10., 12.]], dtype=float32)>"
            ]
          },
          "execution_count": 50,
          "metadata": {},
          "output_type": "execute_result"
        }
      ]
    },
    {
      "cell_type": "code",
      "metadata": {
        "colab": {
          "base_uri": "https://localhost:8080/"
        },
        "execution": {
          "iopub.execute_input": "2021-07-04T08:14:37.855848Z",
          "iopub.status.busy": "2021-07-04T08:14:37.854468Z",
          "iopub.status.idle": "2021-07-04T08:14:37.862352Z",
          "shell.execute_reply": "2021-07-04T08:14:37.863231Z"
        },
        "id": "p-o6a231nFSY",
        "outputId": "b57aa092-a87d-45bd-89a9-0d5711b2b206"
      },
      "source": [
        "v[:, 2].assign([0., 1.]) # 3번째 열 값들을 0,1로 각각 변경"
      ],
      "execution_count": null,
      "outputs": [
        {
          "data": {
            "text/plain": [
              "<tf.Variable 'UnreadVariable' shape=(2, 3) dtype=float32, numpy=\n",
              "array([[ 2., 42.,  0.],\n",
              "       [ 8., 10.,  1.]], dtype=float32)>"
            ]
          },
          "execution_count": 51,
          "metadata": {},
          "output_type": "execute_result"
        }
      ]
    },
    {
      "cell_type": "code",
      "metadata": {
        "colab": {
          "base_uri": "https://localhost:8080/"
        },
        "execution": {
          "iopub.execute_input": "2021-07-04T08:14:37.872273Z",
          "iopub.status.busy": "2021-07-04T08:14:37.871171Z",
          "iopub.status.idle": "2021-07-04T08:14:37.876014Z",
          "shell.execute_reply": "2021-07-04T08:14:37.876881Z"
        },
        "id": "qdNmt8zPnFSY",
        "outputId": "858b660a-ebe7-4879-d896-5ff1527c0a22"
      },
      "source": [
        "try:\n",
        "    v[1] = [7., 8., 9.]\n",
        "except TypeError as ex:\n",
        "    print(ex)"
      ],
      "execution_count": null,
      "outputs": [
        {
          "name": "stdout",
          "output_type": "stream",
          "text": [
            "'ResourceVariable' object does not support item assignment\n"
          ]
        }
      ]
    },
    {
      "cell_type": "code",
      "metadata": {
        "colab": {
          "base_uri": "https://localhost:8080/"
        },
        "execution": {
          "iopub.execute_input": "2021-07-04T08:14:37.884868Z",
          "iopub.status.busy": "2021-07-04T08:14:37.883764Z",
          "iopub.status.idle": "2021-07-04T08:14:37.890751Z",
          "shell.execute_reply": "2021-07-04T08:14:37.891615Z"
        },
        "id": "-Vne6RM8nFSZ",
        "outputId": "4c4f03f1-f7c9-45e3-8bb5-351f5eabd281"
      },
      "source": [
        "v.scatter_nd_update(indices=[[0, 0], [1, 2]],\n",
        "                    updates=[100., 200.])\n",
        "\n",
        "# scatter_nd_update: indices에 있는 값들을 updates로 변경."
      ],
      "execution_count": null,
      "outputs": [
        {
          "data": {
            "text/plain": [
              "<tf.Variable 'UnreadVariable' shape=(2, 3) dtype=float32, numpy=\n",
              "array([[100.,  42.,   0.],\n",
              "       [  8.,  10., 200.]], dtype=float32)>"
            ]
          },
          "execution_count": 53,
          "metadata": {},
          "output_type": "execute_result"
        }
      ]
    },
    {
      "cell_type": "code",
      "metadata": {
        "colab": {
          "base_uri": "https://localhost:8080/"
        },
        "execution": {
          "iopub.execute_input": "2021-07-04T08:14:37.900631Z",
          "iopub.status.busy": "2021-07-04T08:14:37.899531Z",
          "iopub.status.idle": "2021-07-04T08:14:37.906859Z",
          "shell.execute_reply": "2021-07-04T08:14:37.907721Z"
        },
        "id": "IO7z_1ZxnFSZ",
        "outputId": "3db41b44-6b3c-4fde-bc22-b70ed1a744f0"
      },
      "source": [
        "sparse_delta = tf.IndexedSlices(values=[[1., 2., 3.], [4., 5., 6.]],\n",
        "                                indices=[1, 0])\n",
        "v.scatter_update(sparse_delta)\n",
        "\n",
        "# [1.,2.,3.]은 2행 , [4.,5.,6.]은 1행"
      ],
      "execution_count": null,
      "outputs": [
        {
          "data": {
            "text/plain": [
              "<tf.Variable 'UnreadVariable' shape=(2, 3) dtype=float32, numpy=\n",
              "array([[4., 5., 6.],\n",
              "       [1., 2., 3.]], dtype=float32)>"
            ]
          },
          "execution_count": 54,
          "metadata": {},
          "output_type": "execute_result"
        }
      ]
    },
    {
      "cell_type": "markdown",
      "metadata": {
        "id": "IG6tPHOxnFSZ"
      },
      "source": [
        "### 텐서 배열"
      ]
    },
    {
      "cell_type": "markdown",
      "metadata": {
        "id": "yOgaJ6gQ9KLO"
      },
      "source": [
        "텐서 배열 : Tensor의 리스트\n",
        "\n",
        "- 배열 내 모든 Tensor는 타입과 크기가 동일해야함.\n",
        "- 기본적으로 고정된 크기를 갖지만 크기 설정 가능"
      ]
    },
    {
      "cell_type": "code",
      "metadata": {
        "execution": {
          "iopub.execute_input": "2021-07-04T08:14:37.918915Z",
          "iopub.status.busy": "2021-07-04T08:14:37.917726Z",
          "iopub.status.idle": "2021-07-04T08:14:37.921144Z",
          "shell.execute_reply": "2021-07-04T08:14:37.922086Z"
        },
        "id": "4ePYHLefnFSZ"
      },
      "source": [
        "array = tf.TensorArray(dtype=tf.float32, size=3) # size 설정 가능\n",
        "array = array.write(0, tf.constant([1., 2.]))\n",
        "array = array.write(1, tf.constant([3., 10.]))\n",
        "array = array.write(2, tf.constant([5., 7.]))"
      ],
      "execution_count": null,
      "outputs": []
    },
    {
      "cell_type": "code",
      "metadata": {
        "colab": {
          "base_uri": "https://localhost:8080/"
        },
        "execution": {
          "iopub.execute_input": "2021-07-04T08:14:37.930696Z",
          "iopub.status.busy": "2021-07-04T08:14:37.928997Z",
          "iopub.status.idle": "2021-07-04T08:14:37.933286Z",
          "shell.execute_reply": "2021-07-04T08:14:37.934179Z"
        },
        "id": "ZWrJYjaNnFSZ",
        "outputId": "5718f4cb-5884-4e08-989e-2ef6d72622d5"
      },
      "source": [
        "array.read(1)"
      ],
      "execution_count": null,
      "outputs": [
        {
          "data": {
            "text/plain": [
              "<tf.Tensor: shape=(2,), dtype=float32, numpy=array([ 3., 10.], dtype=float32)>"
            ]
          },
          "execution_count": 56,
          "metadata": {},
          "output_type": "execute_result"
        }
      ]
    },
    {
      "cell_type": "code",
      "metadata": {
        "colab": {
          "base_uri": "https://localhost:8080/"
        },
        "execution": {
          "iopub.execute_input": "2021-07-04T08:14:37.940457Z",
          "iopub.status.busy": "2021-07-04T08:14:37.939418Z",
          "iopub.status.idle": "2021-07-04T08:14:37.945931Z",
          "shell.execute_reply": "2021-07-04T08:14:37.946707Z"
        },
        "id": "qqJJof_tnFSa",
        "outputId": "f9fb09d2-c693-4fc2-9bb6-e4e01b0f9c45"
      },
      "source": [
        "array.stack() # 1행 "
      ],
      "execution_count": null,
      "outputs": [
        {
          "data": {
            "text/plain": [
              "<tf.Tensor: shape=(3, 2), dtype=float32, numpy=\n",
              "array([[1., 2.],\n",
              "       [0., 0.],\n",
              "       [5., 7.]], dtype=float32)>"
            ]
          },
          "execution_count": 57,
          "metadata": {},
          "output_type": "execute_result"
        }
      ]
    },
    {
      "cell_type": "code",
      "metadata": {
        "colab": {
          "base_uri": "https://localhost:8080/"
        },
        "execution": {
          "iopub.execute_input": "2021-07-04T08:14:37.954033Z",
          "iopub.status.busy": "2021-07-04T08:14:37.953006Z",
          "iopub.status.idle": "2021-07-04T08:14:37.959558Z",
          "shell.execute_reply": "2021-07-04T08:14:37.960437Z"
        },
        "id": "Af5sF8MhnFSa",
        "outputId": "ae026565-749d-4100-bfe0-b32f97b9bba9"
      },
      "source": [
        "mean, variance = tf.nn.moments(array.stack(), axes=0) # 평균, 분산 계산\n",
        "mean"
      ],
      "execution_count": null,
      "outputs": [
        {
          "data": {
            "text/plain": [
              "<tf.Tensor: shape=(2,), dtype=float32, numpy=array([2., 3.], dtype=float32)>"
            ]
          },
          "execution_count": 58,
          "metadata": {},
          "output_type": "execute_result"
        }
      ]
    },
    {
      "cell_type": "code",
      "metadata": {
        "colab": {
          "base_uri": "https://localhost:8080/"
        },
        "execution": {
          "iopub.execute_input": "2021-07-04T08:14:37.966999Z",
          "iopub.status.busy": "2021-07-04T08:14:37.965953Z",
          "iopub.status.idle": "2021-07-04T08:14:37.971590Z",
          "shell.execute_reply": "2021-07-04T08:14:37.972416Z"
        },
        "id": "32DE6kdEnFSa",
        "outputId": "bc3ba2d5-c6ff-480f-9554-0c2939f5a223"
      },
      "source": [
        "variance"
      ],
      "execution_count": null,
      "outputs": [
        {
          "data": {
            "text/plain": [
              "<tf.Tensor: shape=(2,), dtype=float32, numpy=array([4.6666665, 8.666667 ], dtype=float32)>"
            ]
          },
          "execution_count": 59,
          "metadata": {},
          "output_type": "execute_result"
        }
      ]
    },
    {
      "cell_type": "markdown",
      "metadata": {
        "id": "XPbiThrvnFSa"
      },
      "source": [
        "## 사용자 정의 손실 함수"
      ]
    },
    {
      "cell_type": "code",
      "metadata": {
        "colab": {
          "base_uri": "https://localhost:8080/"
        },
        "execution": {
          "iopub.execute_input": "2021-07-04T08:14:37.984999Z",
          "iopub.status.busy": "2021-07-04T08:14:37.983928Z",
          "iopub.status.idle": "2021-07-04T08:14:38.072608Z",
          "shell.execute_reply": "2021-07-04T08:14:38.073492Z"
        },
        "id": "4Ze9UWvrnFSa",
        "outputId": "853c189b-f078-47dc-d0bf-92fde2030287"
      },
      "source": [
        "from sklearn.datasets import fetch_california_housing\n",
        "from sklearn.model_selection import train_test_split\n",
        "from sklearn.preprocessing import StandardScaler\n",
        "\n",
        "housing = fetch_california_housing()\n",
        "X_train_full, X_test, y_train_full, y_test = train_test_split(\n",
        "    housing.data, housing.target.reshape(-1, 1), random_state=42)\n",
        "X_train, X_valid, y_train, y_valid = train_test_split(\n",
        "    X_train_full, y_train_full, random_state=42)\n",
        "\n",
        "scaler = StandardScaler()\n",
        "X_train_scaled = scaler.fit_transform(X_train)\n",
        "X_valid_scaled = scaler.transform(X_valid)\n",
        "X_test_scaled = scaler.transform(X_test)"
      ],
      "execution_count": null,
      "outputs": [
        {
          "name": "stderr",
          "output_type": "stream",
          "text": [
            "Downloading Cal. housing from https://ndownloader.figshare.com/files/5976036 to /root/scikit_learn_data\n"
          ]
        }
      ]
    },
    {
      "cell_type": "markdown",
      "metadata": {
        "id": "YVY9FzKO_Z7V"
      },
      "source": [
        "Loss Function\n",
        "\n",
        "- 평균 제곱 오차(MSE) : 오차에 민감 → 이상치가 많은 데이터에 효과적이지 X\n",
        "- 평균 절댓값 오차(MAE) : 이상치에 관대 → 성능이 좋지 못한 모델 생성 가능성 ↑\n",
        "\n",
        "\n",
        "이상치가 많고 Noise가 많은 데이터일때 Huber Loss Function이 효과적!"
      ]
    },
    {
      "cell_type": "markdown",
      "metadata": {
        "id": "cROXZmRXAR_e"
      },
      "source": [
        "후버 손실 (Huber) : MSE와 MAE 함수의 조합\n",
        "\n",
        "- MSE, MAE보다 이상치에 덜 민감\n",
        "- HyperParameter delta에 따라 Loss값이 달라짐.\n",
        "\n",
        "![image.png](data:image/png;base64,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)"
      ]
    },
    {
      "cell_type": "code",
      "metadata": {
        "execution": {
          "iopub.execute_input": "2021-07-04T08:14:38.082413Z",
          "iopub.status.busy": "2021-07-04T08:14:38.081277Z",
          "iopub.status.idle": "2021-07-04T08:14:38.084633Z",
          "shell.execute_reply": "2021-07-04T08:14:38.085502Z"
        },
        "id": "SGVUuLCGnFSb"
      },
      "source": [
        "def huber_fn(y_true, y_pred):\n",
        "    error = y_true - y_pred\n",
        "    is_small_error = tf.abs(error) < 1\n",
        "    squared_loss = tf.square(error) / 2\n",
        "    linear_loss  = tf.abs(error) - 0.5\n",
        "    return tf.where(is_small_error, squared_loss, linear_loss)"
      ],
      "execution_count": null,
      "outputs": []
    },
    {
      "cell_type": "code",
      "metadata": {
        "colab": {
          "base_uri": "https://localhost:8080/",
          "height": 276
        },
        "execution": {
          "iopub.execute_input": "2021-07-04T08:14:38.104690Z",
          "iopub.status.busy": "2021-07-04T08:14:38.103561Z",
          "iopub.status.idle": "2021-07-04T08:14:38.706192Z",
          "shell.execute_reply": "2021-07-04T08:14:38.707483Z"
        },
        "id": "pr1qnz3_nFSb",
        "outputId": "b1e8262a-bf23-47df-8770-3641de052d55"
      },
      "source": [
        "plt.figure(figsize=(8, 3.5))\n",
        "z = np.linspace(-4, 4, 200)\n",
        "plt.plot(z, huber_fn(0, z), \"b-\", linewidth=2, label=\"huber($z$)\")\n",
        "plt.plot(z, z**2 / 2, \"b:\", linewidth=1, label=r\"$\\frac{1}{2}z^2$\")\n",
        "plt.plot([-1, -1], [0, huber_fn(0., -1.)], \"r--\")\n",
        "plt.plot([1, 1], [0, huber_fn(0., 1.)], \"r--\")\n",
        "plt.gca().axhline(y=0, color='k')\n",
        "plt.gca().axvline(x=0, color='k')\n",
        "plt.axis([-4, 4, 0, 4])\n",
        "plt.grid(True)\n",
        "plt.xlabel(\"$z$\")\n",
        "plt.legend(fontsize=14)\n",
        "plt.title(\"Huber loss\", fontsize=14)\n",
        "plt.show()"
      ],
      "execution_count": null,
      "outputs": [
        {
          "data": {
            "image/png": "[encoded data removed]",
            "text/plain": [
              "<Figure size 576x252 with 1 Axes>"
            ]
          },
          "metadata": {
            "needs_background": "light"
          },
          "output_type": "display_data"
        }
      ]
    },
    {
      "cell_type": "code",
      "metadata": {
        "execution": {
          "iopub.execute_input": "2021-07-04T08:14:38.725999Z",
          "iopub.status.busy": "2021-07-04T08:14:38.713775Z",
          "iopub.status.idle": "2021-07-04T08:14:38.743016Z",
          "shell.execute_reply": "2021-07-04T08:14:38.741652Z"
        },
        "id": "jaC8PoiYnFSb"
      },
      "source": [
        "input_shape = X_train.shape[1:]\n",
        "\n",
        "model = keras.models.Sequential([\n",
        "    keras.layers.Dense(30, activation=\"selu\", kernel_initializer=\"lecun_normal\",\n",
        "                       input_shape=input_shape),\n",
        "    keras.layers.Dense(1),\n",
        "])"
      ],
      "execution_count": null,
      "outputs": []
    },
    {
      "cell_type": "code",
      "metadata": {
        "execution": {
          "iopub.execute_input": "2021-07-04T08:14:38.762163Z",
          "iopub.status.busy": "2021-07-04T08:14:38.760591Z",
          "iopub.status.idle": "2021-07-04T08:14:38.764640Z",
          "shell.execute_reply": "2021-07-04T08:14:38.765729Z"
        },
        "id": "SiLyH6ncnFSc"
      },
      "source": [
        "model.compile(loss=huber_fn, optimizer=\"nadam\", metrics=[\"mae\"])"
      ],
      "execution_count": null,
      "outputs": []
    },
    {
      "cell_type": "code",
      "metadata": {
        "colab": {
          "base_uri": "https://localhost:8080/"
        },
        "execution": {
          "iopub.execute_input": "2021-07-04T08:14:38.772068Z",
          "iopub.status.busy": "2021-07-04T08:14:38.770797Z",
          "iopub.status.idle": "2021-07-04T08:14:43.521361Z",
          "shell.execute_reply": "2021-07-04T08:14:43.522572Z"
        },
        "id": "tMH11jIEnFSc",
        "scrolled": true,
        "outputId": "b1b9aa46-2efe-4bd4-eabf-a23b88cd869d"
      },
      "source": [
        "model.fit(X_train_scaled, y_train, epochs=2,\n",
        "          validation_data=(X_valid_scaled, y_valid))"
      ],
      "execution_count": null,
      "outputs": [
        {
          "name": "stdout",
          "output_type": "stream",
          "text": [
            "Epoch 1/2\n",
            "363/363 [==============================] - 3s 4ms/step - loss: 0.6235 - mae: 0.9953 - val_loss: 0.2862 - val_mae: 0.5866\n",
            "Epoch 2/2\n",
            "363/363 [==============================] - 1s 4ms/step - loss: 0.2197 - mae: 0.5177 - val_loss: 0.2382 - val_mae: 0.5281\n"
          ]
        },
        {
          "data": {
            "text/plain": [
              "<keras.callbacks.History at 0x7fd47b0dab50>"
            ]
          },
          "execution_count": 65,
          "metadata": {},
          "output_type": "execute_result"
        }
      ]
    },
    {
      "cell_type": "markdown",
      "metadata": {
        "id": "GiDKxlo0nFSc"
      },
      "source": [
        "## 사용자 정의 요소를 가진 모델을 저장하고 로드하기"
      ]
    },
    {
      "cell_type": "code",
      "metadata": {
        "execution": {
          "iopub.execute_input": "2021-07-04T08:14:43.554664Z",
          "iopub.status.busy": "2021-07-04T08:14:43.553745Z",
          "iopub.status.idle": "2021-07-04T08:14:43.583902Z",
          "shell.execute_reply": "2021-07-04T08:14:43.585209Z"
        },
        "id": "4vsC0bFSnFSc"
      },
      "source": [
        "model.save(\"my_model_with_a_custom_loss.h5\")"
      ],
      "execution_count": null,
      "outputs": []
    },
    {
      "cell_type": "code",
      "metadata": {
        "execution": {
          "iopub.execute_input": "2021-07-04T08:14:43.593971Z",
          "iopub.status.busy": "2021-07-04T08:14:43.592418Z",
          "iopub.status.idle": "2021-07-04T08:14:43.677265Z",
          "shell.execute_reply": "2021-07-04T08:14:43.678558Z"
        },
        "id": "DU0qVKUQnFSc"
      },
      "source": [
        "model = keras.models.load_model(\"my_model_with_a_custom_loss.h5\",\n",
        "                                custom_objects={\"huber_fn\": huber_fn})"
      ],
      "execution_count": null,
      "outputs": []
    },
    {
      "cell_type": "code",
      "metadata": {
        "colab": {
          "base_uri": "https://localhost:8080/"
        },
        "execution": {
          "iopub.execute_input": "2021-07-04T08:14:43.686580Z",
          "iopub.status.busy": "2021-07-04T08:14:43.685128Z",
          "iopub.status.idle": "2021-07-04T08:14:47.493380Z",
          "shell.execute_reply": "2021-07-04T08:14:47.494505Z"
        },
        "id": "3D4RbreznFSc",
        "outputId": "790f5d75-8dde-43b5-b9dc-9f6571c53a4c"
      },
      "source": [
        "model.fit(X_train_scaled, y_train, epochs=2,\n",
        "          validation_data=(X_valid_scaled, y_valid))"
      ],
      "execution_count": null,
      "outputs": [
        {
          "name": "stdout",
          "output_type": "stream",
          "text": [
            "Epoch 1/2\n",
            "363/363 [==============================] - 2s 5ms/step - loss: 0.2054 - mae: 0.4982 - val_loss: 0.2209 - val_mae: 0.5050\n",
            "Epoch 2/2\n",
            "363/363 [==============================] - 1s 4ms/step - loss: 0.1999 - mae: 0.4900 - val_loss: 0.2127 - val_mae: 0.4986\n"
          ]
        },
        {
          "data": {
            "text/plain": [
              "<keras.callbacks.History at 0x7fd476f36ed0>"
            ]
          },
          "execution_count": 68,
          "metadata": {},
          "output_type": "execute_result"
        }
      ]
    },
    {
      "cell_type": "code",
      "metadata": {
        "execution": {
          "iopub.execute_input": "2021-07-04T08:14:47.505642Z",
          "iopub.status.busy": "2021-07-04T08:14:47.504658Z",
          "iopub.status.idle": "2021-07-04T08:14:47.508213Z",
          "shell.execute_reply": "2021-07-04T08:14:47.508984Z"
        },
        "id": "XU-KvpzJnFSc"
      },
      "source": [
        "def create_huber(threshold=1.0):\n",
        "    def huber_fn(y_true, y_pred):\n",
        "        error = y_true - y_pred\n",
        "        is_small_error = tf.abs(error) < threshold\n",
        "        squared_loss = tf.square(error) / 2\n",
        "        linear_loss  = threshold * tf.abs(error) - threshold**2 / 2\n",
        "        return tf.where(is_small_error, squared_loss, linear_loss)\n",
        "    return huber_fn"
      ],
      "execution_count": null,
      "outputs": []
    },
    {
      "cell_type": "code",
      "metadata": {
        "execution": {
          "iopub.execute_input": "2021-07-04T08:14:47.520740Z",
          "iopub.status.busy": "2021-07-04T08:14:47.516256Z",
          "iopub.status.idle": "2021-07-04T08:14:47.531481Z",
          "shell.execute_reply": "2021-07-04T08:14:47.532301Z"
        },
        "id": "pagOIVIvnFSd"
      },
      "source": [
        "model.compile(loss=create_huber(2.0), optimizer=\"nadam\", metrics=[\"mae\"])"
      ],
      "execution_count": null,
      "outputs": []
    },
    {
      "cell_type": "code",
      "metadata": {
        "colab": {
          "base_uri": "https://localhost:8080/"
        },
        "execution": {
          "iopub.execute_input": "2021-07-04T08:14:47.539616Z",
          "iopub.status.busy": "2021-07-04T08:14:47.538294Z",
          "iopub.status.idle": "2021-07-04T08:14:51.879755Z",
          "shell.execute_reply": "2021-07-04T08:14:51.880935Z"
        },
        "id": "VpXt3HOpnFSd",
        "scrolled": true,
        "outputId": "2c90da98-3ac4-4afc-aab9-3e0b375ff03e"
      },
      "source": [
        "model.fit(X_train_scaled, y_train, epochs=2,\n",
        "          validation_data=(X_valid_scaled, y_valid))"
      ],
      "execution_count": null,
      "outputs": [
        {
          "name": "stdout",
          "output_type": "stream",
          "text": [
            "Epoch 1/2\n",
            "363/363 [==============================] - 2s 5ms/step - loss: 0.2226 - mae: 0.4892 - val_loss: 0.2540 - val_mae: 0.4907\n",
            "Epoch 2/2\n",
            "363/363 [==============================] - 1s 4ms/step - loss: 0.2184 - mae: 0.4844 - val_loss: 0.2372 - val_mae: 0.4879\n"
          ]
        },
        {
          "data": {
            "text/plain": [
              "<keras.callbacks.History at 0x7fd47afc66d0>"
            ]
          },
          "execution_count": 71,
          "metadata": {},
          "output_type": "execute_result"
        }
      ]
    },
    {
      "cell_type": "code",
      "metadata": {
        "execution": {
          "iopub.execute_input": "2021-07-04T08:14:51.914825Z",
          "iopub.status.busy": "2021-07-04T08:14:51.913722Z",
          "iopub.status.idle": "2021-07-04T08:14:51.946973Z",
          "shell.execute_reply": "2021-07-04T08:14:51.947805Z"
        },
        "id": "or-QRU9DnFSd"
      },
      "source": [
        "model.save(\"my_model_with_a_custom_loss_threshold_2.h5\")"
      ],
      "execution_count": null,
      "outputs": []
    },
    {
      "cell_type": "code",
      "metadata": {
        "execution": {
          "iopub.execute_input": "2021-07-04T08:14:51.956901Z",
          "iopub.status.busy": "2021-07-04T08:14:51.955368Z",
          "iopub.status.idle": "2021-07-04T08:14:52.037871Z",
          "shell.execute_reply": "2021-07-04T08:14:52.039072Z"
        },
        "id": "VRAUNTJxnFSd"
      },
      "source": [
        "model = keras.models.load_model(\"my_model_with_a_custom_loss_threshold_2.h5\",\n",
        "                                custom_objects={\"huber_fn\": create_huber(2.0)})"
      ],
      "execution_count": null,
      "outputs": []
    },
    {
      "cell_type": "code",
      "metadata": {
        "colab": {
          "base_uri": "https://localhost:8080/"
        },
        "execution": {
          "iopub.execute_input": "2021-07-04T08:14:52.047973Z",
          "iopub.status.busy": "2021-07-04T08:14:52.046462Z",
          "iopub.status.idle": "2021-07-04T08:14:55.927195Z",
          "shell.execute_reply": "2021-07-04T08:14:55.928267Z"
        },
        "id": "ZQIXRq1snFSd",
        "outputId": "768a1bf8-afc2-4a26-d918-9cb0b6baef1e"
      },
      "source": [
        "model.fit(X_train_scaled, y_train, epochs=2,\n",
        "          validation_data=(X_valid_scaled, y_valid))"
      ],
      "execution_count": null,
      "outputs": [
        {
          "name": "stdout",
          "output_type": "stream",
          "text": [
            "Epoch 1/2\n",
            "363/363 [==============================] - 2s 5ms/step - loss: 0.2147 - mae: 0.4800 - val_loss: 0.2133 - val_mae: 0.4654\n",
            "Epoch 2/2\n",
            "363/363 [==============================] - 2s 4ms/step - loss: 0.2119 - mae: 0.4762 - val_loss: 0.1992 - val_mae: 0.4643\n"
          ]
        },
        {
          "data": {
            "text/plain": [
              "<keras.callbacks.History at 0x7fd47adb2b10>"
            ]
          },
          "execution_count": 74,
          "metadata": {},
          "output_type": "execute_result"
        }
      ]
    },
    {
      "cell_type": "code",
      "metadata": {
        "execution": {
          "iopub.execute_input": "2021-07-04T08:14:55.944343Z",
          "iopub.status.busy": "2021-07-04T08:14:55.943056Z",
          "iopub.status.idle": "2021-07-04T08:14:55.946321Z",
          "shell.execute_reply": "2021-07-04T08:14:55.947381Z"
        },
        "id": "3u4WR3alnFSd"
      },
      "source": [
        "class HuberLoss(keras.losses.Loss):\n",
        "    def __init__(self, threshold=1.0, **kwargs):\n",
        "        self.threshold = threshold\n",
        "        super().__init__(**kwargs)\n",
        "    def call(self, y_true, y_pred):\n",
        "        error = y_true - y_pred\n",
        "        is_small_error = tf.abs(error) < self.threshold\n",
        "        squared_loss = tf.square(error) / 2\n",
        "        linear_loss  = self.threshold * tf.abs(error) - self.threshold**2 / 2\n",
        "        return tf.where(is_small_error, squared_loss, linear_loss)\n",
        "    def get_config(self):\n",
        "        base_config = super().get_config()\n",
        "        return {**base_config, \"threshold\": self.threshold}"
      ],
      "execution_count": null,
      "outputs": []
    },
    {
      "cell_type": "code",
      "metadata": {
        "execution": {
          "iopub.execute_input": "2021-07-04T08:14:55.961261Z",
          "iopub.status.busy": "2021-07-04T08:14:55.960228Z",
          "iopub.status.idle": "2021-07-04T08:14:55.981249Z",
          "shell.execute_reply": "2021-07-04T08:14:55.982560Z"
        },
        "id": "y1JdYpsKnFSd"
      },
      "source": [
        "model = keras.models.Sequential([\n",
        "    keras.layers.Dense(30, activation=\"selu\", kernel_initializer=\"lecun_normal\",\n",
        "                       input_shape=input_shape),\n",
        "    keras.layers.Dense(1),\n",
        "])"
      ],
      "execution_count": null,
      "outputs": []
    },
    {
      "cell_type": "code",
      "metadata": {
        "execution": {
          "iopub.execute_input": "2021-07-04T08:14:56.000735Z",
          "iopub.status.busy": "2021-07-04T08:14:55.999638Z",
          "iopub.status.idle": "2021-07-04T08:14:56.007356Z",
          "shell.execute_reply": "2021-07-04T08:14:56.008433Z"
        },
        "id": "MSvlez6KnFSd"
      },
      "source": [
        "model.compile(loss=HuberLoss(2.), optimizer=\"nadam\", metrics=[\"mae\"])"
      ],
      "execution_count": null,
      "outputs": []
    },
    {
      "cell_type": "code",
      "metadata": {
        "colab": {
          "base_uri": "https://localhost:8080/"
        },
        "execution": {
          "iopub.execute_input": "2021-07-04T08:14:56.016116Z",
          "iopub.status.busy": "2021-07-04T08:14:56.014749Z",
          "iopub.status.idle": "2021-07-04T08:15:00.300730Z",
          "shell.execute_reply": "2021-07-04T08:15:00.301680Z"
        },
        "id": "AgKhF3hKnFSd",
        "scrolled": false,
        "outputId": "84fb0610-d355-4fc0-a289-2de847fc33be"
      },
      "source": [
        "model.fit(X_train_scaled, y_train, epochs=2,\n",
        "          validation_data=(X_valid_scaled, y_valid))"
      ],
      "execution_count": null,
      "outputs": [
        {
          "name": "stdout",
          "output_type": "stream",
          "text": [
            "Epoch 1/2\n",
            "363/363 [==============================] - 2s 5ms/step - loss: 0.7095 - mae: 0.8863 - val_loss: 0.3378 - val_mae: 0.5485\n",
            "Epoch 2/2\n",
            "363/363 [==============================] - 2s 4ms/step - loss: 0.2416 - mae: 0.5083 - val_loss: 0.2660 - val_mae: 0.5089\n"
          ]
        },
        {
          "data": {
            "text/plain": [
              "<keras.callbacks.History at 0x7fd47ac65a10>"
            ]
          },
          "execution_count": 78,
          "metadata": {},
          "output_type": "execute_result"
        }
      ]
    },
    {
      "cell_type": "code",
      "metadata": {
        "execution": {
          "iopub.execute_input": "2021-07-04T08:15:00.335267Z",
          "iopub.status.busy": "2021-07-04T08:15:00.333773Z",
          "iopub.status.idle": "2021-07-04T08:15:00.369221Z",
          "shell.execute_reply": "2021-07-04T08:15:00.370473Z"
        },
        "id": "uyTT256tnFSe"
      },
      "source": [
        "model.save(\"my_model_with_a_custom_loss_class.h5\")"
      ],
      "execution_count": null,
      "outputs": []
    },
    {
      "cell_type": "code",
      "metadata": {
        "execution": {
          "iopub.execute_input": "2021-07-04T08:15:00.379781Z",
          "iopub.status.busy": "2021-07-04T08:15:00.378195Z",
          "iopub.status.idle": "2021-07-04T08:15:00.460926Z",
          "shell.execute_reply": "2021-07-04T08:15:00.462302Z"
        },
        "id": "Ot6cK1oYnFSe"
      },
      "source": [
        "model = keras.models.load_model(\"my_model_with_a_custom_loss_class.h5\",\n",
        "                                custom_objects={\"HuberLoss\": HuberLoss})"
      ],
      "execution_count": null,
      "outputs": []
    },
    {
      "cell_type": "code",
      "metadata": {
        "colab": {
          "base_uri": "https://localhost:8080/"
        },
        "execution": {
          "iopub.execute_input": "2021-07-04T08:15:00.471143Z",
          "iopub.status.busy": "2021-07-04T08:15:00.469597Z",
          "iopub.status.idle": "2021-07-04T08:15:04.566644Z",
          "shell.execute_reply": "2021-07-04T08:15:04.567732Z"
        },
        "id": "M9OIPCgNnFSe",
        "outputId": "922f5b7f-623c-4dca-9680-fd293812be3b"
      },
      "source": [
        "model.fit(X_train_scaled, y_train, epochs=2,\n",
        "          validation_data=(X_valid_scaled, y_valid))"
      ],
      "execution_count": null,
      "outputs": [
        {
          "name": "stdout",
          "output_type": "stream",
          "text": [
            "Epoch 1/2\n",
            "363/363 [==============================] - 2s 4ms/step - loss: 0.2286 - mae: 0.4970 - val_loss: 0.2120 - val_mae: 0.4723\n",
            "Epoch 2/2\n",
            "363/363 [==============================] - 1s 4ms/step - loss: 0.2216 - mae: 0.4904 - val_loss: 0.2045 - val_mae: 0.4725\n"
          ]
        },
        {
          "data": {
            "text/plain": [
              "<keras.callbacks.History at 0x7fd47aa55150>"
            ]
          },
          "execution_count": 81,
          "metadata": {},
          "output_type": "execute_result"
        }
      ]
    },
    {
      "cell_type": "code",
      "metadata": {
        "colab": {
          "base_uri": "https://localhost:8080/"
        },
        "execution": {
          "iopub.execute_input": "2021-07-04T08:15:04.576492Z",
          "iopub.status.busy": "2021-07-04T08:15:04.575437Z",
          "iopub.status.idle": "2021-07-04T08:15:04.580464Z",
          "shell.execute_reply": "2021-07-04T08:15:04.581297Z"
        },
        "id": "jpZgLrW-nFSe",
        "outputId": "1b906c14-5f76-4c05-edbc-3dc56130f2e4"
      },
      "source": [
        "model.loss.threshold"
      ],
      "execution_count": null,
      "outputs": [
        {
          "data": {
            "text/plain": [
              "2.0"
            ]
          },
          "execution_count": 82,
          "metadata": {},
          "output_type": "execute_result"
        }
      ]
    },
    {
      "cell_type": "markdown",
      "metadata": {
        "id": "truxJ-5enFSe"
      },
      "source": [
        "## 그외 사용자 정의 함수"
      ]
    },
    {
      "cell_type": "code",
      "metadata": {
        "execution": {
          "iopub.execute_input": "2021-07-04T08:15:04.589988Z",
          "iopub.status.busy": "2021-07-04T08:15:04.588495Z",
          "iopub.status.idle": "2021-07-04T08:15:04.629460Z",
          "shell.execute_reply": "2021-07-04T08:15:04.627925Z"
        },
        "id": "o1ZGp6XNnFSe"
      },
      "source": [
        "keras.backend.clear_session()\n",
        "np.random.seed(42)\n",
        "tf.random.set_seed(42)"
      ],
      "execution_count": null,
      "outputs": []
    },
    {
      "cell_type": "code",
      "metadata": {
        "execution": {
          "iopub.execute_input": "2021-07-04T08:15:04.651373Z",
          "iopub.status.busy": "2021-07-04T08:15:04.649654Z",
          "iopub.status.idle": "2021-07-04T08:15:04.653191Z",
          "shell.execute_reply": "2021-07-04T08:15:04.654590Z"
        },
        "id": "yB3e_4JbnFSe"
      },
      "source": [
        "def my_softplus(z): # tf.nn.softplus(z) 값을 반환합니다\n",
        "    return tf.math.log(tf.exp(z) + 1.0)\n",
        "\n",
        "def my_glorot_initializer(shape, dtype=tf.float32):\n",
        "    stddev = tf.sqrt(2. / (shape[0] + shape[1]))\n",
        "    return tf.random.normal(shape, stddev=stddev, dtype=dtype)\n",
        "\n",
        "def my_l1_regularizer(weights):\n",
        "    return tf.reduce_sum(tf.abs(0.01 * weights))\n",
        "\n",
        "def my_positive_weights(weights): # tf.nn.relu(weights) 값을 반환합니다\n",
        "    return tf.where(weights < 0., tf.zeros_like(weights), weights)"
      ],
      "execution_count": null,
      "outputs": []
    },
    {
      "cell_type": "code",
      "metadata": {
        "execution": {
          "iopub.execute_input": "2021-07-04T08:15:04.665873Z",
          "iopub.status.busy": "2021-07-04T08:15:04.664915Z",
          "iopub.status.idle": "2021-07-04T08:15:04.668497Z",
          "shell.execute_reply": "2021-07-04T08:15:04.669224Z"
        },
        "id": "KoYamcfmnFSf"
      },
      "source": [
        "layer = keras.layers.Dense(1, activation=my_softplus,\n",
        "                           kernel_initializer=my_glorot_initializer,\n",
        "                           kernel_regularizer=my_l1_regularizer,\n",
        "                           kernel_constraint=my_positive_weights)"
      ],
      "execution_count": null,
      "outputs": []
    },
    {
      "cell_type": "code",
      "metadata": {
        "execution": {
          "iopub.execute_input": "2021-07-04T08:15:04.676960Z",
          "iopub.status.busy": "2021-07-04T08:15:04.675394Z",
          "iopub.status.idle": "2021-07-04T08:15:04.681627Z",
          "shell.execute_reply": "2021-07-04T08:15:04.682609Z"
        },
        "id": "OjTWCzNknFSf"
      },
      "source": [
        "keras.backend.clear_session()\n",
        "np.random.seed(42)\n",
        "tf.random.set_seed(42)"
      ],
      "execution_count": null,
      "outputs": []
    },
    {
      "cell_type": "code",
      "metadata": {
        "execution": {
          "iopub.execute_input": "2021-07-04T08:15:04.698955Z",
          "iopub.status.busy": "2021-07-04T08:15:04.697532Z",
          "iopub.status.idle": "2021-07-04T08:15:04.725625Z",
          "shell.execute_reply": "2021-07-04T08:15:04.726757Z"
        },
        "id": "eOl39GkynFSf"
      },
      "source": [
        "model = keras.models.Sequential([\n",
        "    keras.layers.Dense(30, activation=\"selu\", kernel_initializer=\"lecun_normal\",\n",
        "                       input_shape=input_shape),\n",
        "    keras.layers.Dense(1, activation=my_softplus,\n",
        "                       kernel_regularizer=my_l1_regularizer,\n",
        "                       kernel_constraint=my_positive_weights,\n",
        "                       kernel_initializer=my_glorot_initializer),\n",
        "])"
      ],
      "execution_count": null,
      "outputs": []
    },
    {
      "cell_type": "code",
      "metadata": {
        "execution": {
          "iopub.execute_input": "2021-07-04T08:15:04.744912Z",
          "iopub.status.busy": "2021-07-04T08:15:04.743523Z",
          "iopub.status.idle": "2021-07-04T08:15:04.751176Z",
          "shell.execute_reply": "2021-07-04T08:15:04.752176Z"
        },
        "id": "Pj0gQWgnnFSf"
      },
      "source": [
        "model.compile(loss=\"mse\", optimizer=\"nadam\", metrics=[\"mae\"])"
      ],
      "execution_count": null,
      "outputs": []
    },
    {
      "cell_type": "code",
      "metadata": {
        "colab": {
          "base_uri": "https://localhost:8080/"
        },
        "execution": {
          "iopub.execute_input": "2021-07-04T08:15:04.761800Z",
          "iopub.status.busy": "2021-07-04T08:15:04.760020Z",
          "iopub.status.idle": "2021-07-04T08:15:09.144757Z",
          "shell.execute_reply": "2021-07-04T08:15:09.145795Z"
        },
        "id": "c1nX7r3RnFSf",
        "scrolled": false,
        "outputId": "06dffd5a-07a7-4d09-ea34-acdd8a34a1e8"
      },
      "source": [
        "model.fit(X_train_scaled, y_train, epochs=2,\n",
        "          validation_data=(X_valid_scaled, y_valid))"
      ],
      "execution_count": null,
      "outputs": [
        {
          "name": "stdout",
          "output_type": "stream",
          "text": [
            "Epoch 1/2\n",
            "363/363 [==============================] - 2s 5ms/step - loss: 1.5542 - mae: 0.8962 - val_loss: 1.4154 - val_mae: 0.5607\n",
            "Epoch 2/2\n",
            "363/363 [==============================] - 2s 4ms/step - loss: 0.5943 - mae: 0.5256 - val_loss: 1.4399 - val_mae: 0.5137\n"
          ]
        },
        {
          "data": {
            "text/plain": [
              "<keras.callbacks.History at 0x7fd47a9865d0>"
            ]
          },
          "execution_count": 89,
          "metadata": {},
          "output_type": "execute_result"
        }
      ]
    },
    {
      "cell_type": "code",
      "metadata": {
        "execution": {
          "iopub.execute_input": "2021-07-04T08:15:09.167536Z",
          "iopub.status.busy": "2021-07-04T08:15:09.166470Z",
          "iopub.status.idle": "2021-07-04T08:15:09.199791Z",
          "shell.execute_reply": "2021-07-04T08:15:09.201240Z"
        },
        "id": "--fx4XjEnFSf"
      },
      "source": [
        "model.save(\"my_model_with_many_custom_parts.h5\")"
      ],
      "execution_count": null,
      "outputs": []
    },
    {
      "cell_type": "code",
      "metadata": {
        "execution": {
          "iopub.execute_input": "2021-07-04T08:15:09.211908Z",
          "iopub.status.busy": "2021-07-04T08:15:09.210859Z",
          "iopub.status.idle": "2021-07-04T08:15:09.299636Z",
          "shell.execute_reply": "2021-07-04T08:15:09.298692Z"
        },
        "id": "mzao-J6hnFSf"
      },
      "source": [
        "model = keras.models.load_model(\n",
        "    \"my_model_with_many_custom_parts.h5\",\n",
        "    custom_objects={\n",
        "       \"my_l1_regularizer\": my_l1_regularizer,\n",
        "       \"my_positive_weights\": my_positive_weights,\n",
        "       \"my_glorot_initializer\": my_glorot_initializer,\n",
        "       \"my_softplus\": my_softplus,\n",
        "    })"
      ],
      "execution_count": null,
      "outputs": []
    },
    {
      "cell_type": "code",
      "metadata": {
        "execution": {
          "iopub.execute_input": "2021-07-04T08:15:09.311370Z",
          "iopub.status.busy": "2021-07-04T08:15:09.309901Z",
          "iopub.status.idle": "2021-07-04T08:15:09.313019Z",
          "shell.execute_reply": "2021-07-04T08:15:09.314231Z"
        },
        "id": "jCVaCcxwnFSf"
      },
      "source": [
        "class MyL1Regularizer(keras.regularizers.Regularizer):\n",
        "    def __init__(self, factor):\n",
        "        self.factor = factor\n",
        "    def __call__(self, weights):\n",
        "        return tf.reduce_sum(tf.abs(self.factor * weights))\n",
        "    def get_config(self):\n",
        "        return {\"factor\": self.factor}"
      ],
      "execution_count": null,
      "outputs": []
    },
    {
      "cell_type": "code",
      "metadata": {
        "execution": {
          "iopub.execute_input": "2021-07-04T08:15:09.323296Z",
          "iopub.status.busy": "2021-07-04T08:15:09.322226Z",
          "iopub.status.idle": "2021-07-04T08:15:09.331068Z",
          "shell.execute_reply": "2021-07-04T08:15:09.331982Z"
        },
        "id": "8B62Te2ZnFSf"
      },
      "source": [
        "keras.backend.clear_session()\n",
        "np.random.seed(42)\n",
        "tf.random.set_seed(42)"
      ],
      "execution_count": null,
      "outputs": []
    },
    {
      "cell_type": "code",
      "metadata": {
        "execution": {
          "iopub.execute_input": "2021-07-04T08:15:09.336986Z",
          "iopub.status.busy": "2021-07-04T08:15:09.335822Z",
          "iopub.status.idle": "2021-07-04T08:15:09.371820Z",
          "shell.execute_reply": "2021-07-04T08:15:09.372684Z"
        },
        "id": "D5zjm10KnFSg"
      },
      "source": [
        "model = keras.models.Sequential([\n",
        "    keras.layers.Dense(30, activation=\"selu\", kernel_initializer=\"lecun_normal\",\n",
        "                       input_shape=input_shape),\n",
        "    keras.layers.Dense(1, activation=my_softplus,\n",
        "                       kernel_regularizer=MyL1Regularizer(0.01),\n",
        "                       kernel_constraint=my_positive_weights,\n",
        "                       kernel_initializer=my_glorot_initializer),\n",
        "])"
      ],
      "execution_count": null,
      "outputs": []
    },
    {
      "cell_type": "code",
      "metadata": {
        "execution": {
          "iopub.execute_input": "2021-07-04T08:15:09.376664Z",
          "iopub.status.busy": "2021-07-04T08:15:09.375792Z",
          "iopub.status.idle": "2021-07-04T08:15:09.394320Z",
          "shell.execute_reply": "2021-07-04T08:15:09.393397Z"
        },
        "id": "YffhdIG-nFSg"
      },
      "source": [
        "model.compile(loss=\"mse\", optimizer=\"nadam\", metrics=[\"mae\"])"
      ],
      "execution_count": null,
      "outputs": []
    },
    {
      "cell_type": "code",
      "metadata": {
        "colab": {
          "base_uri": "https://localhost:8080/"
        },
        "execution": {
          "iopub.execute_input": "2021-07-04T08:15:09.400219Z",
          "iopub.status.busy": "2021-07-04T08:15:09.397613Z",
          "iopub.status.idle": "2021-07-04T08:15:13.847502Z",
          "shell.execute_reply": "2021-07-04T08:15:13.848611Z"
        },
        "id": "KgQEiQR6nFSg",
        "outputId": "4b4043b0-0f69-4636-8544-5cc37ae97ef5"
      },
      "source": [
        "model.fit(X_train_scaled, y_train, epochs=2,\n",
        "          validation_data=(X_valid_scaled, y_valid))"
      ],
      "execution_count": null,
      "outputs": [
        {
          "name": "stdout",
          "output_type": "stream",
          "text": [
            "Epoch 1/2\n",
            "363/363 [==============================] - 3s 5ms/step - loss: 1.5542 - mae: 0.8962 - val_loss: 1.4154 - val_mae: 0.5607\n",
            "Epoch 2/2\n",
            "363/363 [==============================] - 2s 5ms/step - loss: 0.5943 - mae: 0.5256 - val_loss: 1.4399 - val_mae: 0.5137\n"
          ]
        },
        {
          "data": {
            "text/plain": [
              "<keras.callbacks.History at 0x7fd479f76250>"
            ]
          },
          "execution_count": 96,
          "metadata": {},
          "output_type": "execute_result"
        }
      ]
    },
    {
      "cell_type": "code",
      "metadata": {
        "execution": {
          "iopub.execute_input": "2021-07-04T08:15:13.868331Z",
          "iopub.status.busy": "2021-07-04T08:15:13.866654Z",
          "iopub.status.idle": "2021-07-04T08:15:13.896032Z",
          "shell.execute_reply": "2021-07-04T08:15:13.897428Z"
        },
        "id": "RfI--9P8nFSg"
      },
      "source": [
        "model.save(\"my_model_with_many_custom_parts.h5\")"
      ],
      "execution_count": null,
      "outputs": []
    },
    {
      "cell_type": "code",
      "metadata": {
        "execution": {
          "iopub.execute_input": "2021-07-04T08:15:13.907144Z",
          "iopub.status.busy": "2021-07-04T08:15:13.905960Z",
          "iopub.status.idle": "2021-07-04T08:15:13.987931Z",
          "shell.execute_reply": "2021-07-04T08:15:13.988742Z"
        },
        "id": "bKcPzkuGnFSh"
      },
      "source": [
        "model = keras.models.load_model(\n",
        "    \"my_model_with_many_custom_parts.h5\",\n",
        "    custom_objects={\n",
        "       \"MyL1Regularizer\": MyL1Regularizer,\n",
        "       \"my_positive_weights\": my_positive_weights,\n",
        "       \"my_glorot_initializer\": my_glorot_initializer,\n",
        "       \"my_softplus\": my_softplus,\n",
        "    })"
      ],
      "execution_count": null,
      "outputs": []
    },
    {
      "cell_type": "markdown",
      "metadata": {
        "id": "8i816JgTnFSh"
      },
      "source": [
        "## 사용자 정의 지표"
      ]
    },
    {
      "cell_type": "code",
      "metadata": {
        "execution": {
          "iopub.execute_input": "2021-07-04T08:15:14.004630Z",
          "iopub.status.busy": "2021-07-04T08:15:13.996233Z",
          "iopub.status.idle": "2021-07-04T08:15:14.010998Z",
          "shell.execute_reply": "2021-07-04T08:15:14.009850Z"
        },
        "id": "EZWWawkinFSh"
      },
      "source": [
        "keras.backend.clear_session()\n",
        "np.random.seed(42)\n",
        "tf.random.set_seed(42)"
      ],
      "execution_count": null,
      "outputs": []
    },
    {
      "cell_type": "code",
      "metadata": {
        "execution": {
          "iopub.execute_input": "2021-07-04T08:15:14.025252Z",
          "iopub.status.busy": "2021-07-04T08:15:14.023888Z",
          "iopub.status.idle": "2021-07-04T08:15:14.047903Z",
          "shell.execute_reply": "2021-07-04T08:15:14.048881Z"
        },
        "id": "K1fe2oELnFSh"
      },
      "source": [
        "model = keras.models.Sequential([\n",
        "    keras.layers.Dense(30, activation=\"selu\", kernel_initializer=\"lecun_normal\",\n",
        "                       input_shape=input_shape),\n",
        "    keras.layers.Dense(1),\n",
        "])"
      ],
      "execution_count": null,
      "outputs": []
    },
    {
      "cell_type": "code",
      "metadata": {
        "execution": {
          "iopub.execute_input": "2021-07-04T08:15:14.065249Z",
          "iopub.status.busy": "2021-07-04T08:15:14.064079Z",
          "iopub.status.idle": "2021-07-04T08:15:14.070303Z",
          "shell.execute_reply": "2021-07-04T08:15:14.071380Z"
        },
        "id": "SIHTKaKNnFSh"
      },
      "source": [
        "model.compile(loss=\"mse\", optimizer=\"nadam\", metrics=[create_huber(2.0)])"
      ],
      "execution_count": null,
      "outputs": []
    },
    {
      "cell_type": "code",
      "metadata": {
        "colab": {
          "base_uri": "https://localhost:8080/"
        },
        "execution": {
          "iopub.execute_input": "2021-07-04T08:15:14.078905Z",
          "iopub.status.busy": "2021-07-04T08:15:14.077659Z",
          "iopub.status.idle": "2021-07-04T08:15:17.591938Z",
          "shell.execute_reply": "2021-07-04T08:15:17.592933Z"
        },
        "id": "g4l-_an2nFSh",
        "outputId": "0b42b348-4068-4e70-f444-1b5883d8607d"
      },
      "source": [
        "model.fit(X_train_scaled, y_train, epochs=2)"
      ],
      "execution_count": null,
      "outputs": [
        {
          "name": "stdout",
          "output_type": "stream",
          "text": [
            "Epoch 1/2\n",
            "363/363 [==============================] - 2s 4ms/step - loss: 2.0982 - huber_fn: 0.9192\n",
            "Epoch 2/2\n",
            "363/363 [==============================] - 1s 4ms/step - loss: 0.6052 - huber_fn: 0.2733\n"
          ]
        },
        {
          "data": {
            "text/plain": [
              "<keras.callbacks.History at 0x7fd476f3bbd0>"
            ]
          },
          "execution_count": 102,
          "metadata": {},
          "output_type": "execute_result"
        }
      ]
    },
    {
      "cell_type": "code",
      "metadata": {
        "execution": {
          "iopub.execute_input": "2021-07-04T08:15:17.602557Z",
          "iopub.status.busy": "2021-07-04T08:15:17.601483Z",
          "iopub.status.idle": "2021-07-04T08:15:17.618592Z",
          "shell.execute_reply": "2021-07-04T08:15:17.619398Z"
        },
        "id": "9DGQB6V3nFSh"
      },
      "source": [
        "model.compile(loss=create_huber(2.0), optimizer=\"nadam\", metrics=[create_huber(2.0)])"
      ],
      "execution_count": null,
      "outputs": []
    },
    {
      "cell_type": "code",
      "metadata": {
        "colab": {
          "base_uri": "https://localhost:8080/"
        },
        "execution": {
          "iopub.execute_input": "2021-07-04T08:15:17.626600Z",
          "iopub.status.busy": "2021-07-04T08:15:17.625547Z",
          "iopub.status.idle": "2021-07-04T08:15:22.357734Z",
          "shell.execute_reply": "2021-07-04T08:15:22.356536Z"
        },
        "id": "EjeISBIOnFSh",
        "outputId": "3484be7d-b172-4be9-c8f1-8758a24467bc"
      },
      "source": [
        "sample_weight = np.random.rand(len(y_train))\n",
        "history = model.fit(X_train_scaled, y_train, epochs=2, sample_weight=sample_weight)"
      ],
      "execution_count": null,
      "outputs": [
        {
          "name": "stdout",
          "output_type": "stream",
          "text": [
            "Epoch 1/2\n",
            "363/363 [==============================] - 2s 3ms/step - loss: 0.1175 - huber_fn: 0.2399\n",
            "Epoch 2/2\n",
            "363/363 [==============================] - 1s 3ms/step - loss: 0.1131 - huber_fn: 0.2297\n"
          ]
        }
      ]
    },
    {
      "cell_type": "code",
      "metadata": {
        "colab": {
          "base_uri": "https://localhost:8080/"
        },
        "execution": {
          "iopub.execute_input": "2021-07-04T08:15:22.369800Z",
          "iopub.status.busy": "2021-07-04T08:15:22.368364Z",
          "iopub.status.idle": "2021-07-04T08:15:22.373044Z",
          "shell.execute_reply": "2021-07-04T08:15:22.374077Z"
        },
        "id": "eKbXc3FInFSi",
        "outputId": "e199de4c-bb02-41d8-8c04-7d88d1bb1988"
      },
      "source": [
        "history.history[\"loss\"][0], history.history[\"huber_fn\"][0] * sample_weight.mean()"
      ],
      "execution_count": null,
      "outputs": [
        {
          "data": {
            "text/plain": [
              "(0.11749907582998276, 0.11906625573138947)"
            ]
          },
          "execution_count": 105,
          "metadata": {},
          "output_type": "execute_result"
        }
      ]
    },
    {
      "cell_type": "markdown",
      "metadata": {
        "id": "8_Df63lFnFSi"
      },
      "source": [
        "### 스트리밍 지표"
      ]
    },
    {
      "cell_type": "code",
      "metadata": {
        "colab": {
          "base_uri": "https://localhost:8080/"
        },
        "execution": {
          "iopub.execute_input": "2021-07-04T08:15:22.626671Z",
          "iopub.status.busy": "2021-07-04T08:15:22.624853Z",
          "iopub.status.idle": "2021-07-04T08:15:22.749065Z",
          "shell.execute_reply": "2021-07-04T08:15:22.750374Z"
        },
        "id": "7wW4uLd9nFSi",
        "outputId": "9a8d3c26-bc07-4bf1-d104-83474e997416"
      },
      "source": [
        "precision = keras.metrics.Precision()\n",
        "precision([0, 1, 1, 1, 0, 1, 0, 1], [1, 1, 0, 1, 0, 1, 0, 1])"
      ],
      "execution_count": null,
      "outputs": [
        {
          "data": {
            "text/plain": [
              "<tf.Tensor: shape=(), dtype=float32, numpy=0.8>"
            ]
          },
          "execution_count": 106,
          "metadata": {},
          "output_type": "execute_result"
        }
      ]
    },
    {
      "cell_type": "code",
      "metadata": {
        "colab": {
          "base_uri": "https://localhost:8080/"
        },
        "execution": {
          "iopub.execute_input": "2021-07-04T08:15:22.759945Z",
          "iopub.status.busy": "2021-07-04T08:15:22.759008Z",
          "iopub.status.idle": "2021-07-04T08:15:22.769857Z",
          "shell.execute_reply": "2021-07-04T08:15:22.770856Z"
        },
        "id": "zed4nGD3nFSi",
        "outputId": "4461d5d8-ce7f-4589-b3b5-f134b9102915"
      },
      "source": [
        "precision([0, 1, 0, 0, 1, 0, 1, 1], [1, 0, 1, 1, 0, 0, 0, 0])"
      ],
      "execution_count": null,
      "outputs": [
        {
          "data": {
            "text/plain": [
              "<tf.Tensor: shape=(), dtype=float32, numpy=0.5>"
            ]
          },
          "execution_count": 107,
          "metadata": {},
          "output_type": "execute_result"
        }
      ]
    },
    {
      "cell_type": "code",
      "metadata": {
        "colab": {
          "base_uri": "https://localhost:8080/"
        },
        "execution": {
          "iopub.execute_input": "2021-07-04T08:15:22.777898Z",
          "iopub.status.busy": "2021-07-04T08:15:22.776585Z",
          "iopub.status.idle": "2021-07-04T08:15:22.783204Z",
          "shell.execute_reply": "2021-07-04T08:15:22.784016Z"
        },
        "id": "RqFgNHLPnFSi",
        "outputId": "52e2add8-3f95-4498-e6c8-c971d3e637ec"
      },
      "source": [
        "precision.result()"
      ],
      "execution_count": null,
      "outputs": [
        {
          "data": {
            "text/plain": [
              "<tf.Tensor: shape=(), dtype=float32, numpy=0.5>"
            ]
          },
          "execution_count": 108,
          "metadata": {},
          "output_type": "execute_result"
        }
      ]
    },
    {
      "cell_type": "code",
      "metadata": {
        "colab": {
          "base_uri": "https://localhost:8080/"
        },
        "execution": {
          "iopub.execute_input": "2021-07-04T08:15:22.791061Z",
          "iopub.status.busy": "2021-07-04T08:15:22.789955Z",
          "iopub.status.idle": "2021-07-04T08:15:22.796509Z",
          "shell.execute_reply": "2021-07-04T08:15:22.797376Z"
        },
        "id": "DoCvoOt5nFSi",
        "outputId": "c847c2d0-e801-4dfe-fb5d-615ee2c0fe21"
      },
      "source": [
        "precision.variables"
      ],
      "execution_count": null,
      "outputs": [
        {
          "data": {
            "text/plain": [
              "[<tf.Variable 'true_positives:0' shape=(1,) dtype=float32, numpy=array([4.], dtype=float32)>,\n",
              " <tf.Variable 'false_positives:0' shape=(1,) dtype=float32, numpy=array([4.], dtype=float32)>]"
            ]
          },
          "execution_count": 109,
          "metadata": {},
          "output_type": "execute_result"
        }
      ]
    },
    {
      "cell_type": "code",
      "metadata": {
        "execution": {
          "iopub.execute_input": "2021-07-04T08:15:22.803983Z",
          "iopub.status.busy": "2021-07-04T08:15:22.802886Z",
          "iopub.status.idle": "2021-07-04T08:15:22.807339Z",
          "shell.execute_reply": "2021-07-04T08:15:22.808102Z"
        },
        "id": "Bb3EbnzGnFSi"
      },
      "source": [
        "precision.reset_states()"
      ],
      "execution_count": null,
      "outputs": []
    },
    {
      "cell_type": "markdown",
      "metadata": {
        "id": "WuhZp4TEnFSi"
      },
      "source": [
        "스트리밍 지표 만들기:"
      ]
    },
    {
      "cell_type": "code",
      "metadata": {
        "execution": {
          "iopub.execute_input": "2021-07-04T08:15:22.825852Z",
          "iopub.status.busy": "2021-07-04T08:15:22.824787Z",
          "iopub.status.idle": "2021-07-04T08:15:22.828894Z",
          "shell.execute_reply": "2021-07-04T08:15:22.829904Z"
        },
        "id": "PseG5pPUnFSi"
      },
      "source": [
        "class HuberMetric(keras.metrics.Metric):\n",
        "    def __init__(self, threshold=1.0, **kwargs):\n",
        "        super().__init__(**kwargs) # 기본 매개변수 처리 (예를 들면, dtype)\n",
        "        self.threshold = threshold\n",
        "        self.huber_fn = create_huber(threshold)\n",
        "        self.total = self.add_weight(\"total\", initializer=\"zeros\")\n",
        "        self.count = self.add_weight(\"count\", initializer=\"zeros\")\n",
        "    def update_state(self, y_true, y_pred, sample_weight=None):\n",
        "        metric = self.huber_fn(y_true, y_pred)\n",
        "        self.total.assign_add(tf.reduce_sum(metric))\n",
        "        self.count.assign_add(tf.cast(tf.size(y_true), tf.float32))\n",
        "    def result(self):\n",
        "        return self.total / self.count\n",
        "    def get_config(self):\n",
        "        base_config = super().get_config()\n",
        "        return {**base_config, \"threshold\": self.threshold}"
      ],
      "execution_count": null,
      "outputs": []
    },
    {
      "cell_type": "code",
      "metadata": {
        "colab": {
          "base_uri": "https://localhost:8080/"
        },
        "execution": {
          "iopub.execute_input": "2021-07-04T08:15:22.849379Z",
          "iopub.status.busy": "2021-07-04T08:15:22.842123Z",
          "iopub.status.idle": "2021-07-04T08:15:22.979409Z",
          "shell.execute_reply": "2021-07-04T08:15:22.980690Z"
        },
        "id": "N3oSW-yJnFSi",
        "outputId": "c6168f06-a1a0-4a27-c304-b863fc4a0f13"
      },
      "source": [
        "m = HuberMetric(2.)\n",
        "\n",
        "# total = 2 * |10 - 2| - 2²/2 = 14\n",
        "# count = 1\n",
        "# result = 14 / 1 = 14\n",
        "m(tf.constant([[2.]]), tf.constant([[10.]])) "
      ],
      "execution_count": null,
      "outputs": [
        {
          "data": {
            "text/plain": [
              "<tf.Tensor: shape=(), dtype=float32, numpy=14.0>"
            ]
          },
          "execution_count": 112,
          "metadata": {},
          "output_type": "execute_result"
        }
      ]
    },
    {
      "cell_type": "code",
      "metadata": {
        "colab": {
          "base_uri": "https://localhost:8080/"
        },
        "execution": {
          "iopub.execute_input": "2021-07-04T08:15:22.992007Z",
          "iopub.status.busy": "2021-07-04T08:15:22.990814Z",
          "iopub.status.idle": "2021-07-04T08:15:23.000738Z",
          "shell.execute_reply": "2021-07-04T08:15:23.001656Z"
        },
        "id": "fZxdkhK_nFSi",
        "outputId": "096a373e-d98a-4fff-8320-7e78788b6d32"
      },
      "source": [
        "# total = total + (|1 - 0|² / 2) + (2 * |9.25 - 5| - 2² / 2) = 14 + 7 = 21\n",
        "# count = count + 2 = 3\n",
        "# result = total / count = 21 / 3 = 7\n",
        "m(tf.constant([[0.], [5.]]), tf.constant([[1.], [9.25]]))\n",
        "\n",
        "m.result()"
      ],
      "execution_count": null,
      "outputs": [
        {
          "data": {
            "text/plain": [
              "<tf.Tensor: shape=(), dtype=float32, numpy=7.0>"
            ]
          },
          "execution_count": 113,
          "metadata": {},
          "output_type": "execute_result"
        }
      ]
    },
    {
      "cell_type": "code",
      "metadata": {
        "colab": {
          "base_uri": "https://localhost:8080/"
        },
        "execution": {
          "iopub.execute_input": "2021-07-04T08:15:23.007901Z",
          "iopub.status.busy": "2021-07-04T08:15:23.006876Z",
          "iopub.status.idle": "2021-07-04T08:15:23.012642Z",
          "shell.execute_reply": "2021-07-04T08:15:23.013453Z"
        },
        "id": "V4Yj14hCnFSj",
        "outputId": "1e5d3580-85db-4d3e-87d6-6147b9ab4139"
      },
      "source": [
        "m.variables"
      ],
      "execution_count": null,
      "outputs": [
        {
          "data": {
            "text/plain": [
              "[<tf.Variable 'total:0' shape=() dtype=float32, numpy=21.0>,\n",
              " <tf.Variable 'count:0' shape=() dtype=float32, numpy=3.0>]"
            ]
          },
          "execution_count": 114,
          "metadata": {},
          "output_type": "execute_result"
        }
      ]
    },
    {
      "cell_type": "code",
      "metadata": {
        "colab": {
          "base_uri": "https://localhost:8080/"
        },
        "execution": {
          "iopub.execute_input": "2021-07-04T08:15:23.020099Z",
          "iopub.status.busy": "2021-07-04T08:15:23.019059Z",
          "iopub.status.idle": "2021-07-04T08:15:23.025577Z",
          "shell.execute_reply": "2021-07-04T08:15:23.026477Z"
        },
        "id": "AR4lyDg4nFSj",
        "outputId": "e4cc7879-23d8-4a53-dd57-95400cb52a3c"
      },
      "source": [
        "m.reset_states()\n",
        "m.variables"
      ],
      "execution_count": null,
      "outputs": [
        {
          "data": {
            "text/plain": [
              "[<tf.Variable 'total:0' shape=() dtype=float32, numpy=0.0>,\n",
              " <tf.Variable 'count:0' shape=() dtype=float32, numpy=0.0>]"
            ]
          },
          "execution_count": 115,
          "metadata": {},
          "output_type": "execute_result"
        }
      ]
    },
    {
      "cell_type": "markdown",
      "metadata": {
        "id": "NWT6cVPunFSj"
      },
      "source": [
        "`HuberMetric` 클래스가 잘 동작하는지 확인해 보죠:"
      ]
    },
    {
      "cell_type": "code",
      "metadata": {
        "execution": {
          "iopub.execute_input": "2021-07-04T08:15:23.035392Z",
          "iopub.status.busy": "2021-07-04T08:15:23.034294Z",
          "iopub.status.idle": "2021-07-04T08:15:23.044938Z",
          "shell.execute_reply": "2021-07-04T08:15:23.045831Z"
        },
        "id": "o_JZayvonFSj"
      },
      "source": [
        "keras.backend.clear_session()\n",
        "np.random.seed(42)\n",
        "tf.random.set_seed(42)"
      ],
      "execution_count": null,
      "outputs": []
    },
    {
      "cell_type": "code",
      "metadata": {
        "execution": {
          "iopub.execute_input": "2021-07-04T08:15:23.059263Z",
          "iopub.status.busy": "2021-07-04T08:15:23.057895Z",
          "iopub.status.idle": "2021-07-04T08:15:23.080858Z",
          "shell.execute_reply": "2021-07-04T08:15:23.081963Z"
        },
        "id": "JI1L36IJnFSj"
      },
      "source": [
        "model = keras.models.Sequential([\n",
        "    keras.layers.Dense(30, activation=\"selu\", kernel_initializer=\"lecun_normal\",\n",
        "                       input_shape=input_shape),\n",
        "    keras.layers.Dense(1),\n",
        "])"
      ],
      "execution_count": null,
      "outputs": []
    },
    {
      "cell_type": "code",
      "metadata": {
        "execution": {
          "iopub.execute_input": "2021-07-04T08:15:23.096408Z",
          "iopub.status.busy": "2021-07-04T08:15:23.092739Z",
          "iopub.status.idle": "2021-07-04T08:15:23.109658Z",
          "shell.execute_reply": "2021-07-04T08:15:23.110862Z"
        },
        "id": "6sJSLY0HnFSj"
      },
      "source": [
        "model.compile(loss=create_huber(2.0), optimizer=\"nadam\", metrics=[HuberMetric(2.0)])"
      ],
      "execution_count": null,
      "outputs": []
    },
    {
      "cell_type": "code",
      "metadata": {
        "colab": {
          "base_uri": "https://localhost:8080/"
        },
        "execution": {
          "iopub.execute_input": "2021-07-04T08:15:23.120177Z",
          "iopub.status.busy": "2021-07-04T08:15:23.118905Z",
          "iopub.status.idle": "2021-07-04T08:15:26.468091Z",
          "shell.execute_reply": "2021-07-04T08:15:26.469262Z"
        },
        "id": "68uiyAcUnFSj",
        "outputId": "fb70d71b-7ded-43dd-c69c-7b0d93e4c53b"
      },
      "source": [
        "model.fit(X_train_scaled.astype(np.float32), y_train.astype(np.float32), epochs=2)"
      ],
      "execution_count": null,
      "outputs": [
        {
          "name": "stdout",
          "output_type": "stream",
          "text": [
            "Epoch 1/2\n",
            "363/363 [==============================] - 2s 3ms/step - loss: 0.8707 - huber_metric: 0.8707\n",
            "Epoch 2/2\n",
            "363/363 [==============================] - 1s 3ms/step - loss: 0.2595 - huber_metric: 0.2595\n"
          ]
        },
        {
          "data": {
            "text/plain": [
              "<keras.callbacks.History at 0x7fd47a4e9fd0>"
            ]
          },
          "execution_count": 119,
          "metadata": {},
          "output_type": "execute_result"
        }
      ]
    },
    {
      "cell_type": "code",
      "metadata": {
        "execution": {
          "iopub.execute_input": "2021-07-04T08:15:26.501237Z",
          "iopub.status.busy": "2021-07-04T08:15:26.499598Z",
          "iopub.status.idle": "2021-07-04T08:15:26.526806Z",
          "shell.execute_reply": "2021-07-04T08:15:26.527883Z"
        },
        "id": "bxInm5qnnFSj"
      },
      "source": [
        "model.save(\"my_model_with_a_custom_metric.h5\")"
      ],
      "execution_count": null,
      "outputs": []
    },
    {
      "cell_type": "code",
      "metadata": {
        "execution": {
          "iopub.execute_input": "2021-07-04T08:15:26.536250Z",
          "iopub.status.busy": "2021-07-04T08:15:26.534870Z",
          "iopub.status.idle": "2021-07-04T08:15:26.603542Z",
          "shell.execute_reply": "2021-07-04T08:15:26.604356Z"
        },
        "id": "7JTorko_nFSj"
      },
      "source": [
        "model = keras.models.load_model(\"my_model_with_a_custom_metric.h5\",\n",
        "                                custom_objects={\"huber_fn\": create_huber(2.0),\n",
        "                                                \"HuberMetric\": HuberMetric})"
      ],
      "execution_count": null,
      "outputs": []
    },
    {
      "cell_type": "code",
      "metadata": {
        "colab": {
          "base_uri": "https://localhost:8080/"
        },
        "execution": {
          "iopub.execute_input": "2021-07-04T08:15:26.612094Z",
          "iopub.status.busy": "2021-07-04T08:15:26.610601Z",
          "iopub.status.idle": "2021-07-04T08:15:29.811418Z",
          "shell.execute_reply": "2021-07-04T08:15:29.810056Z"
        },
        "id": "EO4pBgVxnFSj",
        "outputId": "89d66c65-882d-4ac5-f9dd-12527a04f0f8"
      },
      "source": [
        "model.fit(X_train_scaled.astype(np.float32), y_train.astype(np.float32), epochs=2)"
      ],
      "execution_count": null,
      "outputs": [
        {
          "name": "stdout",
          "output_type": "stream",
          "text": [
            "Epoch 1/2\n",
            "363/363 [==============================] - 2s 3ms/step - loss: 0.2350 - huber_metric: 0.2350\n",
            "Epoch 2/2\n",
            "363/363 [==============================] - 1s 3ms/step - loss: 0.2278 - huber_metric: 0.2278\n"
          ]
        },
        {
          "data": {
            "text/plain": [
              "<keras.callbacks.History at 0x7fd47a326690>"
            ]
          },
          "execution_count": 122,
          "metadata": {},
          "output_type": "execute_result"
        }
      ]
    },
    {
      "cell_type": "markdown",
      "metadata": {
        "id": "mH6-Xw2HnFSj"
      },
      "source": [
        "**경고**: 텐서플로 2.2에서 tf.keras가 `model.metrics`의 0번째 위치에 지표를 추가합니다([텐서플로 이슈 #38150](https://github.com/tensorflow/tensorflow/issues/38150) 참조). 따라서 `HuberMetric`에 접근하려면 `model.metrics[0]` 대신 `model.metrics[-1]`를 사용해야 합니다."
      ]
    },
    {
      "cell_type": "code",
      "metadata": {
        "colab": {
          "base_uri": "https://localhost:8080/"
        },
        "execution": {
          "iopub.execute_input": "2021-07-04T08:15:29.820526Z",
          "iopub.status.busy": "2021-07-04T08:15:29.819586Z",
          "iopub.status.idle": "2021-07-04T08:15:29.825170Z",
          "shell.execute_reply": "2021-07-04T08:15:29.824379Z"
        },
        "id": "4KnXWivunFSk",
        "outputId": "0404c5ad-3def-49a5-bd71-c5c1469612f4"
      },
      "source": [
        "model.metrics[-1].threshold"
      ],
      "execution_count": null,
      "outputs": [
        {
          "data": {
            "text/plain": [
              "2.0"
            ]
          },
          "execution_count": 123,
          "metadata": {},
          "output_type": "execute_result"
        }
      ]
    },
    {
      "cell_type": "markdown",
      "metadata": {
        "id": "ViTVxzoBnFSk"
      },
      "source": [
        "잘 동작하는군요! 다음처럼 더 간단하게 클래스를 만들 수 있습니다:"
      ]
    },
    {
      "cell_type": "code",
      "metadata": {
        "execution": {
          "iopub.execute_input": "2021-07-04T08:15:29.840294Z",
          "iopub.status.busy": "2021-07-04T08:15:29.838769Z",
          "iopub.status.idle": "2021-07-04T08:15:29.842340Z",
          "shell.execute_reply": "2021-07-04T08:15:29.843598Z"
        },
        "id": "f43iC6UWnFSk"
      },
      "source": [
        "class HuberMetric(keras.metrics.Mean):\n",
        "    def __init__(self, threshold=1.0, name='HuberMetric', dtype=None):\n",
        "        self.threshold = threshold\n",
        "        self.huber_fn = create_huber(threshold)\n",
        "        super().__init__(name=name, dtype=dtype)\n",
        "    def update_state(self, y_true, y_pred, sample_weight=None):\n",
        "        metric = self.huber_fn(y_true, y_pred)\n",
        "        super(HuberMetric, self).update_state(metric, sample_weight)\n",
        "    def get_config(self):\n",
        "        base_config = super().get_config()\n",
        "        return {**base_config, \"threshold\": self.threshold}        "
      ],
      "execution_count": null,
      "outputs": []
    },
    {
      "cell_type": "markdown",
      "metadata": {
        "id": "FtBpUQKWnFSk"
      },
      "source": [
        "이 클래스는 크기를 잘 처리하고 샘플 가중치도 지원합니다."
      ]
    },
    {
      "cell_type": "code",
      "metadata": {
        "execution": {
          "iopub.execute_input": "2021-07-04T08:15:29.852413Z",
          "iopub.status.busy": "2021-07-04T08:15:29.850905Z",
          "iopub.status.idle": "2021-07-04T08:15:29.863225Z",
          "shell.execute_reply": "2021-07-04T08:15:29.863996Z"
        },
        "id": "CFi9R0PsnFSk"
      },
      "source": [
        "keras.backend.clear_session()\n",
        "np.random.seed(42)\n",
        "tf.random.set_seed(42)"
      ],
      "execution_count": null,
      "outputs": []
    },
    {
      "cell_type": "code",
      "metadata": {
        "execution": {
          "iopub.execute_input": "2021-07-04T08:15:29.880400Z",
          "iopub.status.busy": "2021-07-04T08:15:29.878725Z",
          "iopub.status.idle": "2021-07-04T08:15:29.903763Z",
          "shell.execute_reply": "2021-07-04T08:15:29.905048Z"
        },
        "id": "YNuyOkfjnFSk"
      },
      "source": [
        "model = keras.models.Sequential([\n",
        "    keras.layers.Dense(30, activation=\"selu\", kernel_initializer=\"lecun_normal\",\n",
        "                       input_shape=input_shape),\n",
        "    keras.layers.Dense(1),\n",
        "])"
      ],
      "execution_count": null,
      "outputs": []
    },
    {
      "cell_type": "code",
      "metadata": {
        "execution": {
          "iopub.execute_input": "2021-07-04T08:15:29.923238Z",
          "iopub.status.busy": "2021-07-04T08:15:29.922379Z",
          "iopub.status.idle": "2021-07-04T08:15:29.948652Z",
          "shell.execute_reply": "2021-07-04T08:15:29.949313Z"
        },
        "id": "uLjhx8PCnFSk"
      },
      "source": [
        "model.compile(loss=keras.losses.Huber(2.0), optimizer=\"nadam\", weighted_metrics=[HuberMetric(2.0)])"
      ],
      "execution_count": null,
      "outputs": []
    },
    {
      "cell_type": "code",
      "metadata": {
        "colab": {
          "base_uri": "https://localhost:8080/"
        },
        "execution": {
          "iopub.execute_input": "2021-07-04T08:15:29.956912Z",
          "iopub.status.busy": "2021-07-04T08:15:29.956048Z",
          "iopub.status.idle": "2021-07-04T08:15:35.132118Z",
          "shell.execute_reply": "2021-07-04T08:15:35.131115Z"
        },
        "id": "09rxtKpanFSk",
        "scrolled": true,
        "outputId": "98c06747-17aa-4c68-f947-37b5da6ffe8d"
      },
      "source": [
        "sample_weight = np.random.rand(len(y_train))\n",
        "history = model.fit(X_train_scaled.astype(np.float32), y_train.astype(np.float32),\n",
        "                    epochs=2, sample_weight=sample_weight)"
      ],
      "execution_count": null,
      "outputs": [
        {
          "name": "stdout",
          "output_type": "stream",
          "text": [
            "Epoch 1/2\n",
            "363/363 [==============================] - 2s 4ms/step - loss: 0.4455 - HuberMetric: 0.8978\n",
            "Epoch 2/2\n",
            "363/363 [==============================] - 1s 4ms/step - loss: 0.1305 - HuberMetric: 0.2631\n"
          ]
        }
      ]
    },
    {
      "cell_type": "code",
      "metadata": {
        "colab": {
          "base_uri": "https://localhost:8080/"
        },
        "execution": {
          "iopub.execute_input": "2021-07-04T08:15:35.143922Z",
          "iopub.status.busy": "2021-07-04T08:15:35.142733Z",
          "iopub.status.idle": "2021-07-04T08:15:35.147546Z",
          "shell.execute_reply": "2021-07-04T08:15:35.148541Z"
        },
        "id": "mJ4-Y0E2nFSk",
        "outputId": "a0b07151-f308-4339-d169-ca57abf441cf"
      },
      "source": [
        "history.history[\"loss\"][0], history.history[\"HuberMetric\"][0] * sample_weight.mean()"
      ],
      "execution_count": null,
      "outputs": [
        {
          "data": {
            "text/plain": [
              "(0.44554364681243896, 0.44554368685750223)"
            ]
          },
          "execution_count": 129,
          "metadata": {},
          "output_type": "execute_result"
        }
      ]
    },
    {
      "cell_type": "code",
      "metadata": {
        "execution": {
          "iopub.execute_input": "2021-07-04T08:15:35.180715Z",
          "iopub.status.busy": "2021-07-04T08:15:35.179527Z",
          "iopub.status.idle": "2021-07-04T08:15:35.212988Z",
          "shell.execute_reply": "2021-07-04T08:15:35.213970Z"
        },
        "id": "adIdqEocnFSk"
      },
      "source": [
        "model.save(\"my_model_with_a_custom_metric_v2.h5\")"
      ],
      "execution_count": null,
      "outputs": []
    },
    {
      "cell_type": "code",
      "metadata": {
        "execution": {
          "iopub.execute_input": "2021-07-04T08:15:35.223140Z",
          "iopub.status.busy": "2021-07-04T08:15:35.221582Z",
          "iopub.status.idle": "2021-07-04T08:15:35.311024Z",
          "shell.execute_reply": "2021-07-04T08:15:35.312329Z"
        },
        "id": "F_niUjqDnFSk"
      },
      "source": [
        "model = keras.models.load_model(\"my_model_with_a_custom_metric_v2.h5\",\n",
        "                                custom_objects={\"HuberMetric\": HuberMetric})"
      ],
      "execution_count": null,
      "outputs": []
    },
    {
      "cell_type": "code",
      "metadata": {
        "colab": {
          "base_uri": "https://localhost:8080/"
        },
        "execution": {
          "iopub.execute_input": "2021-07-04T08:15:35.321452Z",
          "iopub.status.busy": "2021-07-04T08:15:35.319795Z",
          "iopub.status.idle": "2021-07-04T08:15:38.912190Z",
          "shell.execute_reply": "2021-07-04T08:15:38.913187Z"
        },
        "id": "7V2PkjHknFSl",
        "outputId": "ceb9ae9b-5821-47b5-f803-50b6820bdd7b"
      },
      "source": [
        "model.fit(X_train_scaled.astype(np.float32), y_train.astype(np.float32), epochs=2)"
      ],
      "execution_count": null,
      "outputs": [
        {
          "name": "stdout",
          "output_type": "stream",
          "text": [
            "Epoch 1/2\n",
            "363/363 [==============================] - 2s 4ms/step - loss: 0.2377 - HuberMetric: 0.2377\n",
            "Epoch 2/2\n",
            "363/363 [==============================] - 1s 4ms/step - loss: 0.2279 - HuberMetric: 0.2279\n"
          ]
        },
        {
          "data": {
            "text/plain": [
              "<keras.callbacks.History at 0x7fd479ff9c90>"
            ]
          },
          "execution_count": 132,
          "metadata": {},
          "output_type": "execute_result"
        }
      ]
    },
    {
      "cell_type": "code",
      "metadata": {
        "colab": {
          "base_uri": "https://localhost:8080/"
        },
        "execution": {
          "iopub.execute_input": "2021-07-04T08:15:38.921614Z",
          "iopub.status.busy": "2021-07-04T08:15:38.920593Z",
          "iopub.status.idle": "2021-07-04T08:15:38.925260Z",
          "shell.execute_reply": "2021-07-04T08:15:38.926140Z"
        },
        "id": "LiY6tzrrnFSl",
        "scrolled": true,
        "outputId": "bba96dba-f439-4c16-fee6-88e7166fd4b4"
      },
      "source": [
        "model.metrics[-1].threshold"
      ],
      "execution_count": null,
      "outputs": [
        {
          "data": {
            "text/plain": [
              "2.0"
            ]
          },
          "execution_count": 133,
          "metadata": {},
          "output_type": "execute_result"
        }
      ]
    },
    {
      "cell_type": "markdown",
      "metadata": {
        "id": "wHvCg6OCnFSl"
      },
      "source": [
        "## 사용자 정의 층"
      ]
    },
    {
      "cell_type": "code",
      "metadata": {
        "execution": {
          "iopub.execute_input": "2021-07-04T08:15:38.934702Z",
          "iopub.status.busy": "2021-07-04T08:15:38.933594Z",
          "iopub.status.idle": "2021-07-04T08:15:38.937240Z",
          "shell.execute_reply": "2021-07-04T08:15:38.938128Z"
        },
        "id": "yaYQR8DxnFSm"
      },
      "source": [
        "exponential_layer = keras.layers.Lambda(lambda x: tf.exp(x))"
      ],
      "execution_count": null,
      "outputs": []
    },
    {
      "cell_type": "code",
      "metadata": {
        "colab": {
          "base_uri": "https://localhost:8080/"
        },
        "execution": {
          "iopub.execute_input": "2021-07-04T08:15:38.945934Z",
          "iopub.status.busy": "2021-07-04T08:15:38.944822Z",
          "iopub.status.idle": "2021-07-04T08:15:38.951723Z",
          "shell.execute_reply": "2021-07-04T08:15:38.952589Z"
        },
        "id": "JbXxzU34nFSm",
        "outputId": "a703b63f-c919-4574-8917-31a565c05890"
      },
      "source": [
        "exponential_layer([-1., 0., 1.])"
      ],
      "execution_count": null,
      "outputs": [
        {
          "data": {
            "text/plain": [
              "<tf.Tensor: shape=(3,), dtype=float32, numpy=array([0.36787948, 1.        , 2.7182817 ], dtype=float32)>"
            ]
          },
          "execution_count": 135,
          "metadata": {},
          "output_type": "execute_result"
        }
      ]
    },
    {
      "cell_type": "markdown",
      "metadata": {
        "id": "mM-jjL37nFSm"
      },
      "source": [
        "회귀 모델이 예측할 값이 양수이고 스케일이 매우 다른 경우 (예를 들어, 0.001, 10., 10000) 출력층에 지수 함수를 추가하면 유용할 수 있습니다:"
      ]
    },
    {
      "cell_type": "code",
      "metadata": {
        "execution": {
          "iopub.execute_input": "2021-07-04T08:15:38.960487Z",
          "iopub.status.busy": "2021-07-04T08:15:38.959393Z",
          "iopub.status.idle": "2021-07-04T08:15:38.976960Z",
          "shell.execute_reply": "2021-07-04T08:15:38.976101Z"
        },
        "id": "H_fZsjonnFSm"
      },
      "source": [
        "keras.backend.clear_session()\n",
        "np.random.seed(42)\n",
        "tf.random.set_seed(42)"
      ],
      "execution_count": null,
      "outputs": []
    },
    {
      "cell_type": "code",
      "metadata": {
        "colab": {
          "base_uri": "https://localhost:8080/"
        },
        "execution": {
          "iopub.execute_input": "2021-07-04T08:15:38.997361Z",
          "iopub.status.busy": "2021-07-04T08:15:38.995721Z",
          "iopub.status.idle": "2021-07-04T08:15:45.243279Z",
          "shell.execute_reply": "2021-07-04T08:15:45.244491Z"
        },
        "id": "GVDT8nyxnFSm",
        "outputId": "576b6915-f500-4db9-b9c5-58107c0b26fa"
      },
      "source": [
        "model = keras.models.Sequential([\n",
        "    keras.layers.Dense(30, activation=\"relu\", input_shape=input_shape),\n",
        "    keras.layers.Dense(1),\n",
        "    exponential_layer\n",
        "])\n",
        "model.compile(loss=\"mse\", optimizer=\"sgd\")\n",
        "model.fit(X_train_scaled, y_train, epochs=5,\n",
        "          validation_data=(X_valid_scaled, y_valid))\n",
        "model.evaluate(X_test_scaled, y_test)"
      ],
      "execution_count": null,
      "outputs": [
        {
          "name": "stdout",
          "output_type": "stream",
          "text": [
            "Epoch 1/5\n",
            "363/363 [==============================] - 2s 3ms/step - loss: 1.0631 - val_loss: 0.4457\n",
            "Epoch 2/5\n",
            "363/363 [==============================] - 1s 3ms/step - loss: 0.4562 - val_loss: 0.3798\n",
            "Epoch 3/5\n",
            "363/363 [==============================] - 1s 3ms/step - loss: 0.4029 - val_loss: 0.3548\n",
            "Epoch 4/5\n",
            "363/363 [==============================] - 1s 3ms/step - loss: 0.3851 - val_loss: 0.3464\n",
            "Epoch 5/5\n",
            "363/363 [==============================] - 1s 3ms/step - loss: 0.3708 - val_loss: 0.3449\n",
            "162/162 [==============================] - 0s 2ms/step - loss: 0.3586\n"
          ]
        },
        {
          "data": {
            "text/plain": [
              "0.3586340546607971"
            ]
          },
          "execution_count": 137,
          "metadata": {},
          "output_type": "execute_result"
        }
      ]
    },
    {
      "cell_type": "code",
      "metadata": {
        "execution": {
          "iopub.execute_input": "2021-07-04T08:15:45.266884Z",
          "iopub.status.busy": "2021-07-04T08:15:45.265426Z",
          "iopub.status.idle": "2021-07-04T08:15:45.269058Z",
          "shell.execute_reply": "2021-07-04T08:15:45.270234Z"
        },
        "id": "BD9ygbq5nFSm"
      },
      "source": [
        "class MyDense(keras.layers.Layer):\n",
        "    def __init__(self, units, activation=None, **kwargs):\n",
        "        super().__init__(**kwargs)\n",
        "        self.units = units\n",
        "        self.activation = keras.activations.get(activation)\n",
        "\n",
        "    def build(self, batch_input_shape):\n",
        "        self.kernel = self.add_weight(\n",
        "            name=\"kernel\", shape=[batch_input_shape[-1], self.units],\n",
        "            initializer=\"glorot_normal\")\n",
        "        self.bias = self.add_weight(\n",
        "            name=\"bias\", shape=[self.units], initializer=\"zeros\")\n",
        "        super().build(batch_input_shape) # must be at the end\n",
        "\n",
        "    def call(self, X):\n",
        "        return self.activation(X @ self.kernel + self.bias)\n",
        "\n",
        "    def compute_output_shape(self, batch_input_shape):\n",
        "        return tf.TensorShape(batch_input_shape.as_list()[:-1] + [self.units])\n",
        "\n",
        "    def get_config(self):\n",
        "        base_config = super().get_config()\n",
        "        return {**base_config, \"units\": self.units,\n",
        "                \"activation\": keras.activations.serialize(self.activation)}"
      ],
      "execution_count": null,
      "outputs": []
    },
    {
      "cell_type": "code",
      "metadata": {
        "execution": {
          "iopub.execute_input": "2021-07-04T08:15:45.281847Z",
          "iopub.status.busy": "2021-07-04T08:15:45.278785Z",
          "iopub.status.idle": "2021-07-04T08:15:45.285433Z",
          "shell.execute_reply": "2021-07-04T08:15:45.286330Z"
        },
        "id": "PhAOl_-xnFSm"
      },
      "source": [
        "keras.backend.clear_session()\n",
        "np.random.seed(42)\n",
        "tf.random.set_seed(42)"
      ],
      "execution_count": null,
      "outputs": []
    },
    {
      "cell_type": "code",
      "metadata": {
        "execution": {
          "iopub.execute_input": "2021-07-04T08:15:45.298411Z",
          "iopub.status.busy": "2021-07-04T08:15:45.297225Z",
          "iopub.status.idle": "2021-07-04T08:15:45.381189Z",
          "shell.execute_reply": "2021-07-04T08:15:45.382152Z"
        },
        "id": "Ux2CIm0QnFSm"
      },
      "source": [
        "model = keras.models.Sequential([\n",
        "    MyDense(30, activation=\"relu\", input_shape=input_shape),\n",
        "    MyDense(1)\n",
        "])"
      ],
      "execution_count": null,
      "outputs": []
    },
    {
      "cell_type": "code",
      "metadata": {
        "colab": {
          "base_uri": "https://localhost:8080/"
        },
        "execution": {
          "iopub.execute_input": "2021-07-04T08:15:45.400162Z",
          "iopub.status.busy": "2021-07-04T08:15:45.398953Z",
          "iopub.status.idle": "2021-07-04T08:15:49.494875Z",
          "shell.execute_reply": "2021-07-04T08:15:49.495803Z"
        },
        "id": "ZzYKMKhfnFSm",
        "scrolled": false,
        "outputId": "1e267b1f-84f6-466e-d1ac-3a1c17ba70e0"
      },
      "source": [
        "model.compile(loss=\"mse\", optimizer=\"nadam\")\n",
        "model.fit(X_train_scaled, y_train, epochs=2,\n",
        "          validation_data=(X_valid_scaled, y_valid))\n",
        "model.evaluate(X_test_scaled, y_test)"
      ],
      "execution_count": null,
      "outputs": [
        {
          "name": "stdout",
          "output_type": "stream",
          "text": [
            "Epoch 1/2\n",
            "363/363 [==============================] - 2s 4ms/step - loss: 2.2563 - val_loss: 0.9472\n",
            "Epoch 2/2\n",
            "363/363 [==============================] - 1s 4ms/step - loss: 0.6485 - val_loss: 0.6219\n",
            "162/162 [==============================] - 0s 2ms/step - loss: 0.5474\n"
          ]
        },
        {
          "data": {
            "text/plain": [
              "0.5473726987838745"
            ]
          },
          "execution_count": 141,
          "metadata": {},
          "output_type": "execute_result"
        }
      ]
    },
    {
      "cell_type": "code",
      "metadata": {
        "execution": {
          "iopub.execute_input": "2021-07-04T08:15:49.526507Z",
          "iopub.status.busy": "2021-07-04T08:15:49.525256Z",
          "iopub.status.idle": "2021-07-04T08:15:49.556131Z",
          "shell.execute_reply": "2021-07-04T08:15:49.557059Z"
        },
        "id": "D3dQrUgwnFSm"
      },
      "source": [
        "model.save(\"my_model_with_a_custom_layer.h5\")"
      ],
      "execution_count": null,
      "outputs": []
    },
    {
      "cell_type": "code",
      "metadata": {
        "execution": {
          "iopub.execute_input": "2021-07-04T08:15:49.565553Z",
          "iopub.status.busy": "2021-07-04T08:15:49.564073Z",
          "iopub.status.idle": "2021-07-04T08:15:49.637729Z",
          "shell.execute_reply": "2021-07-04T08:15:49.638951Z"
        },
        "id": "vqqfaYhpnFSn"
      },
      "source": [
        "model = keras.models.load_model(\"my_model_with_a_custom_layer.h5\",\n",
        "                                custom_objects={\"MyDense\": MyDense})"
      ],
      "execution_count": null,
      "outputs": []
    },
    {
      "cell_type": "code",
      "metadata": {
        "execution": {
          "iopub.execute_input": "2021-07-04T08:15:49.650052Z",
          "iopub.status.busy": "2021-07-04T08:15:49.648530Z",
          "iopub.status.idle": "2021-07-04T08:15:49.651608Z",
          "shell.execute_reply": "2021-07-04T08:15:49.652527Z"
        },
        "id": "XE8kj1ZCnFSn"
      },
      "source": [
        "class MyMultiLayer(keras.layers.Layer):\n",
        "    def call(self, X):\n",
        "        X1, X2 = X\n",
        "        print(\"X1.shape: \", X1.shape ,\" X2.shape: \", X2.shape) # 사용자 정의 층 디버깅\n",
        "        return X1 + X2, X1 * X2\n",
        "\n",
        "    def compute_output_shape(self, batch_input_shape):\n",
        "        batch_input_shape1, batch_input_shape2 = batch_input_shape\n",
        "        return [batch_input_shape1, batch_input_shape2]"
      ],
      "execution_count": null,
      "outputs": []
    },
    {
      "cell_type": "markdown",
      "metadata": {
        "id": "ZRR1NXSpnFSn"
      },
      "source": [
        "사용자 정의 층은 다음처럼 함수형 API를 사용해 호출할 수 있습니다:"
      ]
    },
    {
      "cell_type": "code",
      "metadata": {
        "colab": {
          "base_uri": "https://localhost:8080/"
        },
        "execution": {
          "iopub.execute_input": "2021-07-04T08:15:49.671914Z",
          "iopub.status.busy": "2021-07-04T08:15:49.670532Z",
          "iopub.status.idle": "2021-07-04T08:15:49.736314Z",
          "shell.execute_reply": "2021-07-04T08:15:49.737569Z"
        },
        "id": "qlHFFWy8nFSn",
        "outputId": "e2b1de3b-ec1a-4fcc-a80b-1a24cc9780ee"
      },
      "source": [
        "inputs1 = keras.layers.Input(shape=[2])\n",
        "inputs2 = keras.layers.Input(shape=[2])\n",
        "outputs1, outputs2 = MyMultiLayer()((inputs1, inputs2))"
      ],
      "execution_count": null,
      "outputs": [
        {
          "name": "stdout",
          "output_type": "stream",
          "text": [
            "X1.shape:  (None, 2)  X2.shape:  (None, 2)\n"
          ]
        }
      ]
    },
    {
      "cell_type": "markdown",
      "metadata": {
        "id": "rnu1SI3pnFSn"
      },
      "source": [
        "`call()` 메서드는 심볼릭 입력을 받습니다. 이 입력의 크기는 부분적으로만 지정되어 있습니다(이 시점에서는 배치 크기를 모릅니다. 그래서 첫 번째 차원이 None입니다):\n",
        "\n",
        "사용자 층에 실제 데이터를 전달할 수도 있습니다. 이를 테스트하기 위해 각 데이터셋의 입력을 각각 네 개의 특성을 가진 두 부분으로 나누겠습니다:"
      ]
    },
    {
      "cell_type": "code",
      "metadata": {
        "colab": {
          "base_uri": "https://localhost:8080/"
        },
        "execution": {
          "iopub.execute_input": "2021-07-04T08:15:49.750493Z",
          "iopub.status.busy": "2021-07-04T08:15:49.749103Z",
          "iopub.status.idle": "2021-07-04T08:15:49.753632Z",
          "shell.execute_reply": "2021-07-04T08:15:49.754572Z"
        },
        "id": "5eIOchaEnFSn",
        "outputId": "5e6292de-75f8-41b1-fb1d-a09e0c08694c"
      },
      "source": [
        "def split_data(data):\n",
        "    columns_count = data.shape[-1]\n",
        "    half = columns_count // 2\n",
        "    return data[:, :half], data[:, half:]\n",
        "\n",
        "X_train_scaled_A, X_train_scaled_B = split_data(X_train_scaled)\n",
        "X_valid_scaled_A, X_valid_scaled_B = split_data(X_valid_scaled)\n",
        "X_test_scaled_A, X_test_scaled_B = split_data(X_test_scaled)\n",
        "\n",
        "# 분할된 데이터 크기 출력\n",
        "X_train_scaled_A.shape, X_train_scaled_B.shape"
      ],
      "execution_count": null,
      "outputs": [
        {
          "data": {
            "text/plain": [
              "((11610, 4), (11610, 4))"
            ]
          },
          "execution_count": 146,
          "metadata": {},
          "output_type": "execute_result"
        }
      ]
    },
    {
      "cell_type": "markdown",
      "metadata": {
        "id": "2Kjpmi_lnFSn"
      },
      "source": [
        "크기가 완전하게 지정된 것을 볼 수 있습니다:"
      ]
    },
    {
      "cell_type": "code",
      "metadata": {
        "colab": {
          "base_uri": "https://localhost:8080/"
        },
        "execution": {
          "iopub.execute_input": "2021-07-04T08:15:49.762391Z",
          "iopub.status.busy": "2021-07-04T08:15:49.761275Z",
          "iopub.status.idle": "2021-07-04T08:15:49.769201Z",
          "shell.execute_reply": "2021-07-04T08:15:49.770026Z"
        },
        "id": "QUFlvjdNnFSn",
        "outputId": "1482c85a-5fe0-40f1-ccc3-0e5c3e2a0819"
      },
      "source": [
        "outputs1, outputs2 = MyMultiLayer()((X_train_scaled_A, X_train_scaled_B))"
      ],
      "execution_count": null,
      "outputs": [
        {
          "name": "stdout",
          "output_type": "stream",
          "text": [
            "X1.shape:  (11610, 4)  X2.shape:  (11610, 4)\n"
          ]
        }
      ]
    },
    {
      "cell_type": "markdown",
      "metadata": {
        "id": "Gj0EYDB9nFSn"
      },
      "source": [
        "함수형 API를 사용해 완전한 모델을 만들어 보겠습니다(이 모델은 간단한 예제이므로 놀라운 성능을 기대하지 마세요):"
      ]
    },
    {
      "cell_type": "code",
      "metadata": {
        "colab": {
          "base_uri": "https://localhost:8080/"
        },
        "execution": {
          "iopub.execute_input": "2021-07-04T08:15:49.784955Z",
          "iopub.status.busy": "2021-07-04T08:15:49.783919Z",
          "iopub.status.idle": "2021-07-04T08:15:49.838940Z",
          "shell.execute_reply": "2021-07-04T08:15:49.840327Z"
        },
        "id": "ITI2PrCbnFSn",
        "outputId": "7953ca01-ec92-4a0c-c10b-6fd3733cbdd8"
      },
      "source": [
        "keras.backend.clear_session()\n",
        "np.random.seed(42)\n",
        "tf.random.set_seed(42)\n",
        "\n",
        "input_A = keras.layers.Input(shape=X_train_scaled_A.shape[-1])\n",
        "input_B = keras.layers.Input(shape=X_train_scaled_B.shape[-1])\n",
        "hidden_A, hidden_B = MyMultiLayer()((input_A, input_B))\n",
        "hidden_A = keras.layers.Dense(30, activation='selu')(hidden_A)\n",
        "hidden_B = keras.layers.Dense(30, activation='selu')(hidden_B)\n",
        "concat = keras.layers.Concatenate()((hidden_A, hidden_B))\n",
        "output = keras.layers.Dense(1)(concat)\n",
        "model = keras.models.Model(inputs=[input_A, input_B], outputs=[output])"
      ],
      "execution_count": null,
      "outputs": [
        {
          "name": "stdout",
          "output_type": "stream",
          "text": [
            "X1.shape:  (None, 4)  X2.shape:  (None, 4)\n"
          ]
        }
      ]
    },
    {
      "cell_type": "code",
      "metadata": {
        "execution": {
          "iopub.execute_input": "2021-07-04T08:15:49.858386Z",
          "iopub.status.busy": "2021-07-04T08:15:49.856892Z",
          "iopub.status.idle": "2021-07-04T08:15:49.862315Z",
          "shell.execute_reply": "2021-07-04T08:15:49.863304Z"
        },
        "id": "Hf5QYYp6nFSn"
      },
      "source": [
        "model.compile(loss='mse', optimizer='nadam')"
      ],
      "execution_count": null,
      "outputs": []
    },
    {
      "cell_type": "code",
      "metadata": {
        "colab": {
          "base_uri": "https://localhost:8080/"
        },
        "execution": {
          "iopub.execute_input": "2021-07-04T08:15:49.870419Z",
          "iopub.status.busy": "2021-07-04T08:15:49.869216Z",
          "iopub.status.idle": "2021-07-04T08:15:54.377789Z",
          "shell.execute_reply": "2021-07-04T08:15:54.378814Z"
        },
        "id": "TlnQRPmenFSo",
        "outputId": "448960f2-5023-4334-f24d-92870bc1b192"
      },
      "source": [
        "model.fit((X_train_scaled_A, X_train_scaled_B), y_train, epochs=2,\n",
        "          validation_data=((X_valid_scaled_A, X_valid_scaled_B), y_valid))"
      ],
      "execution_count": null,
      "outputs": [
        {
          "name": "stdout",
          "output_type": "stream",
          "text": [
            "Epoch 1/2\n",
            "X1.shape:  (None, 4)  X2.shape:  (None, 4)\n",
            "X1.shape:  (None, 4)  X2.shape:  (None, 4)\n",
            "353/363 [============================>.] - ETA: 0s - loss: 2.1461X1.shape:  (None, 4)  X2.shape:  (None, 4)\n",
            "363/363 [==============================] - 2s 4ms/step - loss: 2.1142 - val_loss: 1.3630\n",
            "Epoch 2/2\n",
            "363/363 [==============================] - 2s 4ms/step - loss: 0.9684 - val_loss: 0.9773\n"
          ]
        },
        {
          "data": {
            "text/plain": [
              "<keras.callbacks.History at 0x7fd479af8410>"
            ]
          },
          "execution_count": 150,
          "metadata": {},
          "output_type": "execute_result"
        }
      ]
    },
    {
      "cell_type": "markdown",
      "metadata": {
        "id": "7wMgYJv8nFSo"
      },
      "source": [
        "훈련과 테스트에서 다르게 동작하는 층을 만들어 보죠:"
      ]
    },
    {
      "cell_type": "code",
      "metadata": {
        "execution": {
          "iopub.execute_input": "2021-07-04T08:15:54.393887Z",
          "iopub.status.busy": "2021-07-04T08:15:54.392577Z",
          "iopub.status.idle": "2021-07-04T08:15:54.396213Z",
          "shell.execute_reply": "2021-07-04T08:15:54.397212Z"
        },
        "id": "NeKKkO32nFSo"
      },
      "source": [
        "class AddGaussianNoise(keras.layers.Layer):\n",
        "    def __init__(self, stddev, **kwargs):\n",
        "        super().__init__(**kwargs)\n",
        "        self.stddev = stddev\n",
        "\n",
        "    def call(self, X, training=None):\n",
        "        if training:\n",
        "            noise = tf.random.normal(tf.shape(X), stddev=self.stddev)\n",
        "            return X + noise\n",
        "        else:\n",
        "            return X\n",
        "\n",
        "    def compute_output_shape(self, batch_input_shape):\n",
        "        return batch_input_shape"
      ],
      "execution_count": null,
      "outputs": []
    },
    {
      "cell_type": "markdown",
      "metadata": {
        "id": "Jh5WfjzunFSo"
      },
      "source": [
        "다음은 사용자 정의 층을 사용하는 간단한 모델입니다:"
      ]
    },
    {
      "cell_type": "code",
      "metadata": {
        "execution": {
          "iopub.execute_input": "2021-07-04T08:15:54.420349Z",
          "iopub.status.busy": "2021-07-04T08:15:54.407706Z",
          "iopub.status.idle": "2021-07-04T08:15:54.426847Z",
          "shell.execute_reply": "2021-07-04T08:15:54.428025Z"
        },
        "id": "Ln23QcsdnFSo"
      },
      "source": [
        "keras.backend.clear_session()\n",
        "np.random.seed(42)\n",
        "tf.random.set_seed(42)\n",
        "\n",
        "model = keras.models.Sequential([\n",
        "    AddGaussianNoise(stddev=1.0),\n",
        "    keras.layers.Dense(30, activation=\"selu\"),\n",
        "    keras.layers.Dense(1)\n",
        "])"
      ],
      "execution_count": null,
      "outputs": []
    },
    {
      "cell_type": "code",
      "metadata": {
        "colab": {
          "base_uri": "https://localhost:8080/"
        },
        "execution": {
          "iopub.execute_input": "2021-07-04T08:15:54.446870Z",
          "iopub.status.busy": "2021-07-04T08:15:54.445458Z",
          "iopub.status.idle": "2021-07-04T08:15:58.590668Z",
          "shell.execute_reply": "2021-07-04T08:15:58.591605Z"
        },
        "id": "Gj0MuOcKnFSo",
        "outputId": "61067f1c-8caa-47e8-8853-334f42336ea4"
      },
      "source": [
        "model.compile(loss=\"mse\", optimizer=\"nadam\")\n",
        "model.fit(X_train_scaled, y_train, epochs=2,\n",
        "          validation_data=(X_valid_scaled, y_valid))\n",
        "model.evaluate(X_test_scaled, y_test)"
      ],
      "execution_count": null,
      "outputs": [
        {
          "name": "stdout",
          "output_type": "stream",
          "text": [
            "Epoch 1/2\n",
            "363/363 [==============================] - 3s 4ms/step - loss: 2.3857 - val_loss: 7.6082\n",
            "Epoch 2/2\n",
            "363/363 [==============================] - 1s 4ms/step - loss: 1.0571 - val_loss: 4.4597\n",
            "162/162 [==============================] - 0s 2ms/step - loss: 0.7560\n"
          ]
        },
        {
          "data": {
            "text/plain": [
              "0.7559615969657898"
            ]
          },
          "execution_count": 153,
          "metadata": {},
          "output_type": "execute_result"
        }
      ]
    },
    {
      "cell_type": "markdown",
      "metadata": {
        "id": "Bo5Aksa0nFSo"
      },
      "source": [
        "## 사용자 정의 모델"
      ]
    },
    {
      "cell_type": "code",
      "metadata": {
        "execution": {
          "iopub.execute_input": "2021-07-04T08:15:58.599593Z",
          "iopub.status.busy": "2021-07-04T08:15:58.598425Z",
          "iopub.status.idle": "2021-07-04T08:15:58.601757Z",
          "shell.execute_reply": "2021-07-04T08:15:58.602628Z"
        },
        "id": "qZ9CBGORnFSo"
      },
      "source": [
        "X_new_scaled = X_test_scaled"
      ],
      "execution_count": null,
      "outputs": []
    },
    {
      "cell_type": "code",
      "metadata": {
        "execution": {
          "iopub.execute_input": "2021-07-04T08:15:58.616167Z",
          "iopub.status.busy": "2021-07-04T08:15:58.614894Z",
          "iopub.status.idle": "2021-07-04T08:15:58.618458Z",
          "shell.execute_reply": "2021-07-04T08:15:58.619457Z"
        },
        "id": "ScNXzm1GnFSo"
      },
      "source": [
        "class ResidualBlock(keras.layers.Layer):\n",
        "    def __init__(self, n_layers, n_neurons, **kwargs):\n",
        "        super().__init__(**kwargs)\n",
        "        self.hidden = [keras.layers.Dense(n_neurons, activation=\"elu\",\n",
        "                                          kernel_initializer=\"he_normal\")\n",
        "                       for _ in range(n_layers)]\n",
        "\n",
        "    def call(self, inputs):\n",
        "        Z = inputs\n",
        "        for layer in self.hidden:\n",
        "            Z = layer(Z)\n",
        "        return inputs + Z"
      ],
      "execution_count": null,
      "outputs": []
    },
    {
      "cell_type": "code",
      "metadata": {
        "execution": {
          "iopub.execute_input": "2021-07-04T08:15:58.635663Z",
          "iopub.status.busy": "2021-07-04T08:15:58.634461Z",
          "iopub.status.idle": "2021-07-04T08:15:58.637358Z",
          "shell.execute_reply": "2021-07-04T08:15:58.638363Z"
        },
        "id": "LjmHGRPOnFSo"
      },
      "source": [
        "class ResidualRegressor(keras.models.Model):\n",
        "    def __init__(self, output_dim, **kwargs):\n",
        "        super().__init__(**kwargs)\n",
        "        self.hidden1 = keras.layers.Dense(30, activation=\"elu\",\n",
        "                                          kernel_initializer=\"he_normal\")\n",
        "        self.block1 = ResidualBlock(2, 30)\n",
        "        self.block2 = ResidualBlock(2, 30)\n",
        "        self.out = keras.layers.Dense(output_dim)\n",
        "\n",
        "    def call(self, inputs):\n",
        "        Z = self.hidden1(inputs)\n",
        "        for _ in range(1 + 3):\n",
        "            Z = self.block1(Z)\n",
        "        Z = self.block2(Z)\n",
        "        return self.out(Z)"
      ],
      "execution_count": null,
      "outputs": []
    },
    {
      "cell_type": "code",
      "metadata": {
        "execution": {
          "iopub.execute_input": "2021-07-04T08:15:58.645468Z",
          "iopub.status.busy": "2021-07-04T08:15:58.644301Z",
          "iopub.status.idle": "2021-07-04T08:15:58.653372Z",
          "shell.execute_reply": "2021-07-04T08:15:58.654158Z"
        },
        "id": "oP_n1Vf1nFSo"
      },
      "source": [
        "keras.backend.clear_session()\n",
        "np.random.seed(42)\n",
        "tf.random.set_seed(42)"
      ],
      "execution_count": null,
      "outputs": []
    },
    {
      "cell_type": "code",
      "metadata": {
        "colab": {
          "base_uri": "https://localhost:8080/"
        },
        "execution": {
          "iopub.execute_input": "2021-07-04T08:15:58.666308Z",
          "iopub.status.busy": "2021-07-04T08:15:58.665238Z",
          "iopub.status.idle": "2021-07-04T08:16:14.531553Z",
          "shell.execute_reply": "2021-07-04T08:16:14.532718Z"
        },
        "id": "FTnG6qh4nFSp",
        "outputId": "22a7e069-f609-4f0b-bdaf-ace1c3411bfa"
      },
      "source": [
        "model = ResidualRegressor(1)\n",
        "model.compile(loss=\"mse\", optimizer=\"nadam\")\n",
        "history = model.fit(X_train_scaled, y_train, epochs=5)\n",
        "score = model.evaluate(X_test_scaled, y_test)\n",
        "y_pred = model.predict(X_new_scaled)"
      ],
      "execution_count": null,
      "outputs": [
        {
          "name": "stdout",
          "output_type": "stream",
          "text": [
            "Epoch 1/5\n",
            "363/363 [==============================] - 3s 5ms/step - loss: 9.1324\n",
            "Epoch 2/5\n",
            "363/363 [==============================] - 2s 5ms/step - loss: 1.0580\n",
            "Epoch 3/5\n",
            "363/363 [==============================] - 2s 5ms/step - loss: 0.8870\n",
            "Epoch 4/5\n",
            "363/363 [==============================] - 2s 5ms/step - loss: 0.5834\n",
            "Epoch 5/5\n",
            "363/363 [==============================] - 2s 5ms/step - loss: 0.6460\n",
            "162/162 [==============================] - 0s 2ms/step - loss: 0.6507\n"
          ]
        }
      ]
    },
    {
      "cell_type": "code",
      "metadata": {
        "colab": {
          "base_uri": "https://localhost:8080/"
        },
        "execution": {
          "iopub.execute_input": "2021-07-04T08:16:14.544665Z",
          "iopub.status.busy": "2021-07-04T08:16:14.543467Z",
          "iopub.status.idle": "2021-07-04T08:16:15.547522Z",
          "shell.execute_reply": "2021-07-04T08:16:15.548926Z"
        },
        "id": "aqkYIQvOnFSp",
        "outputId": "3ecc3fbc-7b8a-4b76-d73d-75234cc81740"
      },
      "source": [
        "model.save(\"my_custom_model.ckpt\")"
      ],
      "execution_count": null,
      "outputs": [
        {
          "name": "stderr",
          "output_type": "stream",
          "text": [
            "WARNING:absl:Found untraced functions such as dense_1_layer_call_and_return_conditional_losses, dense_1_layer_call_fn, dense_2_layer_call_and_return_conditional_losses, dense_2_layer_call_fn, dense_3_layer_call_and_return_conditional_losses while saving (showing 5 of 20). These functions will not be directly callable after loading.\n"
          ]
        },
        {
          "name": "stdout",
          "output_type": "stream",
          "text": [
            "INFO:tensorflow:Assets written to: my_custom_model.ckpt/assets\n"
          ]
        },
        {
          "name": "stderr",
          "output_type": "stream",
          "text": [
            "INFO:tensorflow:Assets written to: my_custom_model.ckpt/assets\n"
          ]
        }
      ]
    },
    {
      "cell_type": "code",
      "metadata": {
        "execution": {
          "iopub.execute_input": "2021-07-04T08:16:15.556474Z",
          "iopub.status.busy": "2021-07-04T08:16:15.555185Z",
          "iopub.status.idle": "2021-07-04T08:16:16.173104Z",
          "shell.execute_reply": "2021-07-04T08:16:16.171956Z"
        },
        "id": "j2fgl5UknFSp"
      },
      "source": [
        "model = keras.models.load_model(\"my_custom_model.ckpt\")"
      ],
      "execution_count": null,
      "outputs": []
    },
    {
      "cell_type": "code",
      "metadata": {
        "colab": {
          "base_uri": "https://localhost:8080/"
        },
        "execution": {
          "iopub.execute_input": "2021-07-04T08:16:16.182435Z",
          "iopub.status.busy": "2021-07-04T08:16:16.180781Z",
          "iopub.status.idle": "2021-07-04T08:16:30.488212Z",
          "shell.execute_reply": "2021-07-04T08:16:30.487051Z"
        },
        "id": "yaRZkdOCnFSp",
        "outputId": "5f0fbc3b-92c5-4a16-d7bf-d7b6ea2327ba"
      },
      "source": [
        "history = model.fit(X_train_scaled, y_train, epochs=5)"
      ],
      "execution_count": null,
      "outputs": [
        {
          "name": "stdout",
          "output_type": "stream",
          "text": [
            "Epoch 1/5\n",
            "363/363 [==============================] - 3s 5ms/step - loss: 0.8036\n",
            "Epoch 2/5\n",
            "363/363 [==============================] - 2s 5ms/step - loss: 0.5590\n",
            "Epoch 3/5\n",
            "363/363 [==============================] - 2s 5ms/step - loss: 0.4959\n",
            "Epoch 4/5\n",
            "363/363 [==============================] - 2s 5ms/step - loss: 0.4256\n",
            "Epoch 5/5\n",
            "363/363 [==============================] - 2s 5ms/step - loss: 0.4237\n"
          ]
        }
      ]
    },
    {
      "cell_type": "markdown",
      "metadata": {
        "id": "VoxJM__-nFSp"
      },
      "source": [
        "대신 시퀀셜 API를 사용하는 모델을 정의할 수 있습니다:"
      ]
    },
    {
      "cell_type": "code",
      "metadata": {
        "execution": {
          "iopub.execute_input": "2021-07-04T08:16:30.499599Z",
          "iopub.status.busy": "2021-07-04T08:16:30.498333Z",
          "iopub.status.idle": "2021-07-04T08:16:30.521900Z",
          "shell.execute_reply": "2021-07-04T08:16:30.522906Z"
        },
        "id": "SNXYstMCnFSp"
      },
      "source": [
        "keras.backend.clear_session()\n",
        "np.random.seed(42)\n",
        "tf.random.set_seed(42)"
      ],
      "execution_count": null,
      "outputs": []
    },
    {
      "cell_type": "code",
      "metadata": {
        "execution": {
          "iopub.execute_input": "2021-07-04T08:16:30.547691Z",
          "iopub.status.busy": "2021-07-04T08:16:30.546181Z",
          "iopub.status.idle": "2021-07-04T08:16:30.554408Z",
          "shell.execute_reply": "2021-07-04T08:16:30.553132Z"
        },
        "id": "j0lwOBjenFSp"
      },
      "source": [
        "block1 = ResidualBlock(2, 30)\n",
        "model = keras.models.Sequential([\n",
        "    keras.layers.Dense(30, activation=\"elu\", kernel_initializer=\"he_normal\"),\n",
        "    block1, block1, block1, block1,\n",
        "    ResidualBlock(2, 30),\n",
        "    keras.layers.Dense(1)\n",
        "])"
      ],
      "execution_count": null,
      "outputs": []
    },
    {
      "cell_type": "code",
      "metadata": {
        "colab": {
          "base_uri": "https://localhost:8080/"
        },
        "execution": {
          "iopub.execute_input": "2021-07-04T08:16:30.573271Z",
          "iopub.status.busy": "2021-07-04T08:16:30.572301Z",
          "iopub.status.idle": "2021-07-04T08:16:44.015874Z",
          "shell.execute_reply": "2021-07-04T08:16:44.017074Z"
        },
        "id": "6Ol9WZK-nFSp",
        "outputId": "fee72b7b-9161-408a-e1e7-053bd689e584"
      },
      "source": [
        "model.compile(loss=\"mse\", optimizer=\"nadam\")\n",
        "history = model.fit(X_train_scaled, y_train, epochs=5)\n",
        "score = model.evaluate(X_test_scaled, y_test)\n",
        "y_pred = model.predict(X_new_scaled)"
      ],
      "execution_count": null,
      "outputs": [
        {
          "name": "stdout",
          "output_type": "stream",
          "text": [
            "Epoch 1/5\n",
            "363/363 [==============================] - 3s 5ms/step - loss: 0.8695\n",
            "Epoch 2/5\n",
            "363/363 [==============================] - 2s 5ms/step - loss: 0.4720\n",
            "Epoch 3/5\n",
            "363/363 [==============================] - 2s 5ms/step - loss: 0.5537\n",
            "Epoch 4/5\n",
            "363/363 [==============================] - 2s 5ms/step - loss: 0.3809\n",
            "Epoch 5/5\n",
            "363/363 [==============================] - 2s 5ms/step - loss: 0.4012\n",
            "162/162 [==============================] - 0s 2ms/step - loss: 0.4852\n"
          ]
        }
      ]
    },
    {
      "cell_type": "markdown",
      "metadata": {
        "id": "0ivfG84mnFSp"
      },
      "source": [
        "## 모델 구성 요소에 기반한 손실과 지표"
      ]
    },
    {
      "cell_type": "markdown",
      "metadata": {
        "id": "Jbr8J6n1nFSp"
      },
      "source": [
        "**노트**: 다음 코드는 책의 코드와 두 가지 다른 점이 있습니다:\n",
        "1. 생성자에서 `keras.metrics.Mean()` 측정 지표를 만들고 `call()` 메서드에서 사용하여 평균 재구성 손실을 추적합니다. 훈련에서만 사용해야 하기 때문에 `call()` 메서드에 `training` 매개변수를 추가합니다. `training`이 `True`이면 `reconstruction_mean`를 업데이트하고 `self.add_metric()`를 호출합니다.\n",
        "2. TF 2.2에 있는 이슈([#46858](https://github.com/tensorflow/tensorflow/issues/46858)) 때문에 `build()` 메서드 안에서 `super().build()`를 호출하면 안됩니다."
      ]
    },
    {
      "cell_type": "code",
      "metadata": {
        "execution": {
          "iopub.execute_input": "2021-07-04T08:16:44.044268Z",
          "iopub.status.busy": "2021-07-04T08:16:44.042711Z",
          "iopub.status.idle": "2021-07-04T08:16:44.045933Z",
          "shell.execute_reply": "2021-07-04T08:16:44.047194Z"
        },
        "id": "YHTjLpT3nFSp"
      },
      "source": [
        "class ReconstructingRegressor(keras.Model):\n",
        "    def __init__(self, output_dim, **kwargs):\n",
        "        super().__init__(**kwargs)\n",
        "        self.hidden = [keras.layers.Dense(30, activation=\"selu\",\n",
        "                                          kernel_initializer=\"lecun_normal\")\n",
        "                       for _ in range(5)]\n",
        "        self.out = keras.layers.Dense(output_dim)\n",
        "        self.reconstruction_mean = keras.metrics.Mean(name=\"reconstruction_error\")\n",
        "\n",
        "    def build(self, batch_input_shape):\n",
        "        n_inputs = batch_input_shape[-1]\n",
        "        self.reconstruct = keras.layers.Dense(n_inputs)\n",
        "        #super().build(batch_input_shape)\n",
        "\n",
        "    def call(self, inputs, training=None):\n",
        "        Z = inputs\n",
        "        for layer in self.hidden:\n",
        "            Z = layer(Z)\n",
        "        reconstruction = self.reconstruct(Z)\n",
        "        self.recon_loss = 0.05 * tf.reduce_mean(tf.square(reconstruction - inputs))\n",
        "        \n",
        "        if training:\n",
        "           result = self.reconstruction_mean(recon_loss)\n",
        "           self.add_metric(result)\n",
        "        return self.out(Z)\n",
        "    \n",
        "    def train_step(self, data):\n",
        "        x, y = data\n",
        "\n",
        "        with tf.GradientTape() as tape:\n",
        "            y_pred = self(x)\n",
        "            loss = self.compiled_loss(y, y_pred, regularization_losses=[self.recon_loss])\n",
        "\n",
        "        gradients = tape.gradient(loss, self.trainable_variables)\n",
        "        self.optimizer.apply_gradients(zip(gradients, self.trainable_variables))\n",
        "\n",
        "        return {m.name: m.result() for m in self.metrics}"
      ],
      "execution_count": null,
      "outputs": []
    },
    {
      "cell_type": "code",
      "metadata": {
        "execution": {
          "iopub.execute_input": "2021-07-04T08:16:44.062713Z",
          "iopub.status.busy": "2021-07-04T08:16:44.055839Z",
          "iopub.status.idle": "2021-07-04T08:16:44.066069Z",
          "shell.execute_reply": "2021-07-04T08:16:44.066880Z"
        },
        "id": "XQah3_DFnFSq"
      },
      "source": [
        "keras.backend.clear_session()\n",
        "np.random.seed(42)\n",
        "tf.random.set_seed(42)"
      ],
      "execution_count": null,
      "outputs": []
    },
    {
      "cell_type": "code",
      "metadata": {
        "colab": {
          "base_uri": "https://localhost:8080/"
        },
        "execution": {
          "iopub.execute_input": "2021-07-04T08:16:44.079276Z",
          "iopub.status.busy": "2021-07-04T08:16:44.077540Z",
          "iopub.status.idle": "2021-07-04T08:16:51.038448Z",
          "shell.execute_reply": "2021-07-04T08:16:51.039594Z"
        },
        "id": "fIBmQGYanFSq",
        "outputId": "057adc0b-9382-4ae4-ed3a-288d19ae9491"
      },
      "source": [
        "model = ReconstructingRegressor(1)\n",
        "model.compile(loss=\"mse\", optimizer=\"nadam\")\n",
        "history = model.fit(X_train_scaled, y_train, epochs=2)\n",
        "y_pred = model.predict(X_test_scaled)"
      ],
      "execution_count": null,
      "outputs": [
        {
          "name": "stdout",
          "output_type": "stream",
          "text": [
            "Epoch 1/2\n",
            "363/363 [==============================] - 4s 6ms/step - loss: 0.7886 - reconstruction_error: 0.0000e+00\n",
            "Epoch 2/2\n",
            "363/363 [==============================] - 2s 6ms/step - loss: 0.4134 - reconstruction_error: 0.0000e+00\n"
          ]
        }
      ]
    },
    {
      "cell_type": "markdown",
      "metadata": {
        "id": "rGDLWUXhnFSq"
      },
      "source": [
        "## 자동 미분을 사용하여 그레이디언트 계산하기"
      ]
    },
    {
      "cell_type": "code",
      "metadata": {
        "execution": {
          "iopub.execute_input": "2021-07-04T08:16:51.049280Z",
          "iopub.status.busy": "2021-07-04T08:16:51.047892Z",
          "iopub.status.idle": "2021-07-04T08:16:51.050911Z",
          "shell.execute_reply": "2021-07-04T08:16:51.051795Z"
        },
        "id": "NUl_neZpnFSr"
      },
      "source": [
        "def f(w1, w2):\n",
        "    return 3 * w1 ** 2 + 2 * w1 * w2"
      ],
      "execution_count": null,
      "outputs": []
    },
    {
      "cell_type": "code",
      "metadata": {
        "colab": {
          "base_uri": "https://localhost:8080/"
        },
        "execution": {
          "iopub.execute_input": "2021-07-04T08:16:51.060463Z",
          "iopub.status.busy": "2021-07-04T08:16:51.059412Z",
          "iopub.status.idle": "2021-07-04T08:16:51.064429Z",
          "shell.execute_reply": "2021-07-04T08:16:51.065316Z"
        },
        "id": "X1cstf8lnFSr",
        "outputId": "895a06e6-b96e-47f1-befd-d976f361c2a4"
      },
      "source": [
        "w1, w2 = 5, 3\n",
        "eps = 1e-6\n",
        "(f(w1 + eps, w2) - f(w1, w2)) / eps"
      ],
      "execution_count": null,
      "outputs": [
        {
          "data": {
            "text/plain": [
              "36.000003007075065"
            ]
          },
          "execution_count": 169,
          "metadata": {},
          "output_type": "execute_result"
        }
      ]
    },
    {
      "cell_type": "code",
      "metadata": {
        "colab": {
          "base_uri": "https://localhost:8080/"
        },
        "execution": {
          "iopub.execute_input": "2021-07-04T08:16:51.073140Z",
          "iopub.status.busy": "2021-07-04T08:16:51.072105Z",
          "iopub.status.idle": "2021-07-04T08:16:51.076959Z",
          "shell.execute_reply": "2021-07-04T08:16:51.077915Z"
        },
        "id": "bLBVUzu9nFSs",
        "outputId": "2f0d4b05-69df-4623-f8c4-530484a94004"
      },
      "source": [
        "(f(w1, w2 + eps) - f(w1, w2)) / eps"
      ],
      "execution_count": null,
      "outputs": [
        {
          "data": {
            "text/plain": [
              "10.000000003174137"
            ]
          },
          "execution_count": 170,
          "metadata": {},
          "output_type": "execute_result"
        }
      ]
    },
    {
      "cell_type": "code",
      "metadata": {
        "execution": {
          "iopub.execute_input": "2021-07-04T08:16:51.088035Z",
          "iopub.status.busy": "2021-07-04T08:16:51.086885Z",
          "iopub.status.idle": "2021-07-04T08:16:51.094155Z",
          "shell.execute_reply": "2021-07-04T08:16:51.095031Z"
        },
        "id": "wGGD9esynFSs"
      },
      "source": [
        "w1, w2 = tf.Variable(5.), tf.Variable(3.)\n",
        "with tf.GradientTape() as tape:\n",
        "    z = f(w1, w2)\n",
        "\n",
        "gradients = tape.gradient(z, [w1, w2])"
      ],
      "execution_count": null,
      "outputs": []
    },
    {
      "cell_type": "code",
      "metadata": {
        "colab": {
          "base_uri": "https://localhost:8080/"
        },
        "execution": {
          "iopub.execute_input": "2021-07-04T08:16:51.101660Z",
          "iopub.status.busy": "2021-07-04T08:16:51.100543Z",
          "iopub.status.idle": "2021-07-04T08:16:51.105890Z",
          "shell.execute_reply": "2021-07-04T08:16:51.106765Z"
        },
        "id": "WHexGsK7nFSs",
        "outputId": "bd147c62-d029-4ca2-a886-52e0680bc8e7"
      },
      "source": [
        "gradients"
      ],
      "execution_count": null,
      "outputs": [
        {
          "data": {
            "text/plain": [
              "[<tf.Tensor: shape=(), dtype=float32, numpy=36.0>,\n",
              " <tf.Tensor: shape=(), dtype=float32, numpy=10.0>]"
            ]
          },
          "execution_count": 172,
          "metadata": {},
          "output_type": "execute_result"
        }
      ]
    },
    {
      "cell_type": "code",
      "metadata": {
        "colab": {
          "base_uri": "https://localhost:8080/"
        },
        "execution": {
          "iopub.execute_input": "2021-07-04T08:16:51.116638Z",
          "iopub.status.busy": "2021-07-04T08:16:51.115509Z",
          "iopub.status.idle": "2021-07-04T08:16:51.122370Z",
          "shell.execute_reply": "2021-07-04T08:16:51.123249Z"
        },
        "id": "jDJYd-manFSs",
        "scrolled": true,
        "outputId": "606d4971-cefd-4c1d-e5b8-76c618438f49"
      },
      "source": [
        "with tf.GradientTape() as tape:\n",
        "    z = f(w1, w2)\n",
        "\n",
        "dz_dw1 = tape.gradient(z, w1)\n",
        "try:\n",
        "    dz_dw2 = tape.gradient(z, w2)\n",
        "except RuntimeError as ex:\n",
        "    print(ex)"
      ],
      "execution_count": null,
      "outputs": [
        {
          "name": "stdout",
          "output_type": "stream",
          "text": [
            "A non-persistent GradientTape can only be used to compute one set of gradients (or jacobians)\n"
          ]
        }
      ]
    },
    {
      "cell_type": "code",
      "metadata": {
        "execution": {
          "iopub.execute_input": "2021-07-04T08:16:51.132420Z",
          "iopub.status.busy": "2021-07-04T08:16:51.131290Z",
          "iopub.status.idle": "2021-07-04T08:16:51.138370Z",
          "shell.execute_reply": "2021-07-04T08:16:51.139248Z"
        },
        "id": "DXw2nnLcnFSs"
      },
      "source": [
        "with tf.GradientTape(persistent=True) as tape:\n",
        "    z = f(w1, w2)\n",
        "\n",
        "dz_dw1 = tape.gradient(z, w1)\n",
        "dz_dw2 = tape.gradient(z, w2) # works now!\n",
        "del tape"
      ],
      "execution_count": null,
      "outputs": []
    },
    {
      "cell_type": "code",
      "metadata": {
        "colab": {
          "base_uri": "https://localhost:8080/"
        },
        "execution": {
          "iopub.execute_input": "2021-07-04T08:16:51.146434Z",
          "iopub.status.busy": "2021-07-04T08:16:51.145227Z",
          "iopub.status.idle": "2021-07-04T08:16:51.151796Z",
          "shell.execute_reply": "2021-07-04T08:16:51.150789Z"
        },
        "id": "gJidVNB7nFSs",
        "outputId": "d55f4da2-5005-40c3-d52e-488a7f8d561b"
      },
      "source": [
        "dz_dw1, dz_dw2"
      ],
      "execution_count": null,
      "outputs": [
        {
          "data": {
            "text/plain": [
              "(<tf.Tensor: shape=(), dtype=float32, numpy=36.0>,\n",
              " <tf.Tensor: shape=(), dtype=float32, numpy=10.0>)"
            ]
          },
          "execution_count": 175,
          "metadata": {},
          "output_type": "execute_result"
        }
      ]
    },
    {
      "cell_type": "code",
      "metadata": {
        "execution": {
          "iopub.execute_input": "2021-07-04T08:16:51.161659Z",
          "iopub.status.busy": "2021-07-04T08:16:51.160458Z",
          "iopub.status.idle": "2021-07-04T08:16:51.164923Z",
          "shell.execute_reply": "2021-07-04T08:16:51.165762Z"
        },
        "id": "tyXHSb1SnFSs"
      },
      "source": [
        "c1, c2 = tf.constant(5.), tf.constant(3.)\n",
        "with tf.GradientTape() as tape:\n",
        "    z = f(c1, c2)\n",
        "\n",
        "gradients = tape.gradient(z, [c1, c2])"
      ],
      "execution_count": null,
      "outputs": []
    },
    {
      "cell_type": "code",
      "metadata": {
        "colab": {
          "base_uri": "https://localhost:8080/"
        },
        "execution": {
          "iopub.execute_input": "2021-07-04T08:16:51.172964Z",
          "iopub.status.busy": "2021-07-04T08:16:51.171909Z",
          "iopub.status.idle": "2021-07-04T08:16:51.176687Z",
          "shell.execute_reply": "2021-07-04T08:16:51.177570Z"
        },
        "id": "YrBr2oY_nFSs",
        "outputId": "fc41953f-590d-41ba-a3ae-5e38ce635dc7"
      },
      "source": [
        "gradients"
      ],
      "execution_count": null,
      "outputs": [
        {
          "data": {
            "text/plain": [
              "[None, None]"
            ]
          },
          "execution_count": 177,
          "metadata": {},
          "output_type": "execute_result"
        }
      ]
    },
    {
      "cell_type": "code",
      "metadata": {
        "execution": {
          "iopub.execute_input": "2021-07-04T08:16:51.186564Z",
          "iopub.status.busy": "2021-07-04T08:16:51.185398Z",
          "iopub.status.idle": "2021-07-04T08:16:51.191128Z",
          "shell.execute_reply": "2021-07-04T08:16:51.192003Z"
        },
        "id": "PxGzWYUbnFSt"
      },
      "source": [
        "with tf.GradientTape() as tape:\n",
        "    tape.watch(c1)\n",
        "    tape.watch(c2)\n",
        "    z = f(c1, c2)\n",
        "\n",
        "gradients = tape.gradient(z, [c1, c2])"
      ],
      "execution_count": null,
      "outputs": []
    },
    {
      "cell_type": "code",
      "metadata": {
        "colab": {
          "base_uri": "https://localhost:8080/"
        },
        "execution": {
          "iopub.execute_input": "2021-07-04T08:16:51.199435Z",
          "iopub.status.busy": "2021-07-04T08:16:51.198312Z",
          "iopub.status.idle": "2021-07-04T08:16:51.203980Z",
          "shell.execute_reply": "2021-07-04T08:16:51.204859Z"
        },
        "id": "sMfZRrDZnFSt",
        "outputId": "c80cc715-c429-4011-d89d-9cb91a5b6306"
      },
      "source": [
        "gradients"
      ],
      "execution_count": null,
      "outputs": [
        {
          "data": {
            "text/plain": [
              "[<tf.Tensor: shape=(), dtype=float32, numpy=36.0>,\n",
              " <tf.Tensor: shape=(), dtype=float32, numpy=10.0>]"
            ]
          },
          "execution_count": 179,
          "metadata": {},
          "output_type": "execute_result"
        }
      ]
    },
    {
      "cell_type": "code",
      "metadata": {
        "colab": {
          "base_uri": "https://localhost:8080/"
        },
        "execution": {
          "iopub.execute_input": "2021-07-04T08:16:51.214904Z",
          "iopub.status.busy": "2021-07-04T08:16:51.213767Z",
          "iopub.status.idle": "2021-07-04T08:16:51.224864Z",
          "shell.execute_reply": "2021-07-04T08:16:51.225789Z"
        },
        "id": "ICrkGqt9nFSt",
        "outputId": "8ac4df3e-6f58-4389-b750-a28184ca9dee"
      },
      "source": [
        "with tf.GradientTape() as tape:\n",
        "    z1 = f(w1, w2 + 2.)\n",
        "    z2 = f(w1, w2 + 5.)\n",
        "    z3 = f(w1, w2 + 7.)\n",
        "\n",
        "tape.gradient([z1, z2, z3], [w1, w2])"
      ],
      "execution_count": null,
      "outputs": [
        {
          "data": {
            "text/plain": [
              "[<tf.Tensor: shape=(), dtype=float32, numpy=136.0>,\n",
              " <tf.Tensor: shape=(), dtype=float32, numpy=30.0>]"
            ]
          },
          "execution_count": 180,
          "metadata": {},
          "output_type": "execute_result"
        }
      ]
    },
    {
      "cell_type": "code",
      "metadata": {
        "execution": {
          "iopub.execute_input": "2021-07-04T08:16:51.235927Z",
          "iopub.status.busy": "2021-07-04T08:16:51.234807Z",
          "iopub.status.idle": "2021-07-04T08:16:51.244752Z",
          "shell.execute_reply": "2021-07-04T08:16:51.245705Z"
        },
        "id": "ZrZ77owOnFSt"
      },
      "source": [
        "with tf.GradientTape(persistent=True) as tape:\n",
        "    z1 = f(w1, w2 + 2.)\n",
        "    z2 = f(w1, w2 + 5.)\n",
        "    z3 = f(w1, w2 + 7.)\n",
        "\n",
        "tf.reduce_sum(tf.stack([tape.gradient(z, [w1, w2]) for z in (z1, z2, z3)]), axis=0)\n",
        "del tape"
      ],
      "execution_count": null,
      "outputs": []
    },
    {
      "cell_type": "code",
      "metadata": {
        "execution": {
          "iopub.execute_input": "2021-07-04T08:16:51.256243Z",
          "iopub.status.busy": "2021-07-04T08:16:51.255046Z",
          "iopub.status.idle": "2021-07-04T08:16:51.262017Z",
          "shell.execute_reply": "2021-07-04T08:16:51.263038Z"
        },
        "id": "5VDDlIkVnFSt"
      },
      "source": [
        "with tf.GradientTape(persistent=True) as hessian_tape:\n",
        "    with tf.GradientTape() as jacobian_tape:\n",
        "        z = f(w1, w2)\n",
        "    jacobians = jacobian_tape.gradient(z, [w1, w2])\n",
        "hessians = [hessian_tape.gradient(jacobian, [w1, w2])\n",
        "            for jacobian in jacobians]\n",
        "del hessian_tape"
      ],
      "execution_count": null,
      "outputs": []
    },
    {
      "cell_type": "code",
      "metadata": {
        "colab": {
          "base_uri": "https://localhost:8080/"
        },
        "execution": {
          "iopub.execute_input": "2021-07-04T08:16:51.270264Z",
          "iopub.status.busy": "2021-07-04T08:16:51.268958Z",
          "iopub.status.idle": "2021-07-04T08:16:51.273742Z",
          "shell.execute_reply": "2021-07-04T08:16:51.274587Z"
        },
        "id": "HFk0AReSnFSt",
        "outputId": "2f375eca-0ff7-4f21-d86a-9d30d1cf12a9"
      },
      "source": [
        "jacobians"
      ],
      "execution_count": null,
      "outputs": [
        {
          "data": {
            "text/plain": [
              "[<tf.Tensor: shape=(), dtype=float32, numpy=36.0>,\n",
              " <tf.Tensor: shape=(), dtype=float32, numpy=10.0>]"
            ]
          },
          "execution_count": 183,
          "metadata": {},
          "output_type": "execute_result"
        }
      ]
    },
    {
      "cell_type": "code",
      "metadata": {
        "colab": {
          "base_uri": "https://localhost:8080/"
        },
        "execution": {
          "iopub.execute_input": "2021-07-04T08:16:51.281023Z",
          "iopub.status.busy": "2021-07-04T08:16:51.279999Z",
          "iopub.status.idle": "2021-07-04T08:16:51.286261Z",
          "shell.execute_reply": "2021-07-04T08:16:51.287093Z"
        },
        "id": "yZVuaFulnFSt",
        "outputId": "7974c698-77d9-4186-9860-ac1cc9111e37"
      },
      "source": [
        "hessians"
      ],
      "execution_count": null,
      "outputs": [
        {
          "data": {
            "text/plain": [
              "[[<tf.Tensor: shape=(), dtype=float32, numpy=6.0>,\n",
              "  <tf.Tensor: shape=(), dtype=float32, numpy=2.0>],\n",
              " [<tf.Tensor: shape=(), dtype=float32, numpy=2.0>, None]]"
            ]
          },
          "execution_count": 184,
          "metadata": {},
          "output_type": "execute_result"
        }
      ]
    },
    {
      "cell_type": "code",
      "metadata": {
        "colab": {
          "base_uri": "https://localhost:8080/"
        },
        "execution": {
          "iopub.execute_input": "2021-07-04T08:16:51.296820Z",
          "iopub.status.busy": "2021-07-04T08:16:51.295762Z",
          "iopub.status.idle": "2021-07-04T08:16:51.303440Z",
          "shell.execute_reply": "2021-07-04T08:16:51.304381Z"
        },
        "id": "Z29IDrk0nFSu",
        "outputId": "9ce03f6b-7847-4c46-beb4-eb2a023f1582"
      },
      "source": [
        "def f(w1, w2):\n",
        "    return 3 * w1 ** 2 + tf.stop_gradient(2 * w1 * w2)\n",
        "\n",
        "with tf.GradientTape() as tape:\n",
        "    z = f(w1, w2)\n",
        "\n",
        "tape.gradient(z, [w1, w2])"
      ],
      "execution_count": null,
      "outputs": [
        {
          "data": {
            "text/plain": [
              "[<tf.Tensor: shape=(), dtype=float32, numpy=30.0>, None]"
            ]
          },
          "execution_count": 185,
          "metadata": {},
          "output_type": "execute_result"
        }
      ]
    },
    {
      "cell_type": "code",
      "metadata": {
        "colab": {
          "base_uri": "https://localhost:8080/"
        },
        "execution": {
          "iopub.execute_input": "2021-07-04T08:16:51.313255Z",
          "iopub.status.busy": "2021-07-04T08:16:51.312065Z",
          "iopub.status.idle": "2021-07-04T08:16:51.319779Z",
          "shell.execute_reply": "2021-07-04T08:16:51.320650Z"
        },
        "id": "O5-EE34anFSu",
        "outputId": "b9f03eba-7437-4593-bf6c-3670c8003a00"
      },
      "source": [
        "x = tf.Variable(100.)\n",
        "with tf.GradientTape() as tape:\n",
        "    z = my_softplus(x)\n",
        "\n",
        "tape.gradient(z, [x])"
      ],
      "execution_count": null,
      "outputs": [
        {
          "data": {
            "text/plain": [
              "[<tf.Tensor: shape=(), dtype=float32, numpy=nan>]"
            ]
          },
          "execution_count": 186,
          "metadata": {},
          "output_type": "execute_result"
        }
      ]
    },
    {
      "cell_type": "code",
      "metadata": {
        "colab": {
          "base_uri": "https://localhost:8080/"
        },
        "execution": {
          "iopub.execute_input": "2021-07-04T08:16:51.328636Z",
          "iopub.status.busy": "2021-07-04T08:16:51.327510Z",
          "iopub.status.idle": "2021-07-04T08:16:51.333810Z",
          "shell.execute_reply": "2021-07-04T08:16:51.334689Z"
        },
        "id": "Da4WXjSvnFSu",
        "outputId": "d5c30d95-563a-42a2-b39d-8a7c506f6f87"
      },
      "source": [
        "tf.math.log(tf.exp(tf.constant(30., dtype=tf.float32)) + 1.)"
      ],
      "execution_count": null,
      "outputs": [
        {
          "data": {
            "text/plain": [
              "<tf.Tensor: shape=(), dtype=float32, numpy=30.0>"
            ]
          },
          "execution_count": 187,
          "metadata": {},
          "output_type": "execute_result"
        }
      ]
    },
    {
      "cell_type": "code",
      "metadata": {
        "colab": {
          "base_uri": "https://localhost:8080/"
        },
        "execution": {
          "iopub.execute_input": "2021-07-04T08:16:51.343670Z",
          "iopub.status.busy": "2021-07-04T08:16:51.342529Z",
          "iopub.status.idle": "2021-07-04T08:16:51.351679Z",
          "shell.execute_reply": "2021-07-04T08:16:51.352632Z"
        },
        "id": "isJYdf_DnFSu",
        "outputId": "e93f7627-b12c-4d5e-fa0e-3282b37f6160"
      },
      "source": [
        "x = tf.Variable([100.])\n",
        "with tf.GradientTape() as tape:\n",
        "    z = my_softplus(x)\n",
        "\n",
        "tape.gradient(z, [x])"
      ],
      "execution_count": null,
      "outputs": [
        {
          "data": {
            "text/plain": [
              "[<tf.Tensor: shape=(1,), dtype=float32, numpy=array([nan], dtype=float32)>]"
            ]
          },
          "execution_count": 188,
          "metadata": {},
          "output_type": "execute_result"
        }
      ]
    },
    {
      "cell_type": "code",
      "metadata": {
        "execution": {
          "iopub.execute_input": "2021-07-04T08:16:51.364281Z",
          "iopub.status.busy": "2021-07-04T08:16:51.363154Z",
          "iopub.status.idle": "2021-07-04T08:16:51.367261Z",
          "shell.execute_reply": "2021-07-04T08:16:51.368341Z"
        },
        "id": "v4CtFIKOnFSu"
      },
      "source": [
        "@tf.custom_gradient\n",
        "def my_better_softplus(z):\n",
        "    exp = tf.exp(z)\n",
        "    def my_softplus_gradients(grad):\n",
        "        return grad / (1 + 1 / exp)\n",
        "    return tf.math.log(exp + 1), my_softplus_gradients"
      ],
      "execution_count": null,
      "outputs": []
    },
    {
      "cell_type": "code",
      "metadata": {
        "execution": {
          "iopub.execute_input": "2021-07-04T08:16:51.378090Z",
          "iopub.status.busy": "2021-07-04T08:16:51.376652Z",
          "iopub.status.idle": "2021-07-04T08:16:51.379875Z",
          "shell.execute_reply": "2021-07-04T08:16:51.380804Z"
        },
        "id": "tBHtwlqMnFSu"
      },
      "source": [
        "def my_better_softplus(z):\n",
        "    return tf.where(z > 30., z, tf.math.log(tf.exp(z) + 1.))"
      ],
      "execution_count": null,
      "outputs": []
    },
    {
      "cell_type": "code",
      "metadata": {
        "colab": {
          "base_uri": "https://localhost:8080/"
        },
        "execution": {
          "iopub.execute_input": "2021-07-04T08:16:51.389760Z",
          "iopub.status.busy": "2021-07-04T08:16:51.388584Z",
          "iopub.status.idle": "2021-07-04T08:16:51.403887Z",
          "shell.execute_reply": "2021-07-04T08:16:51.402464Z"
        },
        "id": "mkpIj-COnFSu",
        "outputId": "e7e0cfa5-cbe6-43a0-f9e9-5687ed90477d"
      },
      "source": [
        "x = tf.Variable([1000.])\n",
        "with tf.GradientTape() as tape:\n",
        "    z = my_better_softplus(x)\n",
        "\n",
        "z, tape.gradient(z, [x])"
      ],
      "execution_count": null,
      "outputs": [
        {
          "data": {
            "text/plain": [
              "(<tf.Tensor: shape=(1,), dtype=float32, numpy=array([1000.], dtype=float32)>,\n",
              " [<tf.Tensor: shape=(1,), dtype=float32, numpy=array([nan], dtype=float32)>])"
            ]
          },
          "execution_count": 191,
          "metadata": {},
          "output_type": "execute_result"
        }
      ]
    },
    {
      "cell_type": "markdown",
      "metadata": {
        "id": "XI8B76oxnFSu"
      },
      "source": [
        "# 사용자 정의 훈련 반복"
      ]
    },
    {
      "cell_type": "code",
      "metadata": {
        "execution": {
          "iopub.execute_input": "2021-07-04T08:16:51.412781Z",
          "iopub.status.busy": "2021-07-04T08:16:51.411671Z",
          "iopub.status.idle": "2021-07-04T08:16:51.424600Z",
          "shell.execute_reply": "2021-07-04T08:16:51.425708Z"
        },
        "id": "ANdypoJYnFSu"
      },
      "source": [
        "keras.backend.clear_session()\n",
        "np.random.seed(42)\n",
        "tf.random.set_seed(42)"
      ],
      "execution_count": null,
      "outputs": []
    },
    {
      "cell_type": "code",
      "metadata": {
        "execution": {
          "iopub.execute_input": "2021-07-04T08:16:51.446035Z",
          "iopub.status.busy": "2021-07-04T08:16:51.444592Z",
          "iopub.status.idle": "2021-07-04T08:16:51.450062Z",
          "shell.execute_reply": "2021-07-04T08:16:51.451073Z"
        },
        "id": "CnTqizVwnFSu"
      },
      "source": [
        "l2_reg = keras.regularizers.l2(0.05)\n",
        "model = keras.models.Sequential([\n",
        "    keras.layers.Dense(30, activation=\"elu\", kernel_initializer=\"he_normal\",\n",
        "                       kernel_regularizer=l2_reg),\n",
        "    keras.layers.Dense(1, kernel_regularizer=l2_reg)\n",
        "])"
      ],
      "execution_count": null,
      "outputs": []
    },
    {
      "cell_type": "code",
      "metadata": {
        "execution": {
          "iopub.execute_input": "2021-07-04T08:16:51.459636Z",
          "iopub.status.busy": "2021-07-04T08:16:51.458431Z",
          "iopub.status.idle": "2021-07-04T08:16:51.462294Z",
          "shell.execute_reply": "2021-07-04T08:16:51.463223Z"
        },
        "id": "wFdg6eRenFSv"
      },
      "source": [
        "def random_batch(X, y, batch_size=32):\n",
        "    idx = np.random.randint(len(X), size=batch_size)\n",
        "    return X[idx], y[idx]"
      ],
      "execution_count": null,
      "outputs": []
    },
    {
      "cell_type": "code",
      "metadata": {
        "execution": {
          "iopub.execute_input": "2021-07-04T08:16:51.475177Z",
          "iopub.status.busy": "2021-07-04T08:16:51.474083Z",
          "iopub.status.idle": "2021-07-04T08:16:51.477820Z",
          "shell.execute_reply": "2021-07-04T08:16:51.478652Z"
        },
        "id": "LSqc9FVNnFSv"
      },
      "source": [
        "def print_status_bar(iteration, total, loss, metrics=None):\n",
        "    metrics = \" - \".join([\"{}: {:.4f}\".format(m.name, m.result())\n",
        "                         for m in [loss] + (metrics or [])])\n",
        "    end = \"\" if iteration < total else \"\\n\"\n",
        "    print(\"\\r{}/{} - \".format(iteration, total) + metrics,\n",
        "          end=end)"
      ],
      "execution_count": null,
      "outputs": []
    },
    {
      "cell_type": "code",
      "metadata": {
        "colab": {
          "base_uri": "https://localhost:8080/"
        },
        "execution": {
          "iopub.execute_input": "2021-07-04T08:16:51.499573Z",
          "iopub.status.busy": "2021-07-04T08:16:51.498167Z",
          "iopub.status.idle": "2021-07-04T08:16:54.379440Z",
          "shell.execute_reply": "2021-07-04T08:16:54.380763Z"
        },
        "id": "I-sdMEKxnFSv",
        "outputId": "9d98b783-ffa7-4d12-df12-d961f7a501a0"
      },
      "source": [
        "import time\n",
        "\n",
        "mean_loss = keras.metrics.Mean(name=\"loss\")\n",
        "mean_square = keras.metrics.Mean(name=\"mean_square\")\n",
        "for i in range(1, 50 + 1):\n",
        "    loss = 1 / i\n",
        "    mean_loss(loss)\n",
        "    mean_square(i ** 2)\n",
        "    print_status_bar(i, 50, mean_loss, [mean_square])\n",
        "    time.sleep(0.05)"
      ],
      "execution_count": null,
      "outputs": [
        {
          "name": "stdout",
          "output_type": "stream",
          "text": [
            "50/50 - loss: 0.0900 - mean_square: 858.5000\n"
          ]
        }
      ]
    },
    {
      "cell_type": "markdown",
      "metadata": {
        "id": "T74QlMxbnFSv"
      },
      "source": [
        "A fancier version with a progress bar:"
      ]
    },
    {
      "cell_type": "code",
      "metadata": {
        "execution": {
          "iopub.execute_input": "2021-07-04T08:16:54.394881Z",
          "iopub.status.busy": "2021-07-04T08:16:54.393436Z",
          "iopub.status.idle": "2021-07-04T08:16:54.396503Z",
          "shell.execute_reply": "2021-07-04T08:16:54.397488Z"
        },
        "id": "JCoqZPL1nFSv"
      },
      "source": [
        "def progress_bar(iteration, total, size=30):\n",
        "    running = iteration < total\n",
        "    c = \">\" if running else \"=\"\n",
        "    p = (size - 1) * iteration // total\n",
        "    fmt = \"{{:-{}d}}/{{}} [{{}}]\".format(len(str(total)))\n",
        "    params = [iteration, total, \"=\" * p + c + \".\" * (size - p - 1)]\n",
        "    return fmt.format(*params)"
      ],
      "execution_count": null,
      "outputs": []
    },
    {
      "cell_type": "code",
      "metadata": {
        "colab": {
          "base_uri": "https://localhost:8080/",
          "height": 35
        },
        "execution": {
          "iopub.execute_input": "2021-07-04T08:16:54.405527Z",
          "iopub.status.busy": "2021-07-04T08:16:54.404360Z",
          "iopub.status.idle": "2021-07-04T08:16:54.408663Z",
          "shell.execute_reply": "2021-07-04T08:16:54.409533Z"
        },
        "id": "palDPRM_nFSv",
        "outputId": "2038faef-dd24-49ab-d42e-72169e9f492c"
      },
      "source": [
        "progress_bar(3500, 10000, size=6)"
      ],
      "execution_count": null,
      "outputs": [
        {
          "data": {
            "application/vnd.google.colaboratory.intrinsic+json": {
              "type": "string"
            },
            "text/plain": [
              "' 3500/10000 [=>....]'"
            ]
          },
          "execution_count": 198,
          "metadata": {},
          "output_type": "execute_result"
        }
      ]
    },
    {
      "cell_type": "code",
      "metadata": {
        "execution": {
          "iopub.execute_input": "2021-07-04T08:16:54.420702Z",
          "iopub.status.busy": "2021-07-04T08:16:54.419667Z",
          "iopub.status.idle": "2021-07-04T08:16:54.423451Z",
          "shell.execute_reply": "2021-07-04T08:16:54.424317Z"
        },
        "id": "_INP4LY-nFSv"
      },
      "source": [
        "def print_status_bar(iteration, total, loss, metrics=None, size=30):\n",
        "    metrics = \" - \".join([\"{}: {:.4f}\".format(m.name, m.result())\n",
        "                         for m in [loss] + (metrics or [])])\n",
        "    end = \"\" if iteration < total else \"\\n\"\n",
        "    print(\"\\r{} - {}\".format(progress_bar(iteration, total), metrics), end=end)"
      ],
      "execution_count": null,
      "outputs": []
    },
    {
      "cell_type": "code",
      "metadata": {
        "colab": {
          "base_uri": "https://localhost:8080/"
        },
        "execution": {
          "iopub.execute_input": "2021-07-04T08:16:54.451621Z",
          "iopub.status.busy": "2021-07-04T08:16:54.442475Z",
          "iopub.status.idle": "2021-07-04T08:16:57.309328Z",
          "shell.execute_reply": "2021-07-04T08:16:57.310825Z"
        },
        "id": "_wv5QF3bnFSv",
        "outputId": "91d9da4b-8e24-41c5-e4ac-903f69a0c524"
      },
      "source": [
        "mean_loss = keras.metrics.Mean(name=\"loss\")\n",
        "mean_square = keras.metrics.Mean(name=\"mean_square\")\n",
        "for i in range(1, 50 + 1):\n",
        "    loss = 1 / i\n",
        "    mean_loss(loss)\n",
        "    mean_square(i ** 2)\n",
        "    print_status_bar(i, 50, mean_loss, [mean_square])\n",
        "    time.sleep(0.05)"
      ],
      "execution_count": null,
      "outputs": [
        {
          "name": "stdout",
          "output_type": "stream",
          "text": [
            "50/50 [==============================] - loss: 0.0900 - mean_square: 858.5000\n"
          ]
        }
      ]
    },
    {
      "cell_type": "code",
      "metadata": {
        "execution": {
          "iopub.execute_input": "2021-07-04T08:16:57.320138Z",
          "iopub.status.busy": "2021-07-04T08:16:57.318748Z",
          "iopub.status.idle": "2021-07-04T08:16:57.326326Z",
          "shell.execute_reply": "2021-07-04T08:16:57.327156Z"
        },
        "id": "GY73UpFLnFSv"
      },
      "source": [
        "keras.backend.clear_session()\n",
        "np.random.seed(42)\n",
        "tf.random.set_seed(42)"
      ],
      "execution_count": null,
      "outputs": []
    },
    {
      "cell_type": "code",
      "metadata": {
        "colab": {
          "base_uri": "https://localhost:8080/"
        },
        "execution": {
          "iopub.execute_input": "2021-07-04T08:16:57.344821Z",
          "iopub.status.busy": "2021-07-04T08:16:57.343764Z",
          "iopub.status.idle": "2021-07-04T08:16:57.360548Z",
          "shell.execute_reply": "2021-07-04T08:16:57.362034Z"
        },
        "id": "PG-ZQpginFSv",
        "outputId": "6d9d9693-adcc-4dac-aec0-199d095b4e8d"
      },
      "source": [
        "n_epochs = 5\n",
        "batch_size = 32\n",
        "n_steps = len(X_train) // batch_size\n",
        "optimizer = keras.optimizers.Nadam(learning_rate=0.01)\n",
        "loss_fn = keras.losses.mean_squared_error\n",
        "mean_loss = keras.metrics.Mean()\n",
        "metrics = [keras.metrics.MeanAbsoluteError()]"
      ],
      "execution_count": null,
      "outputs": [
        {
          "name": "stderr",
          "output_type": "stream",
          "text": [
            "/usr/local/lib/python3.7/dist-packages/keras/optimizer_v2/optimizer_v2.py:356: UserWarning: The `lr` argument is deprecated, use `learning_rate` instead.\n",
            "  \"The `lr` argument is deprecated, use `learning_rate` instead.\")\n"
          ]
        }
      ]
    },
    {
      "cell_type": "code",
      "metadata": {
        "colab": {
          "base_uri": "https://localhost:8080/"
        },
        "execution": {
          "iopub.execute_input": "2021-07-04T08:16:57.381663Z",
          "iopub.status.busy": "2021-07-04T08:16:57.380524Z",
          "iopub.status.idle": "2021-07-04T08:17:33.871593Z",
          "shell.execute_reply": "2021-07-04T08:17:33.872920Z"
        },
        "id": "ITOnR9uLnFSv",
        "outputId": "b0a13b06-c286-46c6-f832-791df6a47ef5"
      },
      "source": [
        "for epoch in range(1, n_epochs + 1):\n",
        "    print(\"Epoch {}/{}\".format(epoch, n_epochs))\n",
        "    for step in range(1, n_steps + 1):\n",
        "        X_batch, y_batch = random_batch(X_train_scaled, y_train)\n",
        "        with tf.GradientTape() as tape:\n",
        "            y_pred = model(X_batch)\n",
        "            main_loss = tf.reduce_mean(loss_fn(y_batch, y_pred))\n",
        "            loss = tf.add_n([main_loss] + model.losses)\n",
        "        gradients = tape.gradient(loss, model.trainable_variables)\n",
        "        optimizer.apply_gradients(zip(gradients, model.trainable_variables))\n",
        "        for variable in model.variables:\n",
        "            if variable.constraint is not None:\n",
        "                variable.assign(variable.constraint(variable))\n",
        "        mean_loss(loss)\n",
        "        for metric in metrics:\n",
        "            metric(y_batch, y_pred)\n",
        "        print_status_bar(step * batch_size, len(y_train), mean_loss, metrics)\n",
        "    print_status_bar(len(y_train), len(y_train), mean_loss, metrics)\n",
        "    for metric in [mean_loss] + metrics:\n",
        "        metric.reset_states()"
      ],
      "execution_count": null,
      "outputs": [
        {
          "name": "stdout",
          "output_type": "stream",
          "text": [
            "Epoch 1/5\n",
            "11610/11610 [==============================] - mean: 1.3955 - mean_absolute_error: 0.5722\n",
            "Epoch 2/5\n",
            "11610/11610 [==============================] - mean: 0.6774 - mean_absolute_error: 0.5280\n",
            "Epoch 3/5\n",
            "11610/11610 [==============================] - mean: 0.6351 - mean_absolute_error: 0.5177\n",
            "Epoch 4/5\n",
            "11610/11610 [==============================] - mean: 0.6384 - mean_absolute_error: 0.5181\n",
            "Epoch 5/5\n",
            "11610/11610 [==============================] - mean: 0.6440 - mean_absolute_error: 0.5222\n"
          ]
        }
      ]
    },
    {
      "cell_type": "code",
      "metadata": {
        "colab": {
          "base_uri": "https://localhost:8080/",
          "height": 209,
          "referenced_widgets": [
            "bcf308ed877d40cabcca590040b19db9",
            "0550b859d58c4b21b730ef45b52a97f2",
            "6dfcfab30ebf42bfa4e8f99cb6654f37",
            "2a52efd06cbd4bfb8e5dbbe17c6236ab",
            "503dcfb1aa1a47cca810d3ae18347faf",
            "b442291bc2fd4afeb00345c601401a48",
            "d00ac2178fda4662bac2b5894225e695",
            "d40d0e4d6dbc4fe7837af600a714baf5",
            "15750aba26bc47b1b03a133a4cadad3a",
            "844cea147d9d46c081ade1ef0e117c72",
            "d0295bc6f1bb4ee38d7ac9244ee54d8e",
            "b531e026313f4933943884f6e1e795f5",
            "fb52f438720d42e7bcf99a27ad7d2eb7",
            "e09a357ca8bf49d1b9da060f8eb29224",
            "5f29d13ac54e4d968770d64d1fad99aa",
            "306c5a5eb7dd4afdaab6886e31e99a02",
            "b6a618847516464680c2a16aef583371",
            "75d93ec1d61648679862d7ddee5547b9",
            "4abc8ad70e6d4112a18aa58394942015",
            "4bf89d5e43274887bd1724a2d305e0a4",
            "6cdc302c227b4da9a76120662368e6b8",
            "8c863503d34b45ebbcb9190940434880",
            "c715ff27d24e45f9b4aacede06814708",
            "cdd33bdc83ef4ba08e7aaf223624f89a",
            "d0e360ece5814c02ac20a2fe42e5c66f",
            "51a6f9642c7e45408f3d984b6a25344a",
            "be5e3d53ea4144539386c29ffef07a3d",
            "f1e80d88677d40f1bdf9ffcf4fe649d8",
            "1066152b45a7421393c6f2110a338fcb",
            "48a18bc2cb684c1b923a8c1da67238fc",
            "0bd851e4cb03463985643ae9f4c37aa7",
            "b5dadf6cb1e8404bb156b17058f73f4a",
            "c80da36d70744be0b6343dc7b5f24f53",
            "ab5fb1fc8fe7467495e0ee03f6839479",
            "d4e99b5a737f4a93a8ad75d870dc485a",
            "d6384c2670af484a8d0ce6019929b947",
            "a4d0b9ed8c1b44819157609d8faa8b5d",
            "4dc3605db14b461b8fd91761de341563",
            "df7ed54f99b54d2abff6b5bdde6db72e",
            "645ace54d7b9427aabe2b2dfa6dc6dea",
            "cf960f823e2741b4b0117ff9eb298414",
            "f8cbaeb84c544413b44be1717d723be2",
            "d5eff707caaa4775a0a2751fec7f1eba",
            "0797d34c1de449309ddbaebb42e85c07",
            "74bea35b82934882b9098623f450fab7",
            "e216a70f79254c9a864c952d1cb6f7f4",
            "252a5e08473f4751a6b63bda7ce5055d",
            "0b1a5bde488248e483f211a75e50b9a7",
            "df2eb47bbf0c47dfbcc6c304733ebcf6",
            "eb43a6e971134e57b35e636ac843b377",
            "40e7a51a0db544ea80d4f5e3805a2a0d",
            "b8ab2b969e9641b98c8934443cb199c7",
            "004faff048744caf8c45ec588d15c83c",
            "434a0e19af3d45cab0e00916a6f1d504",
            "0af626a080824117a0e04705562e6418",
            "3697fc6dc6c34b8fbca2c522d3fe0543",
            "d7b0f08b1a8241ae8f5857893c7e6196",
            "f087a4deddfb4b13b39d053bc39ed254",
            "4d85525433584eb4ae759bc56f0332eb",
            "2d1ae6fa9fe146a9a288fd5ea41667a2",
            "4fb6a7ada2cf4ab9812a62110edd7169",
            "19386467e8344d93b420b0f8c2483400",
            "8f9ea35424a049e2826fcd12e782091b",
            "b20bc4ddb0004894b3fb69a7dc5a6b37",
            "6157ade5095b4bda96075e2b5f51df95",
            "e3c0df173966467db5fb15ded865d25b"
          ]
        },
        "execution": {
          "iopub.execute_input": "2021-07-04T08:17:33.898309Z",
          "iopub.status.busy": "2021-07-04T08:17:33.896576Z",
          "iopub.status.idle": "2021-07-04T08:18:11.822625Z",
          "shell.execute_reply": "2021-07-04T08:18:11.820044Z"
        },
        "id": "_VOoVK34nFSw",
        "outputId": "7bcb9f91-cced-4c12-e04c-59faa1778280"
      },
      "source": [
        "try:\n",
        "    from tqdm.notebook import trange\n",
        "    from collections import OrderedDict\n",
        "    with trange(1, n_epochs + 1, desc=\"All epochs\") as epochs:\n",
        "        for epoch in epochs:\n",
        "            with trange(1, n_steps + 1, desc=\"Epoch {}/{}\".format(epoch, n_epochs)) as steps:\n",
        "                for step in steps:\n",
        "                    X_batch, y_batch = random_batch(X_train_scaled, y_train)\n",
        "                    with tf.GradientTape() as tape:\n",
        "                        y_pred = model(X_batch)\n",
        "                        main_loss = tf.reduce_mean(loss_fn(y_batch, y_pred))\n",
        "                        loss = tf.add_n([main_loss] + model.losses)\n",
        "                    gradients = tape.gradient(loss, model.trainable_variables)\n",
        "                    optimizer.apply_gradients(zip(gradients, model.trainable_variables))\n",
        "                    for variable in model.variables:\n",
        "                        if variable.constraint is not None:\n",
        "                            variable.assign(variable.constraint(variable))                    \n",
        "                    status = OrderedDict()\n",
        "                    mean_loss(loss)\n",
        "                    status[\"loss\"] = mean_loss.result().numpy()\n",
        "                    for metric in metrics:\n",
        "                        metric(y_batch, y_pred)\n",
        "                        status[metric.name] = metric.result().numpy()\n",
        "                    steps.set_postfix(status)\n",
        "            for metric in [mean_loss] + metrics:\n",
        "                metric.reset_states()\n",
        "except ImportError as ex:\n",
        "    print(\"To run this cell, please install tqdm, ipywidgets and restart Jupyter\")"
      ],
      "execution_count": null,
      "outputs": [
        {
          "data": {
            "application/vnd.jupyter.widget-view+json": {
              "model_id": "bcf308ed877d40cabcca590040b19db9",
              "version_major": 2,
              "version_minor": 0
            },
            "text/plain": [
              "All epochs:   0%|          | 0/5 [00:00<?, ?it/s]"
            ]
          },
          "metadata": {},
          "output_type": "display_data"
        },
        {
          "data": {
            "application/vnd.jupyter.widget-view+json": {
              "model_id": "b531e026313f4933943884f6e1e795f5",
              "version_major": 2,
              "version_minor": 0
            },
            "text/plain": [
              "Epoch 1/5:   0%|          | 0/362 [00:00<?, ?it/s]"
            ]
          },
          "metadata": {},
          "output_type": "display_data"
        },
        {
          "data": {
            "application/vnd.jupyter.widget-view+json": {
              "model_id": "c715ff27d24e45f9b4aacede06814708",
              "version_major": 2,
              "version_minor": 0
            },
            "text/plain": [
              "Epoch 2/5:   0%|          | 0/362 [00:00<?, ?it/s]"
            ]
          },
          "metadata": {},
          "output_type": "display_data"
        },
        {
          "data": {
            "application/vnd.jupyter.widget-view+json": {
              "model_id": "ab5fb1fc8fe7467495e0ee03f6839479",
              "version_major": 2,
              "version_minor": 0
            },
            "text/plain": [
              "Epoch 3/5:   0%|          | 0/362 [00:00<?, ?it/s]"
            ]
          },
          "metadata": {},
          "output_type": "display_data"
        },
        {
          "data": {
            "application/vnd.jupyter.widget-view+json": {
              "model_id": "74bea35b82934882b9098623f450fab7",
              "version_major": 2,
              "version_minor": 0
            },
            "text/plain": [
              "Epoch 4/5:   0%|          | 0/362 [00:00<?, ?it/s]"
            ]
          },
          "metadata": {},
          "output_type": "display_data"
        },
        {
          "data": {
            "application/vnd.jupyter.widget-view+json": {
              "model_id": "3697fc6dc6c34b8fbca2c522d3fe0543",
              "version_major": 2,
              "version_minor": 0
            },
            "text/plain": [
              "Epoch 5/5:   0%|          | 0/362 [00:00<?, ?it/s]"
            ]
          },
          "metadata": {},
          "output_type": "display_data"
        }
      ]
    },
    {
      "cell_type": "markdown",
      "metadata": {
        "id": "CnRi0O4YnFSw"
      },
      "source": [
        "## 텐서플로 함수"
      ]
    },
    {
      "cell_type": "code",
      "metadata": {
        "execution": {
          "iopub.execute_input": "2021-07-04T08:18:11.830499Z",
          "iopub.status.busy": "2021-07-04T08:18:11.829618Z",
          "iopub.status.idle": "2021-07-04T08:18:11.833538Z",
          "shell.execute_reply": "2021-07-04T08:18:11.834319Z"
        },
        "id": "Z4ZR1OPsnFSx"
      },
      "source": [
        "def cube(x):\n",
        "    return x ** 3"
      ],
      "execution_count": null,
      "outputs": []
    },
    {
      "cell_type": "code",
      "metadata": {
        "colab": {
          "base_uri": "https://localhost:8080/"
        },
        "execution": {
          "iopub.execute_input": "2021-07-04T08:18:11.842745Z",
          "iopub.status.busy": "2021-07-04T08:18:11.841606Z",
          "iopub.status.idle": "2021-07-04T08:18:11.846105Z",
          "shell.execute_reply": "2021-07-04T08:18:11.846996Z"
        },
        "id": "8l01IQPXnFSx",
        "outputId": "1ed93f76-dc77-44d6-e02b-0d2f4dd0eeca"
      },
      "source": [
        "cube(2)"
      ],
      "execution_count": null,
      "outputs": [
        {
          "data": {
            "text/plain": [
              "8"
            ]
          },
          "execution_count": 206,
          "metadata": {},
          "output_type": "execute_result"
        }
      ]
    },
    {
      "cell_type": "code",
      "metadata": {
        "colab": {
          "base_uri": "https://localhost:8080/"
        },
        "execution": {
          "iopub.execute_input": "2021-07-04T08:18:11.854139Z",
          "iopub.status.busy": "2021-07-04T08:18:11.853046Z",
          "iopub.status.idle": "2021-07-04T08:18:11.861946Z",
          "shell.execute_reply": "2021-07-04T08:18:11.861036Z"
        },
        "id": "i7FxLva0nFSx",
        "outputId": "c9f65ec5-995d-464a-8835-e1cf7a6dbd21"
      },
      "source": [
        "cube(tf.constant(2.0))"
      ],
      "execution_count": null,
      "outputs": [
        {
          "data": {
            "text/plain": [
              "<tf.Tensor: shape=(), dtype=float32, numpy=8.0>"
            ]
          },
          "execution_count": 207,
          "metadata": {},
          "output_type": "execute_result"
        }
      ]
    },
    {
      "cell_type": "code",
      "metadata": {
        "colab": {
          "base_uri": "https://localhost:8080/"
        },
        "execution": {
          "iopub.execute_input": "2021-07-04T08:18:11.871190Z",
          "iopub.status.busy": "2021-07-04T08:18:11.869990Z",
          "iopub.status.idle": "2021-07-04T08:18:11.875579Z",
          "shell.execute_reply": "2021-07-04T08:18:11.874509Z"
        },
        "id": "T03G4Mt8nFSx",
        "outputId": "eb48f1b7-91a0-4558-b7fd-87a72160a584"
      },
      "source": [
        "tf_cube = tf.function(cube)\n",
        "tf_cube"
      ],
      "execution_count": null,
      "outputs": [
        {
          "data": {
            "text/plain": [
              "<tensorflow.python.eager.def_function.Function at 0x7fd479c64b10>"
            ]
          },
          "execution_count": 208,
          "metadata": {},
          "output_type": "execute_result"
        }
      ]
    },
    {
      "cell_type": "code",
      "metadata": {
        "colab": {
          "base_uri": "https://localhost:8080/"
        },
        "execution": {
          "iopub.execute_input": "2021-07-04T08:18:11.906924Z",
          "iopub.status.busy": "2021-07-04T08:18:11.882671Z",
          "iopub.status.idle": "2021-07-04T08:18:11.967643Z",
          "shell.execute_reply": "2021-07-04T08:18:11.968947Z"
        },
        "id": "1FjYnl2snFSx",
        "outputId": "5ce6e3b9-c3dc-4687-f810-b2003cbd1555"
      },
      "source": [
        "tf_cube(2)"
      ],
      "execution_count": null,
      "outputs": [
        {
          "data": {
            "text/plain": [
              "<tf.Tensor: shape=(), dtype=int32, numpy=8>"
            ]
          },
          "execution_count": 209,
          "metadata": {},
          "output_type": "execute_result"
        }
      ]
    },
    {
      "cell_type": "code",
      "metadata": {
        "colab": {
          "base_uri": "https://localhost:8080/"
        },
        "execution": {
          "iopub.execute_input": "2021-07-04T08:18:11.978396Z",
          "iopub.status.busy": "2021-07-04T08:18:11.976707Z",
          "iopub.status.idle": "2021-07-04T08:18:11.994754Z",
          "shell.execute_reply": "2021-07-04T08:18:11.995845Z"
        },
        "id": "CJ98sHrKnFSx",
        "outputId": "f6cf2a50-4345-4c52-caef-169b2f08d19c"
      },
      "source": [
        "tf_cube(tf.constant(2.0))"
      ],
      "execution_count": null,
      "outputs": [
        {
          "data": {
            "text/plain": [
              "<tf.Tensor: shape=(), dtype=float32, numpy=8.0>"
            ]
          },
          "execution_count": 210,
          "metadata": {},
          "output_type": "execute_result"
        }
      ]
    },
    {
      "cell_type": "markdown",
      "metadata": {
        "id": "69nqOhgSnFSx"
      },
      "source": [
        "### TF 함수와 콘크리트 함수"
      ]
    },
    {
      "cell_type": "code",
      "metadata": {
        "colab": {
          "base_uri": "https://localhost:8080/"
        },
        "execution": {
          "iopub.execute_input": "2021-07-04T08:18:12.005258Z",
          "iopub.status.busy": "2021-07-04T08:18:12.003881Z",
          "iopub.status.idle": "2021-07-04T08:18:12.008314Z",
          "shell.execute_reply": "2021-07-04T08:18:12.009204Z"
        },
        "id": "TKtHslXenFSx",
        "outputId": "ba36d1c1-5305-486a-a8ab-69699c0b3fe5"
      },
      "source": [
        "concrete_function = tf_cube.get_concrete_function(tf.constant(2.0))\n",
        "concrete_function.graph"
      ],
      "execution_count": null,
      "outputs": [
        {
          "data": {
            "text/plain": [
              "<tensorflow.python.framework.func_graph.FuncGraph at 0x7fd479280850>"
            ]
          },
          "execution_count": 211,
          "metadata": {},
          "output_type": "execute_result"
        }
      ]
    },
    {
      "cell_type": "code",
      "metadata": {
        "colab": {
          "base_uri": "https://localhost:8080/"
        },
        "execution": {
          "iopub.execute_input": "2021-07-04T08:18:12.016194Z",
          "iopub.status.busy": "2021-07-04T08:18:12.015274Z",
          "iopub.status.idle": "2021-07-04T08:18:12.021028Z",
          "shell.execute_reply": "2021-07-04T08:18:12.021740Z"
        },
        "id": "_rPVLwFKnFSx",
        "outputId": "02127582-2606-4521-f4ed-36384f0f33fd"
      },
      "source": [
        "concrete_function(tf.constant(2.0))"
      ],
      "execution_count": null,
      "outputs": [
        {
          "data": {
            "text/plain": [
              "<tf.Tensor: shape=(), dtype=float32, numpy=8.0>"
            ]
          },
          "execution_count": 212,
          "metadata": {},
          "output_type": "execute_result"
        }
      ]
    },
    {
      "cell_type": "code",
      "metadata": {
        "colab": {
          "base_uri": "https://localhost:8080/"
        },
        "execution": {
          "iopub.execute_input": "2021-07-04T08:18:12.029029Z",
          "iopub.status.busy": "2021-07-04T08:18:12.028140Z",
          "iopub.status.idle": "2021-07-04T08:18:12.032917Z",
          "shell.execute_reply": "2021-07-04T08:18:12.033810Z"
        },
        "id": "Vvpikc9TnFSx",
        "outputId": "f26069b6-22c4-4351-d186-c758751df25d"
      },
      "source": [
        "concrete_function is tf_cube.get_concrete_function(tf.constant(2.0))"
      ],
      "execution_count": null,
      "outputs": [
        {
          "data": {
            "text/plain": [
              "True"
            ]
          },
          "execution_count": 213,
          "metadata": {},
          "output_type": "execute_result"
        }
      ]
    },
    {
      "cell_type": "markdown",
      "metadata": {
        "id": "3D-erxOBnFSx"
      },
      "source": [
        "### 함수 정의와 그래프"
      ]
    },
    {
      "cell_type": "code",
      "metadata": {
        "colab": {
          "base_uri": "https://localhost:8080/"
        },
        "execution": {
          "iopub.execute_input": "2021-07-04T08:18:12.041193Z",
          "iopub.status.busy": "2021-07-04T08:18:12.040072Z",
          "iopub.status.idle": "2021-07-04T08:18:12.044509Z",
          "shell.execute_reply": "2021-07-04T08:18:12.045398Z"
        },
        "id": "_IvdEuL2nFSy",
        "outputId": "e7f2706a-82e1-44c1-f951-596f220b86ec"
      },
      "source": [
        "concrete_function.graph"
      ],
      "execution_count": null,
      "outputs": [
        {
          "data": {
            "text/plain": [
              "<tensorflow.python.framework.func_graph.FuncGraph at 0x7fd479280850>"
            ]
          },
          "execution_count": 214,
          "metadata": {},
          "output_type": "execute_result"
        }
      ]
    },
    {
      "cell_type": "code",
      "metadata": {
        "colab": {
          "base_uri": "https://localhost:8080/"
        },
        "execution": {
          "iopub.execute_input": "2021-07-04T08:18:12.053175Z",
          "iopub.status.busy": "2021-07-04T08:18:12.052119Z",
          "iopub.status.idle": "2021-07-04T08:18:12.056725Z",
          "shell.execute_reply": "2021-07-04T08:18:12.057552Z"
        },
        "id": "G6izh2CRnFSy",
        "outputId": "749caa01-b752-4265-a212-372fc096e25d"
      },
      "source": [
        "ops = concrete_function.graph.get_operations()\n",
        "ops"
      ],
      "execution_count": null,
      "outputs": [
        {
          "data": {
            "text/plain": [
              "[<tf.Operation 'x' type=Placeholder>,\n",
              " <tf.Operation 'pow/y' type=Const>,\n",
              " <tf.Operation 'pow' type=Pow>,\n",
              " <tf.Operation 'Identity' type=Identity>]"
            ]
          },
          "execution_count": 215,
          "metadata": {},
          "output_type": "execute_result"
        }
      ]
    },
    {
      "cell_type": "code",
      "metadata": {
        "colab": {
          "base_uri": "https://localhost:8080/"
        },
        "execution": {
          "iopub.execute_input": "2021-07-04T08:18:12.065323Z",
          "iopub.status.busy": "2021-07-04T08:18:12.064271Z",
          "iopub.status.idle": "2021-07-04T08:18:12.068512Z",
          "shell.execute_reply": "2021-07-04T08:18:12.069401Z"
        },
        "id": "AoSFwR_ynFSy",
        "outputId": "fdd94e28-e51a-4c02-c32a-9b6c659135e1"
      },
      "source": [
        "pow_op = ops[2]\n",
        "list(pow_op.inputs)"
      ],
      "execution_count": null,
      "outputs": [
        {
          "data": {
            "text/plain": [
              "[<tf.Tensor 'x:0' shape=() dtype=float32>,\n",
              " <tf.Tensor 'pow/y:0' shape=() dtype=float32>]"
            ]
          },
          "execution_count": 216,
          "metadata": {},
          "output_type": "execute_result"
        }
      ]
    },
    {
      "cell_type": "code",
      "metadata": {
        "colab": {
          "base_uri": "https://localhost:8080/"
        },
        "execution": {
          "iopub.execute_input": "2021-07-04T08:18:12.076592Z",
          "iopub.status.busy": "2021-07-04T08:18:12.075541Z",
          "iopub.status.idle": "2021-07-04T08:18:12.080084Z",
          "shell.execute_reply": "2021-07-04T08:18:12.080859Z"
        },
        "id": "9Fzk_02ynFSy",
        "outputId": "7d7f5203-6fe3-42d2-9467-632c972e8b15"
      },
      "source": [
        "pow_op.outputs"
      ],
      "execution_count": null,
      "outputs": [
        {
          "data": {
            "text/plain": [
              "[<tf.Tensor 'pow:0' shape=() dtype=float32>]"
            ]
          },
          "execution_count": 217,
          "metadata": {},
          "output_type": "execute_result"
        }
      ]
    },
    {
      "cell_type": "code",
      "metadata": {
        "colab": {
          "base_uri": "https://localhost:8080/"
        },
        "execution": {
          "iopub.execute_input": "2021-07-04T08:18:12.088380Z",
          "iopub.status.busy": "2021-07-04T08:18:12.087383Z",
          "iopub.status.idle": "2021-07-04T08:18:12.091856Z",
          "shell.execute_reply": "2021-07-04T08:18:12.092684Z"
        },
        "id": "aGRFv-VxnFSy",
        "outputId": "380b405d-5e63-4615-a49a-279199d6522e"
      },
      "source": [
        "concrete_function.graph.get_operation_by_name('x')"
      ],
      "execution_count": null,
      "outputs": [
        {
          "data": {
            "text/plain": [
              "<tf.Operation 'x' type=Placeholder>"
            ]
          },
          "execution_count": 218,
          "metadata": {},
          "output_type": "execute_result"
        }
      ]
    },
    {
      "cell_type": "code",
      "metadata": {
        "colab": {
          "base_uri": "https://localhost:8080/"
        },
        "execution": {
          "iopub.execute_input": "2021-07-04T08:18:12.101366Z",
          "iopub.status.busy": "2021-07-04T08:18:12.099700Z",
          "iopub.status.idle": "2021-07-04T08:18:12.105564Z",
          "shell.execute_reply": "2021-07-04T08:18:12.106993Z"
        },
        "id": "COu4KwZSnFSy",
        "outputId": "2e1730e8-18ab-4ce0-fc8c-2d302ea248aa"
      },
      "source": [
        "concrete_function.graph.get_tensor_by_name('Identity:0')"
      ],
      "execution_count": null,
      "outputs": [
        {
          "data": {
            "text/plain": [
              "<tf.Tensor 'Identity:0' shape=() dtype=float32>"
            ]
          },
          "execution_count": 219,
          "metadata": {},
          "output_type": "execute_result"
        }
      ]
    },
    {
      "cell_type": "code",
      "metadata": {
        "colab": {
          "base_uri": "https://localhost:8080/"
        },
        "execution": {
          "iopub.execute_input": "2021-07-04T08:18:12.116483Z",
          "iopub.status.busy": "2021-07-04T08:18:12.114823Z",
          "iopub.status.idle": "2021-07-04T08:18:12.119524Z",
          "shell.execute_reply": "2021-07-04T08:18:12.120359Z"
        },
        "id": "eJy4X6jbnFSy",
        "outputId": "428aa840-dcdc-4e48-fc74-97e458373e99"
      },
      "source": [
        "concrete_function.function_def.signature"
      ],
      "execution_count": null,
      "outputs": [
        {
          "data": {
            "text/plain": [
              "name: \"__inference_cube_1065956\"\n",
              "input_arg {\n",
              "  name: \"x\"\n",
              "  type: DT_FLOAT\n",
              "}\n",
              "output_arg {\n",
              "  name: \"identity\"\n",
              "  type: DT_FLOAT\n",
              "}"
            ]
          },
          "execution_count": 220,
          "metadata": {},
          "output_type": "execute_result"
        }
      ]
    },
    {
      "cell_type": "markdown",
      "metadata": {
        "id": "9Nh2laLOnFSy"
      },
      "source": [
        "### TF 함수가 계산 그래프를 추출하기 위해 파이썬 함수를 트레이싱하는 방법"
      ]
    },
    {
      "cell_type": "code",
      "metadata": {
        "execution": {
          "iopub.execute_input": "2021-07-04T08:18:12.129008Z",
          "iopub.status.busy": "2021-07-04T08:18:12.128011Z",
          "iopub.status.idle": "2021-07-04T08:18:12.131970Z",
          "shell.execute_reply": "2021-07-04T08:18:12.132795Z"
        },
        "id": "SZK5xGMGnFSy"
      },
      "source": [
        "@tf.function\n",
        "def tf_cube(x):\n",
        "    print(\"print:\", x)\n",
        "    return x ** 3"
      ],
      "execution_count": null,
      "outputs": []
    },
    {
      "cell_type": "code",
      "metadata": {
        "colab": {
          "base_uri": "https://localhost:8080/"
        },
        "execution": {
          "iopub.execute_input": "2021-07-04T08:18:12.146742Z",
          "iopub.status.busy": "2021-07-04T08:18:12.139776Z",
          "iopub.status.idle": "2021-07-04T08:18:12.210946Z",
          "shell.execute_reply": "2021-07-04T08:18:12.211878Z"
        },
        "id": "kZa67mMWnFSy",
        "outputId": "da0c33bf-94b3-4889-82a8-ad182f5f7326"
      },
      "source": [
        "result = tf_cube(tf.constant(2.0))"
      ],
      "execution_count": null,
      "outputs": [
        {
          "name": "stdout",
          "output_type": "stream",
          "text": [
            "print: Tensor(\"x:0\", shape=(), dtype=float32)\n"
          ]
        }
      ]
    },
    {
      "cell_type": "code",
      "metadata": {
        "colab": {
          "base_uri": "https://localhost:8080/"
        },
        "execution": {
          "iopub.execute_input": "2021-07-04T08:18:12.218833Z",
          "iopub.status.busy": "2021-07-04T08:18:12.217592Z",
          "iopub.status.idle": "2021-07-04T08:18:12.222986Z",
          "shell.execute_reply": "2021-07-04T08:18:12.223763Z"
        },
        "id": "0MW_WncUnFSy",
        "outputId": "eee3f3d4-a620-4359-f7b3-da5c47d8752b"
      },
      "source": [
        "result"
      ],
      "execution_count": null,
      "outputs": [
        {
          "data": {
            "text/plain": [
              "<tf.Tensor: shape=(), dtype=float32, numpy=8.0>"
            ]
          },
          "execution_count": 223,
          "metadata": {},
          "output_type": "execute_result"
        }
      ]
    },
    {
      "cell_type": "code",
      "metadata": {
        "colab": {
          "base_uri": "https://localhost:8080/"
        },
        "execution": {
          "iopub.execute_input": "2021-07-04T08:18:12.235570Z",
          "iopub.status.busy": "2021-07-04T08:18:12.233860Z",
          "iopub.status.idle": "2021-07-04T08:18:12.290992Z",
          "shell.execute_reply": "2021-07-04T08:18:12.291999Z"
        },
        "id": "N4ejN4cKnFSz",
        "outputId": "432b2eab-eeef-4894-ba6e-a7c32e5ff29c"
      },
      "source": [
        "result = tf_cube(2)\n",
        "result = tf_cube(3)\n",
        "result = tf_cube(tf.constant([[1., 2.]])) # New shape: trace!\n",
        "result = tf_cube(tf.constant([[3., 4.], [5., 6.]])) # New shape: trace!\n",
        "result = tf_cube(tf.constant([[7., 8.], [9., 10.], [11., 12.]])) # New shape: trace!"
      ],
      "execution_count": null,
      "outputs": [
        {
          "name": "stdout",
          "output_type": "stream",
          "text": [
            "print: 2\n",
            "print: 3\n",
            "print: Tensor(\"x:0\", shape=(1, 2), dtype=float32)\n",
            "print: Tensor(\"x:0\", shape=(2, 2), dtype=float32)\n",
            "WARNING:tensorflow:5 out of the last 5 calls to <function tf_cube at 0x7fd47a20fd40> triggered tf.function retracing. Tracing is expensive and the excessive number of tracings could be due to (1) creating @tf.function repeatedly in a loop, (2) passing tensors with different shapes, (3) passing Python objects instead of tensors. For (1), please define your @tf.function outside of the loop. For (2), @tf.function has experimental_relax_shapes=True option that relaxes argument shapes that can avoid unnecessary retracing. For (3), please refer to https://www.tensorflow.org/guide/function#controlling_retracing and https://www.tensorflow.org/api_docs/python/tf/function for  more details.\n"
          ]
        },
        {
          "name": "stderr",
          "output_type": "stream",
          "text": [
            "WARNING:tensorflow:5 out of the last 5 calls to <function tf_cube at 0x7fd47a20fd40> triggered tf.function retracing. Tracing is expensive and the excessive number of tracings could be due to (1) creating @tf.function repeatedly in a loop, (2) passing tensors with different shapes, (3) passing Python objects instead of tensors. For (1), please define your @tf.function outside of the loop. For (2), @tf.function has experimental_relax_shapes=True option that relaxes argument shapes that can avoid unnecessary retracing. For (3), please refer to https://www.tensorflow.org/guide/function#controlling_retracing and https://www.tensorflow.org/api_docs/python/tf/function for  more details.\n"
          ]
        },
        {
          "name": "stdout",
          "output_type": "stream",
          "text": [
            "print: Tensor(\"x:0\", shape=(3, 2), dtype=float32)\n",
            "WARNING:tensorflow:6 out of the last 6 calls to <function tf_cube at 0x7fd47a20fd40> triggered tf.function retracing. Tracing is expensive and the excessive number of tracings could be due to (1) creating @tf.function repeatedly in a loop, (2) passing tensors with different shapes, (3) passing Python objects instead of tensors. For (1), please define your @tf.function outside of the loop. For (2), @tf.function has experimental_relax_shapes=True option that relaxes argument shapes that can avoid unnecessary retracing. For (3), please refer to https://www.tensorflow.org/guide/function#controlling_retracing and https://www.tensorflow.org/api_docs/python/tf/function for  more details.\n"
          ]
        },
        {
          "name": "stderr",
          "output_type": "stream",
          "text": [
            "WARNING:tensorflow:6 out of the last 6 calls to <function tf_cube at 0x7fd47a20fd40> triggered tf.function retracing. Tracing is expensive and the excessive number of tracings could be due to (1) creating @tf.function repeatedly in a loop, (2) passing tensors with different shapes, (3) passing Python objects instead of tensors. For (1), please define your @tf.function outside of the loop. For (2), @tf.function has experimental_relax_shapes=True option that relaxes argument shapes that can avoid unnecessary retracing. For (3), please refer to https://www.tensorflow.org/guide/function#controlling_retracing and https://www.tensorflow.org/api_docs/python/tf/function for  more details.\n"
          ]
        }
      ]
    },
    {
      "cell_type": "markdown",
      "metadata": {
        "id": "OtxmwBibnFSz"
      },
      "source": [
        "특정 입력 시그니처를 지정하는 것도 가능합니다:"
      ]
    },
    {
      "cell_type": "code",
      "metadata": {
        "execution": {
          "iopub.execute_input": "2021-07-04T08:18:12.302653Z",
          "iopub.status.busy": "2021-07-04T08:18:12.301378Z",
          "iopub.status.idle": "2021-07-04T08:18:12.304438Z",
          "shell.execute_reply": "2021-07-04T08:18:12.305373Z"
        },
        "id": "ilXpmEtbnFSz"
      },
      "source": [
        "@tf.function(input_signature=[tf.TensorSpec([None, 28, 28], tf.float32)])\n",
        "def shrink(images):\n",
        "    print(\"트레이싱\", images)\n",
        "    return images[:, ::2, ::2] # 행과 열의 절반을 버립니다"
      ],
      "execution_count": null,
      "outputs": []
    },
    {
      "cell_type": "code",
      "metadata": {
        "execution": {
          "iopub.execute_input": "2021-07-04T08:18:12.313289Z",
          "iopub.status.busy": "2021-07-04T08:18:12.312167Z",
          "iopub.status.idle": "2021-07-04T08:18:12.321014Z",
          "shell.execute_reply": "2021-07-04T08:18:12.320129Z"
        },
        "id": "_SaQ3wV8nFSz"
      },
      "source": [
        "keras.backend.clear_session()\n",
        "np.random.seed(42)\n",
        "tf.random.set_seed(42)"
      ],
      "execution_count": null,
      "outputs": []
    },
    {
      "cell_type": "code",
      "metadata": {
        "colab": {
          "base_uri": "https://localhost:8080/"
        },
        "execution": {
          "iopub.execute_input": "2021-07-04T08:18:12.331311Z",
          "iopub.status.busy": "2021-07-04T08:18:12.330246Z",
          "iopub.status.idle": "2021-07-04T08:18:12.411510Z",
          "shell.execute_reply": "2021-07-04T08:18:12.412508Z"
        },
        "id": "rnZJvhf3nFSz",
        "outputId": "26fca1a2-c0cd-45ea-a39e-6f8b57a519b6"
      },
      "source": [
        "img_batch_1 = tf.random.uniform(shape=[100, 28, 28])\n",
        "img_batch_2 = tf.random.uniform(shape=[50, 28, 28])\n",
        "preprocessed_images = shrink(img_batch_1) # 함수 트레이싱\n",
        "preprocessed_images = shrink(img_batch_2) # 동일한 콘크리트 함수 재사용"
      ],
      "execution_count": null,
      "outputs": [
        {
          "name": "stdout",
          "output_type": "stream",
          "text": [
            "트레이싱 Tensor(\"images:0\", shape=(None, 28, 28), dtype=float32)\n"
          ]
        }
      ]
    },
    {
      "cell_type": "code",
      "metadata": {
        "colab": {
          "base_uri": "https://localhost:8080/"
        },
        "execution": {
          "iopub.execute_input": "2021-07-04T08:18:12.421961Z",
          "iopub.status.busy": "2021-07-04T08:18:12.420578Z",
          "iopub.status.idle": "2021-07-04T08:18:12.427046Z",
          "shell.execute_reply": "2021-07-04T08:18:12.427918Z"
        },
        "id": "g0a7ieyFnFSz",
        "outputId": "18258769-b77b-4d48-ce1e-7457a7a90821"
      },
      "source": [
        "img_batch_3 = tf.random.uniform(shape=[2, 2, 2])\n",
        "try:\n",
        "    preprocessed_images = shrink(img_batch_3)  # 다른 타입이나 크기 거부\n",
        "except ValueError as ex:\n",
        "    print(ex)"
      ],
      "execution_count": null,
      "outputs": [
        {
          "name": "stdout",
          "output_type": "stream",
          "text": [
            "Python inputs incompatible with input_signature:\n",
            "  inputs: (\n",
            "    tf.Tensor(\n",
            "[[[0.7413678  0.62854624]\n",
            "  [0.01738465 0.3431449 ]]\n",
            "\n",
            " [[0.51063764 0.3777541 ]\n",
            "  [0.07321596 0.02137029]]], shape=(2, 2, 2), dtype=float32))\n",
            "  input_signature: (\n",
            "    TensorSpec(shape=(None, 28, 28), dtype=tf.float32, name=None))\n"
          ]
        }
      ]
    },
    {
      "cell_type": "markdown",
      "metadata": {
        "id": "iGEDLTpVnFSz"
      },
      "source": [
        "### 오토그래프를 사용해 제어 흐름 나타내기"
      ]
    },
    {
      "cell_type": "markdown",
      "metadata": {
        "id": "tEAizr5BnFSz"
      },
      "source": [
        "`range()`를  사용한 정적인 `for` 반복:"
      ]
    },
    {
      "cell_type": "code",
      "metadata": {
        "execution": {
          "iopub.execute_input": "2021-07-04T08:18:12.437138Z",
          "iopub.status.busy": "2021-07-04T08:18:12.436013Z",
          "iopub.status.idle": "2021-07-04T08:18:12.439787Z",
          "shell.execute_reply": "2021-07-04T08:18:12.440708Z"
        },
        "id": "XF0hg7XcnFSz"
      },
      "source": [
        "@tf.function\n",
        "def add_10(x):\n",
        "    for i in range(10):\n",
        "        x += 1\n",
        "    return x"
      ],
      "execution_count": null,
      "outputs": []
    },
    {
      "cell_type": "code",
      "metadata": {
        "colab": {
          "base_uri": "https://localhost:8080/"
        },
        "execution": {
          "iopub.execute_input": "2021-07-04T08:18:12.453379Z",
          "iopub.status.busy": "2021-07-04T08:18:12.448072Z",
          "iopub.status.idle": "2021-07-04T08:18:12.573527Z",
          "shell.execute_reply": "2021-07-04T08:18:12.574425Z"
        },
        "id": "_C_KpXXAnFSz",
        "outputId": "ffe73dbb-0a5e-4eb6-f2c0-731a140b6061"
      },
      "source": [
        "add_10(tf.constant(5))"
      ],
      "execution_count": null,
      "outputs": [
        {
          "data": {
            "text/plain": [
              "<tf.Tensor: shape=(), dtype=int32, numpy=15>"
            ]
          },
          "execution_count": 230,
          "metadata": {},
          "output_type": "execute_result"
        }
      ]
    },
    {
      "cell_type": "code",
      "metadata": {
        "colab": {
          "base_uri": "https://localhost:8080/"
        },
        "execution": {
          "iopub.execute_input": "2021-07-04T08:18:12.585088Z",
          "iopub.status.busy": "2021-07-04T08:18:12.583963Z",
          "iopub.status.idle": "2021-07-04T08:18:12.589061Z",
          "shell.execute_reply": "2021-07-04T08:18:12.590033Z"
        },
        "id": "ytBDurUinFSz",
        "outputId": "2a1da7fe-cfca-4344-b09c-1b9ac44df20e"
      },
      "source": [
        "add_10.get_concrete_function(tf.constant(5)).graph.get_operations()"
      ],
      "execution_count": null,
      "outputs": [
        {
          "data": {
            "text/plain": [
              "[<tf.Operation 'x' type=Placeholder>,\n",
              " <tf.Operation 'add/y' type=Const>,\n",
              " <tf.Operation 'add' type=AddV2>,\n",
              " <tf.Operation 'add_1/y' type=Const>,\n",
              " <tf.Operation 'add_1' type=AddV2>,\n",
              " <tf.Operation 'add_2/y' type=Const>,\n",
              " <tf.Operation 'add_2' type=AddV2>,\n",
              " <tf.Operation 'add_3/y' type=Const>,\n",
              " <tf.Operation 'add_3' type=AddV2>,\n",
              " <tf.Operation 'add_4/y' type=Const>,\n",
              " <tf.Operation 'add_4' type=AddV2>,\n",
              " <tf.Operation 'add_5/y' type=Const>,\n",
              " <tf.Operation 'add_5' type=AddV2>,\n",
              " <tf.Operation 'add_6/y' type=Const>,\n",
              " <tf.Operation 'add_6' type=AddV2>,\n",
              " <tf.Operation 'add_7/y' type=Const>,\n",
              " <tf.Operation 'add_7' type=AddV2>,\n",
              " <tf.Operation 'add_8/y' type=Const>,\n",
              " <tf.Operation 'add_8' type=AddV2>,\n",
              " <tf.Operation 'add_9/y' type=Const>,\n",
              " <tf.Operation 'add_9' type=AddV2>,\n",
              " <tf.Operation 'Identity' type=Identity>]"
            ]
          },
          "execution_count": 231,
          "metadata": {},
          "output_type": "execute_result"
        }
      ]
    },
    {
      "cell_type": "markdown",
      "metadata": {
        "id": "cNEX0KW4nFSz"
      },
      "source": [
        "`tf.while_loop()`를 사용한 동적인 반복:"
      ]
    },
    {
      "cell_type": "code",
      "metadata": {
        "execution": {
          "iopub.execute_input": "2021-07-04T08:18:12.602151Z",
          "iopub.status.busy": "2021-07-04T08:18:12.600905Z",
          "iopub.status.idle": "2021-07-04T08:18:12.604577Z",
          "shell.execute_reply": "2021-07-04T08:18:12.605453Z"
        },
        "id": "WmjQ3HJWnFSz"
      },
      "source": [
        "@tf.function\n",
        "def add_10(x):\n",
        "    condition = lambda i, x: tf.less(i, 10)\n",
        "    body = lambda i, x: (tf.add(i, 1), tf.add(x, 1))\n",
        "    final_i, final_x = tf.while_loop(condition, body, [tf.constant(0), x])\n",
        "    return final_x"
      ],
      "execution_count": null,
      "outputs": []
    },
    {
      "cell_type": "code",
      "metadata": {
        "colab": {
          "base_uri": "https://localhost:8080/"
        },
        "execution": {
          "iopub.execute_input": "2021-07-04T08:18:12.613134Z",
          "iopub.status.busy": "2021-07-04T08:18:12.612020Z",
          "iopub.status.idle": "2021-07-04T08:18:12.782863Z",
          "shell.execute_reply": "2021-07-04T08:18:12.784125Z"
        },
        "id": "MTYxWdZanFS0",
        "outputId": "3884b63f-6298-4d96-b5c9-8cf13ee507cf"
      },
      "source": [
        "add_10(tf.constant(5))"
      ],
      "execution_count": null,
      "outputs": [
        {
          "data": {
            "text/plain": [
              "<tf.Tensor: shape=(), dtype=int32, numpy=15>"
            ]
          },
          "execution_count": 233,
          "metadata": {},
          "output_type": "execute_result"
        }
      ]
    },
    {
      "cell_type": "code",
      "metadata": {
        "colab": {
          "base_uri": "https://localhost:8080/"
        },
        "execution": {
          "iopub.execute_input": "2021-07-04T08:18:12.794353Z",
          "iopub.status.busy": "2021-07-04T08:18:12.793301Z",
          "iopub.status.idle": "2021-07-04T08:18:12.797961Z",
          "shell.execute_reply": "2021-07-04T08:18:12.798894Z"
        },
        "id": "7qYJYD_cnFS0",
        "outputId": "3dc3c05c-4f46-48fb-fdee-df40a8299933"
      },
      "source": [
        "add_10.get_concrete_function(tf.constant(5)).graph.get_operations()"
      ],
      "execution_count": null,
      "outputs": [
        {
          "data": {
            "text/plain": [
              "[<tf.Operation 'x' type=Placeholder>,\n",
              " <tf.Operation 'Const' type=Const>,\n",
              " <tf.Operation 'while/maximum_iterations' type=Const>,\n",
              " <tf.Operation 'while/loop_counter' type=Const>,\n",
              " <tf.Operation 'while' type=StatelessWhile>,\n",
              " <tf.Operation 'Identity' type=Identity>]"
            ]
          },
          "execution_count": 234,
          "metadata": {},
          "output_type": "execute_result"
        }
      ]
    },
    {
      "cell_type": "markdown",
      "metadata": {
        "id": "oEcvIYTrnFS0"
      },
      "source": [
        "(오토그래프에 의한) `tf.range()`를 사용한 동적인 `for` 반복:"
      ]
    },
    {
      "cell_type": "code",
      "metadata": {
        "execution": {
          "iopub.execute_input": "2021-07-04T08:18:12.808335Z",
          "iopub.status.busy": "2021-07-04T08:18:12.807158Z",
          "iopub.status.idle": "2021-07-04T08:18:12.810195Z",
          "shell.execute_reply": "2021-07-04T08:18:12.811112Z"
        },
        "id": "s5E-YpJonFS0"
      },
      "source": [
        "@tf.function\n",
        "def add_10(x):\n",
        "    for i in tf.range(10):\n",
        "        x = x + 1\n",
        "    return x"
      ],
      "execution_count": null,
      "outputs": []
    },
    {
      "cell_type": "code",
      "metadata": {
        "colab": {
          "base_uri": "https://localhost:8080/"
        },
        "execution": {
          "iopub.execute_input": "2021-07-04T08:18:12.819555Z",
          "iopub.status.busy": "2021-07-04T08:18:12.818460Z",
          "iopub.status.idle": "2021-07-04T08:18:12.935210Z",
          "shell.execute_reply": "2021-07-04T08:18:12.936071Z"
        },
        "id": "kxac-wYhnFS0",
        "outputId": "2733f1fa-b174-430c-9e49-75b8e85d555a"
      },
      "source": [
        "add_10.get_concrete_function(tf.constant(0)).graph.get_operations()"
      ],
      "execution_count": null,
      "outputs": [
        {
          "data": {
            "text/plain": [
              "[<tf.Operation 'x' type=Placeholder>,\n",
              " <tf.Operation 'range/start' type=Const>,\n",
              " <tf.Operation 'range/limit' type=Const>,\n",
              " <tf.Operation 'range/delta' type=Const>,\n",
              " <tf.Operation 'range' type=Range>,\n",
              " <tf.Operation 'sub' type=Sub>,\n",
              " <tf.Operation 'floordiv' type=FloorDiv>,\n",
              " <tf.Operation 'mod' type=FloorMod>,\n",
              " <tf.Operation 'zeros_like' type=Const>,\n",
              " <tf.Operation 'NotEqual' type=NotEqual>,\n",
              " <tf.Operation 'Cast' type=Cast>,\n",
              " <tf.Operation 'add' type=AddV2>,\n",
              " <tf.Operation 'zeros_like_1' type=Const>,\n",
              " <tf.Operation 'Maximum' type=Maximum>,\n",
              " <tf.Operation 'while/maximum_iterations' type=Const>,\n",
              " <tf.Operation 'while/loop_counter' type=Const>,\n",
              " <tf.Operation 'while' type=StatelessWhile>,\n",
              " <tf.Operation 'Identity' type=Identity>]"
            ]
          },
          "execution_count": 236,
          "metadata": {},
          "output_type": "execute_result"
        }
      ]
    },
    {
      "cell_type": "markdown",
      "metadata": {
        "id": "jKv6EsoMnFS0"
      },
      "source": [
        "### TF 함수에서 변수와 다른 자원 다루기"
      ]
    },
    {
      "cell_type": "code",
      "metadata": {
        "execution": {
          "iopub.execute_input": "2021-07-04T08:18:12.943690Z",
          "iopub.status.busy": "2021-07-04T08:18:12.942848Z",
          "iopub.status.idle": "2021-07-04T08:18:12.948164Z",
          "shell.execute_reply": "2021-07-04T08:18:12.949454Z"
        },
        "id": "8lALRLVnnFS0"
      },
      "source": [
        "counter = tf.Variable(0)\n",
        "\n",
        "@tf.function\n",
        "def increment(counter, c=1):\n",
        "    return counter.assign_add(c)"
      ],
      "execution_count": null,
      "outputs": []
    },
    {
      "cell_type": "code",
      "metadata": {
        "colab": {
          "base_uri": "https://localhost:8080/"
        },
        "execution": {
          "iopub.execute_input": "2021-07-04T08:18:12.962500Z",
          "iopub.status.busy": "2021-07-04T08:18:12.957913Z",
          "iopub.status.idle": "2021-07-04T08:18:13.026064Z",
          "shell.execute_reply": "2021-07-04T08:18:13.026933Z"
        },
        "id": "Rb1pt6VInFS0",
        "outputId": "26bddd04-3f11-4f64-e48e-d2e3e669ac74"
      },
      "source": [
        "increment(counter)\n",
        "increment(counter)"
      ],
      "execution_count": null,
      "outputs": [
        {
          "data": {
            "text/plain": [
              "<tf.Tensor: shape=(), dtype=int32, numpy=2>"
            ]
          },
          "execution_count": 238,
          "metadata": {},
          "output_type": "execute_result"
        }
      ]
    },
    {
      "cell_type": "code",
      "metadata": {
        "colab": {
          "base_uri": "https://localhost:8080/"
        },
        "execution": {
          "iopub.execute_input": "2021-07-04T08:18:13.034814Z",
          "iopub.status.busy": "2021-07-04T08:18:13.033671Z",
          "iopub.status.idle": "2021-07-04T08:18:13.038954Z",
          "shell.execute_reply": "2021-07-04T08:18:13.037986Z"
        },
        "id": "L2hj3cM9nFS1",
        "outputId": "2f6d7af9-b74c-4430-9aab-0923829a23e7"
      },
      "source": [
        "function_def = increment.get_concrete_function(counter).function_def\n",
        "function_def.signature.input_arg[0]"
      ],
      "execution_count": null,
      "outputs": [
        {
          "data": {
            "text/plain": [
              "name: \"counter\"\n",
              "type: DT_RESOURCE"
            ]
          },
          "execution_count": 239,
          "metadata": {},
          "output_type": "execute_result"
        }
      ]
    },
    {
      "cell_type": "code",
      "metadata": {
        "execution": {
          "iopub.execute_input": "2021-07-04T08:18:13.047553Z",
          "iopub.status.busy": "2021-07-04T08:18:13.046451Z",
          "iopub.status.idle": "2021-07-04T08:18:13.050503Z",
          "shell.execute_reply": "2021-07-04T08:18:13.051315Z"
        },
        "id": "6BQEr96bnFS1"
      },
      "source": [
        "counter = tf.Variable(0)\n",
        "\n",
        "@tf.function\n",
        "def increment(c=1):\n",
        "    return counter.assign_add(c)"
      ],
      "execution_count": null,
      "outputs": []
    },
    {
      "cell_type": "code",
      "metadata": {
        "colab": {
          "base_uri": "https://localhost:8080/"
        },
        "execution": {
          "iopub.execute_input": "2021-07-04T08:18:13.062532Z",
          "iopub.status.busy": "2021-07-04T08:18:13.061357Z",
          "iopub.status.idle": "2021-07-04T08:18:13.124305Z",
          "shell.execute_reply": "2021-07-04T08:18:13.125231Z"
        },
        "id": "Iq0eZORHnFS1",
        "outputId": "ccdc723f-af45-4319-97fc-628a6ef2f273"
      },
      "source": [
        "increment()\n",
        "increment()"
      ],
      "execution_count": null,
      "outputs": [
        {
          "data": {
            "text/plain": [
              "<tf.Tensor: shape=(), dtype=int32, numpy=2>"
            ]
          },
          "execution_count": 241,
          "metadata": {},
          "output_type": "execute_result"
        }
      ]
    },
    {
      "cell_type": "code",
      "metadata": {
        "colab": {
          "base_uri": "https://localhost:8080/"
        },
        "execution": {
          "iopub.execute_input": "2021-07-04T08:18:13.132651Z",
          "iopub.status.busy": "2021-07-04T08:18:13.131477Z",
          "iopub.status.idle": "2021-07-04T08:18:13.135757Z",
          "shell.execute_reply": "2021-07-04T08:18:13.136623Z"
        },
        "id": "m3AP7PgGnFS1",
        "outputId": "5d54dc3a-6b79-4528-8084-d96a8e59bfa9"
      },
      "source": [
        "function_def = increment.get_concrete_function().function_def\n",
        "function_def.signature.input_arg[0]"
      ],
      "execution_count": null,
      "outputs": [
        {
          "data": {
            "text/plain": [
              "name: \"assignaddvariableop_resource\"\n",
              "type: DT_RESOURCE"
            ]
          },
          "execution_count": 242,
          "metadata": {},
          "output_type": "execute_result"
        }
      ]
    },
    {
      "cell_type": "code",
      "metadata": {
        "execution": {
          "iopub.execute_input": "2021-07-04T08:18:13.146041Z",
          "iopub.status.busy": "2021-07-04T08:18:13.144979Z",
          "iopub.status.idle": "2021-07-04T08:18:13.148372Z",
          "shell.execute_reply": "2021-07-04T08:18:13.149229Z"
        },
        "id": "ixmvKjGtnFS1"
      },
      "source": [
        "class Counter:\n",
        "    def __init__(self):\n",
        "        self.counter = tf.Variable(0)\n",
        "\n",
        "    @tf.function\n",
        "    def increment(self, c=1):\n",
        "        return self.counter.assign_add(c)"
      ],
      "execution_count": null,
      "outputs": []
    },
    {
      "cell_type": "code",
      "metadata": {
        "colab": {
          "base_uri": "https://localhost:8080/"
        },
        "execution": {
          "iopub.execute_input": "2021-07-04T08:18:13.156955Z",
          "iopub.status.busy": "2021-07-04T08:18:13.155860Z",
          "iopub.status.idle": "2021-07-04T08:18:13.225991Z",
          "shell.execute_reply": "2021-07-04T08:18:13.227379Z"
        },
        "id": "iE07HYZPnFS1",
        "outputId": "f6a42171-4846-4d73-b1b7-34206ff69773"
      },
      "source": [
        "c = Counter()\n",
        "c.increment()\n",
        "c.increment()"
      ],
      "execution_count": null,
      "outputs": [
        {
          "data": {
            "text/plain": [
              "<tf.Tensor: shape=(), dtype=int32, numpy=2>"
            ]
          },
          "execution_count": 244,
          "metadata": {},
          "output_type": "execute_result"
        }
      ]
    },
    {
      "cell_type": "code",
      "metadata": {
        "colab": {
          "base_uri": "https://localhost:8080/"
        },
        "execution": {
          "iopub.execute_input": "2021-07-04T08:18:13.239411Z",
          "iopub.status.busy": "2021-07-04T08:18:13.238495Z",
          "iopub.status.idle": "2021-07-04T08:18:13.324707Z",
          "shell.execute_reply": "2021-07-04T08:18:13.323426Z"
        },
        "id": "rDYlFn4xnFS1",
        "scrolled": true,
        "outputId": "90c634c6-64ae-4ce6-de19-9e4f7bb8e262"
      },
      "source": [
        "@tf.function\n",
        "def add_10(x):\n",
        "    for i in tf.range(10):\n",
        "        x += 1\n",
        "    return x\n",
        "\n",
        "print(tf.autograph.to_code(add_10.python_function))"
      ],
      "execution_count": null,
      "outputs": [
        {
          "name": "stdout",
          "output_type": "stream",
          "text": [
            "def tf__add(x):\n",
            "    with ag__.FunctionScope('add_10', 'fscope', ag__.ConversionOptions(recursive=True, user_requested=True, optional_features=(), internal_convert_user_code=True)) as fscope:\n",
            "        do_return = False\n",
            "        retval_ = ag__.UndefinedReturnValue()\n",
            "\n",
            "        def get_state():\n",
            "            return (x,)\n",
            "\n",
            "        def set_state(vars_):\n",
            "            nonlocal x\n",
            "            (x,) = vars_\n",
            "\n",
            "        def loop_body(itr):\n",
            "            nonlocal x\n",
            "            i = itr\n",
            "            x = ag__.ld(x)\n",
            "            x += 1\n",
            "        i = ag__.Undefined('i')\n",
            "        ag__.for_stmt(ag__.converted_call(ag__.ld(tf).range, (10,), None, fscope), None, loop_body, get_state, set_state, ('x',), {'iterate_names': 'i'})\n",
            "        try:\n",
            "            do_return = True\n",
            "            retval_ = ag__.ld(x)\n",
            "        except:\n",
            "            do_return = False\n",
            "            raise\n",
            "        return fscope.ret(retval_, do_return)\n",
            "\n"
          ]
        }
      ]
    },
    {
      "cell_type": "code",
      "metadata": {
        "execution": {
          "iopub.execute_input": "2021-07-04T08:18:13.335064Z",
          "iopub.status.busy": "2021-07-04T08:18:13.333311Z",
          "iopub.status.idle": "2021-07-04T08:18:13.336906Z",
          "shell.execute_reply": "2021-07-04T08:18:13.338368Z"
        },
        "id": "q5-0PLgtnFS2"
      },
      "source": [
        "def display_tf_code(func):\n",
        "    from IPython.display import display, Markdown\n",
        "    if hasattr(func, \"python_function\"):\n",
        "        func = func.python_function\n",
        "    code = tf.autograph.to_code(func)\n",
        "    display(Markdown('```python\\n{}\\n```'.format(code)))"
      ],
      "execution_count": null,
      "outputs": []
    },
    {
      "cell_type": "code",
      "metadata": {
        "colab": {
          "base_uri": "https://localhost:8080/",
          "height": 486
        },
        "execution": {
          "iopub.execute_input": "2021-07-04T08:18:13.351151Z",
          "iopub.status.busy": "2021-07-04T08:18:13.349941Z",
          "iopub.status.idle": "2021-07-04T08:18:13.355816Z",
          "shell.execute_reply": "2021-07-04T08:18:13.356679Z"
        },
        "id": "QLMou_bhnFS2",
        "outputId": "14751d22-48d1-4fcc-b61d-54558a752b81"
      },
      "source": [
        "display_tf_code(add_10)"
      ],
      "execution_count": null,
      "outputs": [
        {
          "data": {
            "text/markdown": [
              "```python\n",
              "def tf__add(x):\n",
              "    with ag__.FunctionScope('add_10', 'fscope', ag__.ConversionOptions(recursive=True, user_requested=True, optional_features=(), internal_convert_user_code=True)) as fscope:\n",
              "        do_return = False\n",
              "        retval_ = ag__.UndefinedReturnValue()\n",
              "\n",
              "        def get_state():\n",
              "            return (x,)\n",
              "\n",
              "        def set_state(vars_):\n",
              "            nonlocal x\n",
              "            (x,) = vars_\n",
              "\n",
              "        def loop_body(itr):\n",
              "            nonlocal x\n",
              "            i = itr\n",
              "            x = ag__.ld(x)\n",
              "            x += 1\n",
              "        i = ag__.Undefined('i')\n",
              "        ag__.for_stmt(ag__.converted_call(ag__.ld(tf).range, (10,), None, fscope), None, loop_body, get_state, set_state, ('x',), {'iterate_names': 'i'})\n",
              "        try:\n",
              "            do_return = True\n",
              "            retval_ = ag__.ld(x)\n",
              "        except:\n",
              "            do_return = False\n",
              "            raise\n",
              "        return fscope.ret(retval_, do_return)\n",
              "\n",
              "```"
            ],
            "text/plain": [
              "<IPython.core.display.Markdown object>"
            ]
          },
          "metadata": {},
          "output_type": "display_data"
        }
      ]
    },
    {
      "cell_type": "markdown",
      "metadata": {
        "id": "1gFgVxYPnFS2"
      },
      "source": [
        "## tf.keras와 TF 함수를 함께 사용하거나 사용하지 않기"
      ]
    },
    {
      "cell_type": "markdown",
      "metadata": {
        "id": "W1lPoDfknFS2"
      },
      "source": [
        "기본적으로 tf.keras는 자동으로 사용자 정의 코드를 TF 함수로 변환하기 때문에 `tf.function()`을 사용할 필요가 없습니다:"
      ]
    },
    {
      "cell_type": "code",
      "metadata": {
        "execution": {
          "iopub.execute_input": "2021-07-04T08:18:13.364674Z",
          "iopub.status.busy": "2021-07-04T08:18:13.363574Z",
          "iopub.status.idle": "2021-07-04T08:18:13.366662Z",
          "shell.execute_reply": "2021-07-04T08:18:13.367470Z"
        },
        "id": "W2OWiyhpnFS2"
      },
      "source": [
        "# 사용자 손실 함수\n",
        "def my_mse(y_true, y_pred):\n",
        "    print(\"my_mse() 손실 트레이싱\")\n",
        "    return tf.reduce_mean(tf.square(y_pred - y_true))"
      ],
      "execution_count": null,
      "outputs": []
    },
    {
      "cell_type": "code",
      "metadata": {
        "execution": {
          "iopub.execute_input": "2021-07-04T08:18:13.375494Z",
          "iopub.status.busy": "2021-07-04T08:18:13.374453Z",
          "iopub.status.idle": "2021-07-04T08:18:13.377935Z",
          "shell.execute_reply": "2021-07-04T08:18:13.378800Z"
        },
        "id": "-Vw6sZmSnFS2"
      },
      "source": [
        "# 사용자 지표 함수\n",
        "def my_mae(y_true, y_pred):\n",
        "    print(\"my_mae() 지표 트레이싱\")\n",
        "    return tf.reduce_mean(tf.abs(y_pred - y_true))"
      ],
      "execution_count": null,
      "outputs": []
    },
    {
      "cell_type": "code",
      "metadata": {
        "execution": {
          "iopub.execute_input": "2021-07-04T08:18:13.395747Z",
          "iopub.status.busy": "2021-07-04T08:18:13.394310Z",
          "iopub.status.idle": "2021-07-04T08:18:13.397704Z",
          "shell.execute_reply": "2021-07-04T08:18:13.398856Z"
        },
        "id": "i31eB7X0nFS2"
      },
      "source": [
        "# 사용자 정의 층\n",
        "class MyDense(keras.layers.Layer):\n",
        "    def __init__(self, units, activation=None, **kwargs):\n",
        "        super().__init__(**kwargs)\n",
        "        self.units = units\n",
        "        self.activation = keras.activations.get(activation)\n",
        "\n",
        "    def build(self, input_shape):\n",
        "        self.kernel = self.add_weight(name='kernel', \n",
        "                                      shape=(input_shape[1], self.units),\n",
        "                                      initializer='uniform',\n",
        "                                      trainable=True)\n",
        "        self.biases = self.add_weight(name='bias', \n",
        "                                      shape=(self.units,),\n",
        "                                      initializer='zeros',\n",
        "                                      trainable=True)\n",
        "        super().build(input_shape)\n",
        "\n",
        "    def call(self, X):\n",
        "        print(\"MyDense.call() 트레이싱\")\n",
        "        return self.activation(X @ self.kernel + self.biases)"
      ],
      "execution_count": null,
      "outputs": []
    },
    {
      "cell_type": "code",
      "metadata": {
        "execution": {
          "iopub.execute_input": "2021-07-04T08:18:13.406507Z",
          "iopub.status.busy": "2021-07-04T08:18:13.405319Z",
          "iopub.status.idle": "2021-07-04T08:18:13.410643Z",
          "shell.execute_reply": "2021-07-04T08:18:13.411398Z"
        },
        "id": "guEjwBD3nFS2"
      },
      "source": [
        "keras.backend.clear_session()\n",
        "np.random.seed(42)\n",
        "tf.random.set_seed(42)"
      ],
      "execution_count": null,
      "outputs": []
    },
    {
      "cell_type": "code",
      "metadata": {
        "execution": {
          "iopub.execute_input": "2021-07-04T08:18:13.428336Z",
          "iopub.status.busy": "2021-07-04T08:18:13.427336Z",
          "iopub.status.idle": "2021-07-04T08:18:13.436439Z",
          "shell.execute_reply": "2021-07-04T08:18:13.437426Z"
        },
        "id": "GsUahIc4nFS2"
      },
      "source": [
        "# 사용자 정의 모델\n",
        "class MyModel(keras.models.Model):\n",
        "    def __init__(self, **kwargs):\n",
        "        super().__init__(**kwargs)\n",
        "        self.hidden1 = MyDense(30, activation=\"relu\")\n",
        "        self.hidden2 = MyDense(30, activation=\"relu\")\n",
        "        self.output_ = MyDense(1)\n",
        "\n",
        "    def call(self, input):\n",
        "        print(\"MyModel.call() 트레이싱\")\n",
        "        hidden1 = self.hidden1(input)\n",
        "        hidden2 = self.hidden2(hidden1)\n",
        "        concat = keras.layers.concatenate([input, hidden2])\n",
        "        output = self.output_(concat)\n",
        "        return output\n",
        "\n",
        "model = MyModel()"
      ],
      "execution_count": null,
      "outputs": []
    },
    {
      "cell_type": "code",
      "metadata": {
        "execution": {
          "iopub.execute_input": "2021-07-04T08:18:13.455504Z",
          "iopub.status.busy": "2021-07-04T08:18:13.454006Z",
          "iopub.status.idle": "2021-07-04T08:18:13.461364Z",
          "shell.execute_reply": "2021-07-04T08:18:13.460118Z"
        },
        "id": "cXNdmo_ZnFS2"
      },
      "source": [
        "model.compile(loss=my_mse, optimizer=\"nadam\", metrics=[my_mae])"
      ],
      "execution_count": null,
      "outputs": []
    },
    {
      "cell_type": "code",
      "metadata": {
        "colab": {
          "base_uri": "https://localhost:8080/"
        },
        "execution": {
          "iopub.execute_input": "2021-07-04T08:18:13.469768Z",
          "iopub.status.busy": "2021-07-04T08:18:13.468230Z",
          "iopub.status.idle": "2021-07-04T08:18:18.848304Z",
          "shell.execute_reply": "2021-07-04T08:18:18.849388Z"
        },
        "id": "ZiUY_qRjnFS2",
        "outputId": "adb3c763-db1c-4a28-cab4-dc3e6984ae4e"
      },
      "source": [
        "model.fit(X_train_scaled, y_train, epochs=2,\n",
        "          validation_data=(X_valid_scaled, y_valid))\n",
        "model.evaluate(X_test_scaled, y_test)"
      ],
      "execution_count": null,
      "outputs": [
        {
          "name": "stdout",
          "output_type": "stream",
          "text": [
            "Epoch 1/2\n",
            "MyModel.call() 트레이싱\n",
            "MyDense.call() 트레이싱\n",
            "MyDense.call() 트레이싱\n",
            "MyDense.call() 트레이싱\n",
            "my_mse() 손실 트레이싱\n",
            "my_mae() 지표 트레이싱\n",
            "MyModel.call() 트레이싱\n",
            "MyDense.call() 트레이싱\n",
            "MyDense.call() 트레이싱\n",
            "MyDense.call() 트레이싱\n",
            "my_mse() 손실 트레이싱\n",
            "my_mae() 지표 트레이싱\n",
            "353/363 [============================>.] - ETA: 0s - loss: 1.3459 - my_mae: 0.7978MyModel.call() 트레이싱\n",
            "MyDense.call() 트레이싱\n",
            "MyDense.call() 트레이싱\n",
            "MyDense.call() 트레이싱\n",
            "my_mse() 손실 트레이싱\n",
            "my_mae() 지표 트레이싱\n",
            "363/363 [==============================] - 3s 5ms/step - loss: 1.3255 - my_mae: 0.7900 - val_loss: 0.5569 - val_my_mae: 0.4819\n",
            "Epoch 2/2\n",
            "363/363 [==============================] - 1s 4ms/step - loss: 0.4419 - my_mae: 0.4767 - val_loss: 0.4664 - val_my_mae: 0.4576\n",
            "162/162 [==============================] - 0s 2ms/step - loss: 0.4164 - my_mae: 0.4639\n"
          ]
        },
        {
          "data": {
            "text/plain": [
              "[0.4163525104522705, 0.4639028012752533]"
            ]
          },
          "execution_count": 254,
          "metadata": {},
          "output_type": "execute_result"
        }
      ]
    },
    {
      "cell_type": "markdown",
      "metadata": {
        "id": "DqKwtqeZnFS2"
      },
      "source": [
        "`dynamic=True`로 모델을 만들어 이 기능을 끌 수 있습니다(또는 모델의 생성자에서 `super().__init__(dynamic=True, **kwargs)`를 호출합니다):"
      ]
    },
    {
      "cell_type": "code",
      "metadata": {
        "execution": {
          "iopub.execute_input": "2021-07-04T08:18:18.858643Z",
          "iopub.status.busy": "2021-07-04T08:18:18.857470Z",
          "iopub.status.idle": "2021-07-04T08:18:18.866575Z",
          "shell.execute_reply": "2021-07-04T08:18:18.867385Z"
        },
        "id": "RIT3wTOenFS2"
      },
      "source": [
        "keras.backend.clear_session()\n",
        "np.random.seed(42)\n",
        "tf.random.set_seed(42)"
      ],
      "execution_count": null,
      "outputs": []
    },
    {
      "cell_type": "code",
      "metadata": {
        "execution": {
          "iopub.execute_input": "2021-07-04T08:18:18.877147Z",
          "iopub.status.busy": "2021-07-04T08:18:18.875979Z",
          "iopub.status.idle": "2021-07-04T08:18:18.883340Z",
          "shell.execute_reply": "2021-07-04T08:18:18.884263Z"
        },
        "id": "NXF_pU75nFS3"
      },
      "source": [
        "model = MyModel(dynamic=True)"
      ],
      "execution_count": null,
      "outputs": []
    },
    {
      "cell_type": "code",
      "metadata": {
        "execution": {
          "iopub.execute_input": "2021-07-04T08:18:18.902153Z",
          "iopub.status.busy": "2021-07-04T08:18:18.900942Z",
          "iopub.status.idle": "2021-07-04T08:18:18.907182Z",
          "shell.execute_reply": "2021-07-04T08:18:18.908345Z"
        },
        "id": "W1Ijplz0nFS3"
      },
      "source": [
        "model.compile(loss=my_mse, optimizer=\"nadam\", metrics=[my_mae])"
      ],
      "execution_count": null,
      "outputs": []
    },
    {
      "cell_type": "markdown",
      "metadata": {
        "id": "PpNoK8_WnFS3"
      },
      "source": [
        "사용자 정의 코드는 반복마다 호출됩니다. 너무 많이 출력되는 것을 피하기 위해 작은 데이터셋으로 훈련, 검증, 평가해 보겠습니다:"
      ]
    },
    {
      "cell_type": "code",
      "metadata": {
        "colab": {
          "base_uri": "https://localhost:8080/"
        },
        "execution": {
          "iopub.execute_input": "2021-07-04T08:18:18.918530Z",
          "iopub.status.busy": "2021-07-04T08:18:18.917237Z",
          "iopub.status.idle": "2021-07-04T08:18:19.275612Z",
          "shell.execute_reply": "2021-07-04T08:18:19.276677Z"
        },
        "id": "clBvdSLJnFS3",
        "outputId": "7e56c770-cca3-4017-855b-06a8113c64d9"
      },
      "source": [
        "model.fit(X_train_scaled[:64], y_train[:64], epochs=1,\n",
        "          validation_data=(X_valid_scaled[:64], y_valid[:64]), verbose=0)\n",
        "model.evaluate(X_test_scaled[:64], y_test[:64], verbose=0)"
      ],
      "execution_count": null,
      "outputs": [
        {
          "name": "stdout",
          "output_type": "stream",
          "text": [
            "MyModel.call() 트레이싱\n",
            "MyDense.call() 트레이싱\n",
            "MyDense.call() 트레이싱\n",
            "MyDense.call() 트레이싱\n",
            "my_mse() 손실 트레이싱\n",
            "my_mae() 지표 트레이싱\n",
            "MyModel.call() 트레이싱\n",
            "MyDense.call() 트레이싱\n",
            "MyDense.call() 트레이싱\n",
            "MyDense.call() 트레이싱\n",
            "my_mse() 손실 트레이싱\n",
            "my_mae() 지표 트레이싱\n",
            "MyModel.call() 트레이싱\n",
            "MyDense.call() 트레이싱\n",
            "MyDense.call() 트레이싱\n",
            "MyDense.call() 트레이싱\n",
            "my_mse() 손실 트레이싱\n",
            "my_mae() 지표 트레이싱\n",
            "MyModel.call() 트레이싱\n",
            "MyDense.call() 트레이싱\n",
            "MyDense.call() 트레이싱\n",
            "MyDense.call() 트레이싱\n",
            "my_mse() 손실 트레이싱\n",
            "my_mae() 지표 트레이싱\n",
            "MyModel.call() 트레이싱\n",
            "MyDense.call() 트레이싱\n",
            "MyDense.call() 트레이싱\n",
            "MyDense.call() 트레이싱\n",
            "my_mse() 손실 트레이싱\n",
            "my_mae() 지표 트레이싱\n",
            "MyModel.call() 트레이싱\n",
            "MyDense.call() 트레이싱\n",
            "MyDense.call() 트레이싱\n",
            "MyDense.call() 트레이싱\n",
            "my_mse() 손실 트레이싱\n",
            "my_mae() 지표 트레이싱\n"
          ]
        },
        {
          "data": {
            "text/plain": [
              "[5.507259368896484, 2.0566811561584473]"
            ]
          },
          "execution_count": 258,
          "metadata": {},
          "output_type": "execute_result"
        }
      ]
    },
    {
      "cell_type": "markdown",
      "metadata": {
        "id": "NgR_CLQHnFS3"
      },
      "source": [
        "또는 모델을 컴파일할 때 `run_eagerly=True`를 지정합니다:"
      ]
    },
    {
      "cell_type": "code",
      "metadata": {
        "execution": {
          "iopub.execute_input": "2021-07-04T08:18:19.285647Z",
          "iopub.status.busy": "2021-07-04T08:18:19.284388Z",
          "iopub.status.idle": "2021-07-04T08:18:19.289539Z",
          "shell.execute_reply": "2021-07-04T08:18:19.290366Z"
        },
        "id": "dXpvcUGfnFS3"
      },
      "source": [
        "keras.backend.clear_session()\n",
        "np.random.seed(42)\n",
        "tf.random.set_seed(42)"
      ],
      "execution_count": null,
      "outputs": []
    },
    {
      "cell_type": "code",
      "metadata": {
        "execution": {
          "iopub.execute_input": "2021-07-04T08:18:19.300177Z",
          "iopub.status.busy": "2021-07-04T08:18:19.298916Z",
          "iopub.status.idle": "2021-07-04T08:18:19.306169Z",
          "shell.execute_reply": "2021-07-04T08:18:19.307159Z"
        },
        "id": "I6k23xDJnFS3"
      },
      "source": [
        "model = MyModel()"
      ],
      "execution_count": null,
      "outputs": []
    },
    {
      "cell_type": "code",
      "metadata": {
        "execution": {
          "iopub.execute_input": "2021-07-04T08:18:19.323376Z",
          "iopub.status.busy": "2021-07-04T08:18:19.322345Z",
          "iopub.status.idle": "2021-07-04T08:18:19.330227Z",
          "shell.execute_reply": "2021-07-04T08:18:19.328987Z"
        },
        "id": "3L_mdyoknFS3"
      },
      "source": [
        "model.compile(loss=my_mse, optimizer=\"nadam\", metrics=[my_mae], run_eagerly=True)"
      ],
      "execution_count": null,
      "outputs": []
    },
    {
      "cell_type": "code",
      "metadata": {
        "colab": {
          "base_uri": "https://localhost:8080/"
        },
        "execution": {
          "iopub.execute_input": "2021-07-04T08:18:19.339719Z",
          "iopub.status.busy": "2021-07-04T08:18:19.338131Z",
          "iopub.status.idle": "2021-07-04T08:18:19.687021Z",
          "shell.execute_reply": "2021-07-04T08:18:19.688268Z"
        },
        "id": "Zne2esoMnFS3",
        "outputId": "6f5cd521-64d4-4d2e-dae0-c614fd0c2f46"
      },
      "source": [
        "model.fit(X_train_scaled[:64], y_train[:64], epochs=1,\n",
        "          validation_data=(X_valid_scaled[:64], y_valid[:64]), verbose=0)\n",
        "model.evaluate(X_test_scaled[:64], y_test[:64], verbose=0)"
      ],
      "execution_count": null,
      "outputs": [
        {
          "name": "stdout",
          "output_type": "stream",
          "text": [
            "MyModel.call() 트레이싱\n",
            "MyDense.call() 트레이싱\n",
            "MyDense.call() 트레이싱\n",
            "MyDense.call() 트레이싱\n",
            "my_mse() 손실 트레이싱\n",
            "my_mae() 지표 트레이싱\n",
            "MyModel.call() 트레이싱\n",
            "MyDense.call() 트레이싱\n",
            "MyDense.call() 트레이싱\n",
            "MyDense.call() 트레이싱\n",
            "my_mse() 손실 트레이싱\n",
            "my_mae() 지표 트레이싱\n",
            "MyModel.call() 트레이싱\n",
            "MyDense.call() 트레이싱\n",
            "MyDense.call() 트레이싱\n",
            "MyDense.call() 트레이싱\n",
            "my_mse() 손실 트레이싱\n",
            "my_mae() 지표 트레이싱\n",
            "MyModel.call() 트레이싱\n",
            "MyDense.call() 트레이싱\n",
            "MyDense.call() 트레이싱\n",
            "MyDense.call() 트레이싱\n",
            "my_mse() 손실 트레이싱\n",
            "my_mae() 지표 트레이싱\n",
            "MyModel.call() 트레이싱\n",
            "MyDense.call() 트레이싱\n",
            "MyDense.call() 트레이싱\n",
            "MyDense.call() 트레이싱\n",
            "my_mse() 손실 트레이싱\n",
            "my_mae() 지표 트레이싱\n",
            "MyModel.call() 트레이싱\n",
            "MyDense.call() 트레이싱\n",
            "MyDense.call() 트레이싱\n",
            "MyDense.call() 트레이싱\n",
            "my_mse() 손실 트레이싱\n",
            "my_mae() 지표 트레이싱\n"
          ]
        },
        {
          "data": {
            "text/plain": [
              "[5.507259368896484, 2.0566811561584473]"
            ]
          },
          "execution_count": 262,
          "metadata": {},
          "output_type": "execute_result"
        }
      ]
    },
    {
      "cell_type": "markdown",
      "metadata": {
        "id": "w8yHh6uVnFS3"
      },
      "source": [
        "## 사용자 정의 옵티마이저"
      ]
    },
    {
      "cell_type": "code",
      "metadata": {
        "execution": {
          "iopub.execute_input": "2021-07-04T08:18:19.712137Z",
          "iopub.status.busy": "2021-07-04T08:18:19.710793Z",
          "iopub.status.idle": "2021-07-04T08:18:19.713978Z",
          "shell.execute_reply": "2021-07-04T08:18:19.715041Z"
        },
        "id": "cu5eHM8NnFS3"
      },
      "source": [
        "class MyMomentumOptimizer(keras.optimizers.Optimizer):\n",
        "    def __init__(self, learning_rate=0.001, momentum=0.9, name=\"MyMomentumOptimizer\", **kwargs):\n",
        "        \"\"\"super().__init__()를 호출하고 _set_hyper()를 사용해 하이퍼파라미터를 저장합니다\"\"\"\n",
        "        super().__init__(name, **kwargs)\n",
        "        self._set_hyper(\"learning_rate\", kwargs.get(\"lr\", learning_rate)) # lr=learning_rate을 처리\n",
        "        self._set_hyper(\"decay\", self._initial_decay) # \n",
        "        self._set_hyper(\"momentum\", momentum)\n",
        "    \n",
        "    def _create_slots(self, var_list):\n",
        "        \"\"\"모델 파라미터마다 연관된 옵티마이저 변수를 만듭니다.\n",
        "        텐서플로는 이런 옵티마이저 변수를 '슬롯'이라고 부릅니다.\n",
        "        모멘텀 옵티마이저에서는 모델 파라미터마다 하나의 모멘텀 슬롯이 필요합니다.\n",
        "        \"\"\"\n",
        "        for var in var_list:\n",
        "            self.add_slot(var, \"momentum\")\n",
        "\n",
        "    @tf.function\n",
        "    def _resource_apply_dense(self, grad, var):\n",
        "        \"\"\"슬롯을 업데이트하고 모델 파라미터에 대한 옵티마이저 스텝을 수행합니다.\n",
        "        \"\"\"\n",
        "        var_dtype = var.dtype.base_dtype\n",
        "        lr_t = self._decayed_lr(var_dtype) # 학습률 감쇠 처리\n",
        "        momentum_var = self.get_slot(var, \"momentum\")\n",
        "        momentum_hyper = self._get_hyper(\"momentum\", var_dtype)\n",
        "        momentum_var.assign(momentum_var * momentum_hyper - (1. - momentum_hyper)* grad)\n",
        "        var.assign_add(momentum_var * lr_t)\n",
        "\n",
        "    def _resource_apply_sparse(self, grad, var):\n",
        "        raise NotImplementedError\n",
        "\n",
        "    def get_config(self):\n",
        "        base_config = super().get_config()\n",
        "        return {\n",
        "            **base_config,\n",
        "            \"learning_rate\": self._serialize_hyperparameter(\"learning_rate\"),\n",
        "            \"decay\": self._serialize_hyperparameter(\"decay\"),\n",
        "            \"momentum\": self._serialize_hyperparameter(\"momentum\"),\n",
        "        }"
      ],
      "execution_count": null,
      "outputs": []
    },
    {
      "cell_type": "code",
      "metadata": {
        "execution": {
          "iopub.execute_input": "2021-07-04T08:18:19.723704Z",
          "iopub.status.busy": "2021-07-04T08:18:19.722551Z",
          "iopub.status.idle": "2021-07-04T08:18:19.727526Z",
          "shell.execute_reply": "2021-07-04T08:18:19.728330Z"
        },
        "id": "9a-d3UwinFS3"
      },
      "source": [
        "keras.backend.clear_session()\n",
        "np.random.seed(42)\n",
        "tf.random.set_seed(42)"
      ],
      "execution_count": null,
      "outputs": []
    },
    {
      "cell_type": "code",
      "metadata": {
        "colab": {
          "base_uri": "https://localhost:8080/"
        },
        "execution": {
          "iopub.execute_input": "2021-07-04T08:18:19.741747Z",
          "iopub.status.busy": "2021-07-04T08:18:19.740680Z",
          "iopub.status.idle": "2021-07-04T08:18:24.082650Z",
          "shell.execute_reply": "2021-07-04T08:18:24.083732Z"
        },
        "id": "JPvzY12KnFS3",
        "scrolled": false,
        "outputId": "4ba0634f-8c25-4bce-9771-0ee48530b439"
      },
      "source": [
        "model = keras.models.Sequential([keras.layers.Dense(1, input_shape=[8])])\n",
        "model.compile(loss=\"mse\", optimizer=MyMomentumOptimizer())\n",
        "model.fit(X_train_scaled, y_train, epochs=5)"
      ],
      "execution_count": null,
      "outputs": [
        {
          "name": "stdout",
          "output_type": "stream",
          "text": [
            "Epoch 1/5\n",
            "363/363 [==============================] - 1s 2ms/step - loss: 3.8128\n",
            "Epoch 2/5\n",
            "363/363 [==============================] - 1s 2ms/step - loss: 1.4877\n",
            "Epoch 3/5\n",
            "363/363 [==============================] - 1s 2ms/step - loss: 0.9162\n",
            "Epoch 4/5\n",
            "363/363 [==============================] - 1s 2ms/step - loss: 0.7587\n",
            "Epoch 5/5\n",
            "363/363 [==============================] - 1s 2ms/step - loss: 0.7050\n"
          ]
        },
        {
          "data": {
            "text/plain": [
              "<keras.callbacks.History at 0x7fd478dd75d0>"
            ]
          },
          "execution_count": 265,
          "metadata": {},
          "output_type": "execute_result"
        }
      ]
    }
  ]
}